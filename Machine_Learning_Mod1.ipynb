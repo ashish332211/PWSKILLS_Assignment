{
 "cells": [
  {
   "cell_type": "markdown",
   "id": "33adde0d",
   "metadata": {},
   "source": [
    "1. Explain the differences between AI, ML, Deep Learning (DL), and Data Science (DS).\n"
   ]
  },
  {
   "cell_type": "markdown",
   "id": "af5f3d97",
   "metadata": {},
   "source": [
    "a. Artificial Intelligence (AI):\n",
    "* AI is the overarching field of creating machines that can perform tasks that typically require human intelligence. according to the Applied AI Course. \n",
    "* This includes capabilities like reasoning, learning, problem-solving, and decision-making. \n",
    "* AI is a broad concept and can encompass various approaches, including rule-based systems and machine learning. \n",
    "* AI aims to make machines intelligent and capable of performing tasks as humans do.\n",
    "* AI can be classified into weak AI (narrow tasks like chatbots), strong AI (general intelligence like humans), and super AI (beyond human intelligence, still theoretical)Applications include robotics, healthcare diagnosis, virtual assistants, and recommendation systems.\n",
    "\n",
    "b. Machine Learning (ML):\n",
    "* Machine learning (ML) is a subset of artificial intelligence where it enables machines to analyze data, identify patterns, and make predictions or decisions based on that data, much like humans learn from their experiences.    \n",
    "* ML algorithms learn from experience, improving their performance over time as they are exposed to more data. \n",
    "* Unlike traditional programming, ML adapts automatically with new data, making it powerful for dynamic environments. In short, ML is about teaching computers to learn and adapt from experience, not just rules.\n",
    "* Examples of ML include spam filtering, image recognition, and recommendation systems. \n",
    "\n",
    "c. Deep Learning (DL):\n",
    "* DL is a specialized subset of ML that utilizes artificial neural networks with multiple layers (deep neural networks) to analyze complex data. \n",
    "* DL excels at tasks that require recognizing intricate patterns in large datasets, like image and speech recognition. \n",
    "* DL reduces the need for manual feature engineering by allowing networks to learn representations automatically.\n",
    "* Applications include self-driving cars, face recognition, chatbots, and voice assistants. Deep Learning is essentially the engine of modern AI breakthroughs, thanks to its scalability.\n",
    "\n",
    "d. Data Science (DS):\n",
    "* Data Science (DS) is the interdisciplinary field that focuses on collecting, cleaning, analyzing, and interpreting data to uncover insights and support decision-making. It integrates mathematics, statistics, programming, and domain knowledge.\n",
    "* It involves various techniques, including statistics, machine learning, data mining, and visualization, to analyze data and solve problems. \n",
    "* Data Science is not just about building models but also about understanding the context of the data and communicating the findings effectively. \n",
    "* It uses AI and ML techniques as tools to analyze data and make predictions. \n"
   ]
  },
  {
   "cell_type": "markdown",
   "id": "0a5ecab6",
   "metadata": {},
   "source": [
    "2. What are the types of machine learning? Describe each with one real-world example. "
   ]
  },
  {
   "cell_type": "markdown",
   "id": "a341e4cd",
   "metadata": {},
   "source": [
    "Types of Machine Learning\n",
    "\n",
    "Machine learning primarily encompasses three core types based on the nature of the data and the learning process involved:\n",
    "\n",
    "* Supervised Machine Learning\n",
    "\n",
    "Supervised learning is a type of machine learning where a model is trained using labeled data, meaning the input and the correct output are already known. The algorithm learns the relationship between the input and output so that it can make accurate predictions for new, unseen data. It is called “supervised” because the learning process is guided by the correct answers, just like a teacher supervising a student. Common applications of supervised learning include predicting continuous values such as house prices (regression) and classifying data into categories such as spam vs. non-spam emails or identifying objects in images (classification).\n",
    "\n",
    "    Ex:- Email spam filters use supervised learning to classify emails as \"spam\" or \"not spam\" based on historical labeled emails, allowing them to filter future incoming emails. \n",
    "\n",
    "* Unsupervised Machine Learning\n",
    "\n",
    "Unsupervised learning is a type of machine learning technique in which an algorithm discovers patterns and relationships using unlabeled data. Unlike supervised learning, unsupervised learning doesn't involve providing the algorithm with labeled target outputs. The primary goal of Unsupervised learning is often to discover hidden patterns, similarities, or clusters within the data, which can then be used for various purposes, such as data exploration, visualization, dimensionality reduction, and more. Unlike supervised learning, it doesn’t predict specific outcomes but helps in understanding data structure. Algorithms include K-Means clustering, hierarchical clustering, and Principal Component Analysis (PCA).\n",
    "\n",
    "    Ex:- E-commerce companies use unsupervised learning for customer segmentation. By analyzing shopping behaviors, the algorithm groups customers with similar purchasing habits, enabling personalized recommendations, targeted marketing, and improved customer experience.\n",
    "\n",
    "\n",
    "* Reinforcement Learning\n",
    "\n",
    "Reinforcement machine learningalgorithm is a learning method that interacts with the environment by producing actions and discovering errors. Trial, error, and delay are the most relevant characteristics of reinforcement learning. In this technique, the model keeps on increasing its performance using Reward Feedback to learn the behavior or pattern. These algorithms are specific to a particular problem e.g. Google Self Driving car, AlphaGo where a bot competes with humans and even itself to get better and better performers in Go Game. Each time we feed in data, they learn and add the data to their knowledge which is training data. So, the more it learns the better it gets trained and hence experienced. \n",
    "\n",
    "    Ex:- In self-driving cars, reinforcement learning helps the car learn how to navigate roads safely by adjusting speed, steering, and braking. Rewards come from safe driving, while penalties occur during mistakes\n",
    "\n",
    "* Semi-Supervised Learning\n",
    "\n",
    "Semi-supervised learning combines the strengths of supervised and unsupervised learning. It works on datasets that are partially labeled—only a small portion of data has outputs, while the rest is unlabeled. The algorithm uses the labeled data to guide learning and the unlabeled data to improve accuracy. This is useful when labeling data is expensive or time-consuming.\n",
    "\n",
    "    Ex:- In medical diagnosis, only a few patient records may be labeled with diseases, while most remain unlabeled. Semi-supervised learning helps train models to classify diseases more effectively, improving accuracy with minimal labeled data.\n"
   ]
  },
  {
   "cell_type": "markdown",
   "id": "d328e7ad",
   "metadata": {},
   "source": [
    "3. Define overfitting, underfitting, and the bias-variance tradeoff in machine learning."
   ]
  },
  {
   "cell_type": "markdown",
   "id": "f2cc2dd7",
   "metadata": {},
   "source": [
    "* Overfitting\n",
    "\n",
    "Overfitting in machine learning occurs when a model learns too much from the training data, including its noise and irrelevant details, But it performs very poorly on new test data or unseen data. Essentially, the model \"memorizes\" the training data instead of generalizing the underlying patterns, leading to high accuracy on the training set but low accuracy on the test set.\n",
    "\n",
    "Ex:- If you understand the concepts, you can solve any new question. But if you only memorize the practice questions, you’ll score well on the same questions but fail when a new one comes.\n",
    "\n",
    "Reasons for Overfitting:\n",
    "\n",
    "i. High variance and low bias.\n",
    "ii. The model is too complex.\n",
    "iii. The size of the training data.\n",
    "\n",
    "* Underfitting\n",
    "\n",
    "Underfitting in machine learning occurs when a model is too simple to capture the underlying patterns in the training data, but leading to poor performance on both the training data and new, unseen data.\n",
    "\n",
    "Ex:- Imagine you are preparing for an exam. If you only read the chapter titles without studying the details, you won’t understand the subject. You will fail both in practice tests (training data) and in the real exam (test data)\n",
    "\n",
    "Note: The underfitting model has High bias and low variance.\n",
    "\n",
    "Reasons for Underfitting:\n",
    "\n",
    "i. The model is too simple, So it may be not capable to represent the complexities in the data.\n",
    "ii. The input features which is used to train the model is not the adequate representations of underlying factors influencing the target variable.\n",
    "iii. The size of the training dataset used is not enough.\n",
    "iv. Excessive regularization are used to prevent the overfitting, which constraint the model to capture the data well.\n",
    "v. Features are not scaled.\n",
    "\n",
    "* Bias-Variance trade-off\n",
    "\n",
    "Bias and variance are two key sources of error in machine learning models that directly impact their performance and generalization ability.\n",
    "\n",
    "Bias: is the error that happens when a machine learning model is too simple and doesn't learn enough details from the data. It's like assuming all birds can only be small and fly, so the model fails to recognize big birds like ostriches or penguins that can't fly and get biased with predictions. High bias = underfitting.\n",
    "\n",
    "These assumptions make the model easier to train but may prevent it from capturing the underlying complexities of the data.\n",
    "\n",
    "High bias typically leads to underfitting, where the model performs poorly on both training and testing data because it fails to learn enough from the data.\n",
    "\n",
    "Example: A linear regression model applied to a dataset with a non-linear relationship.\n",
    "\n",
    "\n",
    "Variance: Error that happens when a machine learning model learns too much from the data, including random noise. High variance = overfitting.\n",
    "\n",
    "A high-variance model learns not only the patterns but also the noise in the training data, which leads to poor generalization on unseen data.\n",
    "High variance typically leads to overfitting, where the model performs well on training data but poorly on testing data"
   ]
  },
  {
   "cell_type": "markdown",
   "id": "b5f53c7d",
   "metadata": {},
   "source": [
    "4. What are outliers in a dataset, and list three common techniques for handling them."
   ]
  },
  {
   "cell_type": "markdown",
   "id": "2439c20b",
   "metadata": {},
   "source": [
    "* Outliers\n",
    "\n",
    "Outliers in a dataset are data points that significantly deviate from the general pattern or distribution of the other observations. These extreme values can be either unusually high or unusually low compared to the rest of the data. They can arise from various sources, including measurement errors, data entry mistakes, or genuinely rare and extreme events.\n",
    "\n",
    "Three common techniques to handle outliers:\n",
    "\n",
    "Removal – If some data points are extreme because of mistakes (like typing 10000 instead of 100), we can simply delete them. This is useful when the outlier is clearly an error and doesn’t represent real data.\n",
    "\n",
    "Transformation – Sometimes, instead of removing outliers, we can reduce their impact by applying mathematical changes. For example, taking the logarithm, square root, or normalizing values makes very large numbers smaller and less influential on the model.\n",
    "\n",
    "Imputation/Replacement – If we cannot remove outliers, we replace them with more reasonable values. For example, replacing an extreme salary with the average (mean), middle value (median), or setting a maximum/minimum limit so no value goes beyond a certain range (winsorization)."
   ]
  },
  {
   "cell_type": "markdown",
   "id": "28e4c9c3",
   "metadata": {},
   "source": [
    "5. Explain the process of handling missing values and mention one imputation technique for numerical and one for categorical data."
   ]
  },
  {
   "cell_type": "markdown",
   "id": "3911ccb3",
   "metadata": {},
   "source": [
    "* Process of handling missing values\n",
    "\n",
    "Handling missing values is a crucial step in data preprocessing, aimed at addressing incomplete data within a dataset. The process typically involves identifying the missing values, understanding their patterns (e.g., Missing At Random, Missing Not At Random), and then deciding on an appropriate strategy for dealing with them, which can include deletion or imputation.\n",
    "\n",
    "i. Identify – Check which columns/rows have missing data.\n",
    "\n",
    "ii. Analyze – See how much data is missing (small %, large %).\n",
    "\n",
    "iii. Decide – If very few values are missing, you might remove them. If many are missing, you use imputation (filling them with substitutes).\n",
    "\n",
    "iv. Apply – Choose the right method depending on whether the data is numerical (numbers) or categorical (labels).\n",
    "\n",
    "* Imputation technique for numerical and one for categorical data.\n",
    "\n",
    "For numerical data: Replace missing values with the mean or median of that column. \n",
    "\n",
    "Example: If salaries are [30k, 40k, NaN, 50k], replace the missing one with the average (40k). \n",
    "\n",
    "For categorical data: Replace missing values with the mode (most frequent category). \n",
    "\n",
    "Example: If colors are [Red, Blue, NaN, Red], replace the missing one with “Red” since it occurs most often."
   ]
  },
  {
   "cell_type": "code",
   "execution_count": null,
   "id": "9bc4d2f6",
   "metadata": {},
   "outputs": [
    {
     "data": {
      "text/html": [
       "<div>\n",
       "<style scoped>\n",
       "    .dataframe tbody tr th:only-of-type {\n",
       "        vertical-align: middle;\n",
       "    }\n",
       "\n",
       "    .dataframe tbody tr th {\n",
       "        vertical-align: top;\n",
       "    }\n",
       "\n",
       "    .dataframe thead th {\n",
       "        text-align: right;\n",
       "    }\n",
       "</style>\n",
       "<table border=\"1\" class=\"dataframe\">\n",
       "  <thead>\n",
       "    <tr style=\"text-align: right;\">\n",
       "      <th></th>\n",
       "      <th>Salary</th>\n",
       "      <th>Color</th>\n",
       "    </tr>\n",
       "  </thead>\n",
       "  <tbody>\n",
       "    <tr>\n",
       "      <th>0</th>\n",
       "      <td>30000.0</td>\n",
       "      <td>Red</td>\n",
       "    </tr>\n",
       "    <tr>\n",
       "      <th>1</th>\n",
       "      <td>40000.0</td>\n",
       "      <td>Blue</td>\n",
       "    </tr>\n",
       "    <tr>\n",
       "      <th>2</th>\n",
       "      <td>NaN</td>\n",
       "      <td>NaN</td>\n",
       "    </tr>\n",
       "    <tr>\n",
       "      <th>3</th>\n",
       "      <td>50000.0</td>\n",
       "      <td>Red</td>\n",
       "    </tr>\n",
       "  </tbody>\n",
       "</table>\n",
       "</div>"
      ],
      "text/plain": [
       "    Salary Color\n",
       "0  30000.0   Red\n",
       "1  40000.0  Blue\n",
       "2      NaN   NaN\n",
       "3  50000.0   Red"
      ]
     },
     "execution_count": 4,
     "metadata": {},
     "output_type": "execute_result"
    }
   ],
   "source": [
    "import pandas as pd\n",
    "import numpy as np\n",
    "\n",
    "# Sample dataset with missing values\n",
    "data = {\n",
    "    'Salary': [30000, 40000, np.nan, 50000],      # Numerical column\n",
    "    'Color': ['Red', 'Blue', np.nan, 'Red']       # Categorical column\n",
    "}\n",
    "\n",
    "df = pd.DataFrame(data)\n",
    "df"
   ]
  },
  {
   "cell_type": "code",
   "execution_count": 5,
   "id": "a5d072da",
   "metadata": {},
   "outputs": [
    {
     "name": "stdout",
     "output_type": "stream",
     "text": [
      "\n",
      "DataFrame after Imputation:\n"
     ]
    },
    {
     "data": {
      "text/html": [
       "<div>\n",
       "<style scoped>\n",
       "    .dataframe tbody tr th:only-of-type {\n",
       "        vertical-align: middle;\n",
       "    }\n",
       "\n",
       "    .dataframe tbody tr th {\n",
       "        vertical-align: top;\n",
       "    }\n",
       "\n",
       "    .dataframe thead th {\n",
       "        text-align: right;\n",
       "    }\n",
       "</style>\n",
       "<table border=\"1\" class=\"dataframe\">\n",
       "  <thead>\n",
       "    <tr style=\"text-align: right;\">\n",
       "      <th></th>\n",
       "      <th>Salary</th>\n",
       "      <th>Color</th>\n",
       "    </tr>\n",
       "  </thead>\n",
       "  <tbody>\n",
       "    <tr>\n",
       "      <th>0</th>\n",
       "      <td>30000.0</td>\n",
       "      <td>Red</td>\n",
       "    </tr>\n",
       "    <tr>\n",
       "      <th>1</th>\n",
       "      <td>40000.0</td>\n",
       "      <td>Blue</td>\n",
       "    </tr>\n",
       "    <tr>\n",
       "      <th>2</th>\n",
       "      <td>40000.0</td>\n",
       "      <td>Red</td>\n",
       "    </tr>\n",
       "    <tr>\n",
       "      <th>3</th>\n",
       "      <td>50000.0</td>\n",
       "      <td>Red</td>\n",
       "    </tr>\n",
       "  </tbody>\n",
       "</table>\n",
       "</div>"
      ],
      "text/plain": [
       "    Salary Color\n",
       "0  30000.0   Red\n",
       "1  40000.0  Blue\n",
       "2  40000.0   Red\n",
       "3  50000.0   Red"
      ]
     },
     "execution_count": 5,
     "metadata": {},
     "output_type": "execute_result"
    }
   ],
   "source": [
    "# --- Handling missing values ---\n",
    "\n",
    "# 1. Numerical data (Salary) → Replace NaN with mean\n",
    "mean_salary = df['Salary'].mean()\n",
    "df['Salary'].fillna(mean_salary, inplace=True)\n",
    "\n",
    "# 2. Categorical data (Color) → Replace NaN with mode\n",
    "mode_color = df['Color'].mode()[0]   # mode() returns a Series, so take first value\n",
    "df['Color'].fillna(mode_color, inplace=True)\n",
    "\n",
    "print(\"\\nDataFrame after Imputation:\")\n",
    "df"
   ]
  },
  {
   "cell_type": "markdown",
   "id": "7ac02a4a",
   "metadata": {},
   "source": [
    "6. Write a Python program that: \n",
    "\n",
    "● Creates a synthetic imbalanced dataset with make_classification() from \n",
    "sklearn.datasets. \n",
    "\n",
    "● Prints the class distribution."
   ]
  },
  {
   "cell_type": "code",
   "execution_count": 6,
   "id": "80e410ce",
   "metadata": {},
   "outputs": [
    {
     "name": "stdout",
     "output_type": "stream",
     "text": [
      "Class distribution: Counter({0: 896, 1: 104})\n"
     ]
    }
   ],
   "source": [
    "from sklearn.datasets import make_classification\n",
    "from collections import Counter\n",
    "\n",
    "# Create a synthetic imbalanced dataset\n",
    "X, y = make_classification(n_samples=1000,       # total samples\n",
    "                           n_features=2,         # number of features\n",
    "                           n_informative=2,      # useful features\n",
    "                           n_redundant=0,        # no redundant features\n",
    "                           n_clusters_per_class=1,\n",
    "                           weights=[0.90],       # 90% class 0, 10% class 1\n",
    "                           random_state=42)\n",
    "\n",
    "# Print class distribution\n",
    "class_distribution = Counter(y)\n",
    "print(\"Class distribution:\", class_distribution)"
   ]
  },
  {
   "cell_type": "markdown",
   "id": "9c5be933",
   "metadata": {},
   "source": [
    "7. Implement one-hot encoding using pandas for the following list of colors: \n",
    "\n",
    "['Red', 'Green', 'Blue', 'Green', 'Red']. Print the resulting dataframe. "
   ]
  },
  {
   "cell_type": "code",
   "execution_count": 9,
   "id": "f1ae0543",
   "metadata": {},
   "outputs": [
    {
     "name": "stdout",
     "output_type": "stream",
     "text": [
      "Original DataFrame:\n",
      "   Color\n",
      "0    Red\n",
      "1  Green\n",
      "2   Blue\n",
      "3  Green\n",
      "4    Red\n",
      "\n",
      "One-Hot Encoded DataFrame:\n",
      "   Color_Blue  Color_Green  Color_Red\n",
      "0       False        False       True\n",
      "1       False         True      False\n",
      "2        True        False      False\n",
      "3       False         True      False\n",
      "4       False        False       True\n"
     ]
    }
   ],
   "source": [
    "import pandas as pd\n",
    "\n",
    "# Original list of colors\n",
    "colors = ['Red', 'Green', 'Blue', 'Green', 'Red']\n",
    "\n",
    "# Convert to DataFrame\n",
    "df = pd.DataFrame({'Color': colors})\n",
    "\n",
    "# Apply one-hot encoding\n",
    "one_hot = pd.get_dummies(df, columns=['Color'])\n",
    "\n",
    "# Print result\n",
    "print(\"Original DataFrame:\")\n",
    "print(df)\n",
    "print(\"\\nOne-Hot Encoded DataFrame:\")\n",
    "print(one_hot)\n"
   ]
  },
  {
   "cell_type": "markdown",
   "id": "85c14257",
   "metadata": {},
   "source": [
    "8. Write a Python script to: \n",
    "\n",
    "● Generate 1000 samples from a normal distribution. \n",
    "● Introduce 50 random missing values. \n",
    "● Fill missing values with the column mean. \n",
    "● Plot a histogram before and after imputation."
   ]
  },
  {
   "cell_type": "code",
   "execution_count": 7,
   "id": "12e96367",
   "metadata": {},
   "outputs": [
    {
     "data": {
      "image/png": "[encoded data removed]",
      "text/plain": [
       "<Figure size 1200x500 with 2 Axes>"
      ]
     },
     "metadata": {},
     "output_type": "display_data"
    }
   ],
   "source": [
    "import numpy as np\n",
    "import matplotlib.pyplot as plt\n",
    "\n",
    "# 1. Generate 1000 samples from a normal distribution\n",
    "data = np.random.normal(loc=50, scale=10, size=1000)  # mean=50, std=10\n",
    "\n",
    "# 2. Introduce 50 random missing values\n",
    "missing_indices = np.random.choice(1000, 50, replace=False)  # choose 50 random positions\n",
    "data_with_nan = data.copy()\n",
    "data_with_nan[missing_indices] = np.nan  # insert NaN values\n",
    "\n",
    "# 3. Fill missing values with the column mean\n",
    "mean_value = np.nanmean(data_with_nan)   # mean without considering NaN\n",
    "data_imputed = np.where(np.isnan(data_with_nan), mean_value, data_with_nan)\n",
    "\n",
    "# 4. Plot histograms before and after imputation\n",
    "plt.figure(figsize=(12,5))\n",
    "\n",
    "# Before imputation\n",
    "plt.subplot(1,2,1)\n",
    "plt.hist(data_with_nan[~np.isnan(data_with_nan)], bins=30, alpha=0.7, color='blue')\n",
    "plt.title(\"Before Imputation (with missing values)\")\n",
    "plt.xlabel(\"Value\")\n",
    "plt.ylabel(\"Frequency\")\n",
    "\n",
    "# After imputation\n",
    "plt.subplot(1,2,2)\n",
    "plt.hist(data_imputed, bins=30, alpha=0.7, color='green')\n",
    "plt.title(\"After Imputation (filled with mean)\")\n",
    "plt.xlabel(\"Value\")\n",
    "plt.ylabel(\"Frequency\")\n",
    "\n",
    "plt.tight_layout()\n",
    "plt.show()\n"
   ]
  },
  {
   "cell_type": "markdown",
   "id": "76480ca6",
   "metadata": {},
   "source": [
    "9. Implement Min-Max scaling on the following list of numbers [2, 5, 10, 15, 20] using sklearn.preprocessing.MinMaxScaler. Print the scaled array."
   ]
  },
  {
   "cell_type": "code",
   "execution_count": 8,
   "id": "b279717f",
   "metadata": {},
   "outputs": [
    {
     "name": "stdout",
     "output_type": "stream",
     "text": [
      "Original data:\n",
      " [ 2  5 10 15 20]\n",
      "Scaled data:\n",
      " [0.         0.16666667 0.44444444 0.72222222 1.        ]\n"
     ]
    }
   ],
   "source": [
    "from sklearn.preprocessing import MinMaxScaler\n",
    "import numpy as np\n",
    "\n",
    "# Original data\n",
    "data = np.array([2, 5, 10, 15, 20]).reshape(-1, 1)  \n",
    "\n",
    "# Initialize Min-Max Scaler (default range = [0,1])\n",
    "scaler = MinMaxScaler()\n",
    "\n",
    "# Fit and transform the data\n",
    "scaled_data = scaler.fit_transform(data)\n",
    "\n",
    "# Print results\n",
    "print(\"Original data:\\n\", data.flatten())\n",
    "print(\"Scaled data:\\n\", scaled_data.flatten())\n"
   ]
  },
  {
   "cell_type": "markdown",
   "id": "d15e2cbb",
   "metadata": {},
   "source": [
    "10. You are working as a data scientist for a retail company. You receive a customer transaction dataset that contains: \n",
    "\n",
    "● Missing ages, \n",
    "\n",
    "● Outliers in transaction amount, \n",
    "\n",
    "● A highly imbalanced target (fraud vs. non-fraud), \n",
    "\n",
    "● Categorical variables like payment method. \n",
    "\n",
    "Explain the step-by-step data preparation plan you’d follow before training a machine learning model. Include how you’d address missing data, outliers, imbalance, and encoding."
   ]
  },
  {
   "cell_type": "markdown",
   "id": "a8228e0a",
   "metadata": {},
   "source": [
    "Step-by-Step Data Preparation Plan\n",
    "\n",
    "1. Missing Ages (Numerical Missing Data)\n",
    "\n",
    "* Ages are important for customer behavior.\n",
    "\n",
    "* Use median imputation (better than mean if distribution is skewed).\n",
    "\n",
    "* Example: If missing ages are 10%, replace them with the median age of existing customers.\n",
    "\n",
    "2. Outliers in Transaction Amount\n",
    "\n",
    "* Detect unusual transaction values using boxplot/IQR or Z-score.\n",
    "\n",
    "* If outliers are errors (like negative or extremely unrealistic amounts), remove them.\n",
    "\n",
    "* If valid but extreme, apply log/square root transformation or cap values (winsorization) to reduce their effect.\n",
    "\n",
    "3. Imbalanced Target (Fraud vs. Non-Fraud)\n",
    "\n",
    "* Fraud cases are much fewer than non-fraud.\n",
    "\n",
    "* Use techniques like:\n",
    "\n",
    "* SMOTE (oversample minority fraud class),\n",
    "\n",
    "* Undersampling the majority,\n",
    "\n",
    "* Or applying class weights in ML models.\n",
    "\n",
    "* This ensures the model doesn’t ignore fraud cases.\n",
    "\n",
    "4. Categorical Variables (Payment Method, etc.)\n",
    "\n",
    "* Convert categories into numerical values:\n",
    "\n",
    "* One-Hot Encoding for nominal features (e.g., Visa, MasterCard, PayPal).\n",
    "\n",
    "* Label Encoding if categories have an order.\n",
    "\n",
    "5. Final Steps\n",
    "\n",
    "* Scale numerical features (e.g., Min-Max or StandardScaler).\n",
    "\n",
    "* Split into train/test sets.\n",
    "\n",
    "* Perform cross-validation to check performance."
   ]
  }
 ],
 "metadata": {
  "kernelspec": {
   "display_name": "base",
   "language": "python",
   "name": "python3"
  },
  "language_info": {
   "codemirror_mode": {
    "name": "ipython",
    "version": 3
   },
   "file_extension": ".py",
   "mimetype": "text/x-python",
   "name": "python",
   "nbconvert_exporter": "python",
   "pygments_lexer": "ipython3",
   "version": "3.11.5"
  }
 },
 "nbformat": 4,
 "nbformat_minor": 5
}
