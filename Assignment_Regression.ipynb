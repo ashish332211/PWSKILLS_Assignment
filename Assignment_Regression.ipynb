{
 "cells": [
  {
   "cell_type": "markdown",
   "id": "4f38b10b",
   "metadata": {},
   "source": [
    "Q1. What is Simple Linear Regression?"
   ]
  },
  {
   "cell_type": "markdown",
   "id": "7867a6d8",
   "metadata": {},
   "source": [
    "* Simple linear regression\n",
    "\n",
    "Simple linear regression is a statistical method for studying the linear relationship between two continuous quantitative variables, one independent variable (X) and one dependent variable (Y), by finding a straight \"line of best fit\" through the data points. This line represents the relationship, allowing you to predict the dependent variable's value for a given independent variable value. \n",
    "\n",
    "The relationship between the dependent and independent variables is represented by the simple linear equation: y = mx + b\n",
    "\n",
    "Here:\n",
    "\n",
    "y is the predicted value (dependent variable).\n",
    "\n",
    "m is the slope of the line\n",
    "\n",
    "x is the independent variable.\n",
    "\n",
    "b is the y-intercept (the value of y when x is 0)."
   ]
  },
  {
   "cell_type": "markdown",
   "id": "24bb65ec",
   "metadata": {},
   "source": [
    "Q2. What are the key assumptions of Simple Linear Regression? "
   ]
  },
  {
   "cell_type": "markdown",
   "id": "f0518baa",
   "metadata": {},
   "source": [
    "Linearity:\n",
    "\n",
    "There is a linear relationship between the dependent variable (Y) and the independent variable (X). In essence, a straight line accurately represents the data\n",
    "\n",
    "Independence of Errors:\n",
    "\n",
    "The error terms (or residuals) for each observation are independent of each other. This means that the error for one data point does not affect the error for another. \n",
    "\n",
    "This is particularly important for time-series data, where violations of this assumption are known as autocorrelation. \n",
    "\n",
    "Homoscedasticity (Constant Variance of Errors):\n",
    "\n",
    "The variance of the errors must be constant across all levels of the independent variable. \n",
    "\n",
    "In other words, the spread of the residuals should be consistent. \n",
    "\n",
    "If the spread of the residuals changes (e.g., fans out or shrinks), it's a sign of heteroscedasticity, which is a problem for the model. \n",
    "\n",
    "Normality of Errors (Residuals):\n",
    "\n",
    "The errors, or residuals, of the regression model should follow a normal (bell-shaped) distribution. \n",
    "\n",
    "This assumption is crucial for the validity of statistical inference, such as confidence intervals and hypothesis tests, generated from the model. "
   ]
  },
  {
   "cell_type": "markdown",
   "id": "cbc606d3",
   "metadata": {},
   "source": [
    "Q3. What is heteroscedasticity, and why is it important to address in regression models?"
   ]
  },
  {
   "cell_type": "markdown",
   "id": "91e5fcca",
   "metadata": {},
   "source": [
    "Heteroscedasticity is a statistical term from the Greek words \"hetero\" (different) and \"skedasis\" (dispersion), meaning the unequal variance of residuals (errors) in a regression model across the range of an independent variable.\n",
    "\n",
    "* Why is it Important to Address in Regression Models?\n",
    "\n",
    "Invalid Statistical Inference:\n",
    "\n",
    "The most significant problem is that heteroscedasticity compromises the reliability of the model. \n",
    "\n",
    "Inaccurate Standard Errors:\n",
    "\n",
    "It leads to incorrect estimates of the standard errors for the regression coefficients. \n",
    "\n",
    "Unstable Coefficients:\n",
    "\n",
    "This affects the precision of the slope estimates, making them less reliable. \n",
    "\n",
    "Unreliable Hypothesis Tests:\n",
    "\n",
    "Because standard errors are flawed, confidence intervals will be inaccurate, and hypothesis tests may incorrectly conclude that variables are statistically significant or not significant. "
   ]
  },
  {
   "cell_type": "markdown",
   "id": "2bf47656",
   "metadata": {},
   "source": [
    "Q4. What is Multiple Linear Regression?"
   ]
  },
  {
   "cell_type": "markdown",
   "id": "4944b1f9",
   "metadata": {},
   "source": [
    "Multiple Linear Regression is a statistical technique used to study the relationship between one dependent variable (Y) and two or more independent variables (X₁, X₂, X₃ … Xn).\n",
    "\n",
    "Steps for Multiple Linear Regression\n",
    "Steps to perform multiple linear regression are similar to that of simple linear Regression but difference comes in the evaluation process. We can use it to find out which factor has the highest influence on the predicted output and how different variables are related to each other. Equation for multiple linear regression is:\n",
    "\n",
    "y =β0 + β1X1 + β2X2 + ⋯ + βnXn\n",
    "\n",
    "Where:\n",
    "\n",
    "yis the dependent variable\n",
    "\n",
    "X1,X2,⋯Xn are the independent variables\n",
    "\n",
    "β0 is the intercept\n",
    "\n",
    "β1,β2,⋯βn are the slopes\n",
    "\n",
    "Example:\n",
    "\n",
    "Suppose we want to predict a person’s salary (Y) based on:\n",
    "\n",
    "Years of experience (X₁)\n",
    "\n",
    "Education level (X₂)\n",
    "\n",
    "Age (X₃)\n",
    "\n",
    "Equation might be:\n",
    "\n",
    "Salary = 25,000 + 4,000(Experience) + 6,000(Education Level) + 300(Age)\n",
    "\n",
    "For every extra year of experience, salary increases by ₹4,000 (keeping age & education constant).\n",
    "\n",
    "For each higher level of education, salary increases by ₹6,000, etc."
   ]
  },
  {
   "cell_type": "markdown",
   "id": "37e00eb2",
   "metadata": {},
   "source": [
    "Q5. What is polynomial regression, and how does it differ from linear regression?"
   ]
  },
  {
   "cell_type": "markdown",
   "id": "698f0c7d",
   "metadata": {},
   "source": [
    "Linear  Regression:\n",
    "\n",
    "Definition: Linear regression is a statistical method that models the relationship between a dependent variable (target) and one or more independent variables (features) by fitting a straight line (linear equation).\n",
    "\n",
    "Equation:\n",
    "\n",
    "y=β0 + β1x + ϵ\n",
    "\n",
    "where:\n",
    "\n",
    "y = predicted output\n",
    "\n",
    "𝛽0 = intercept\n",
    "\n",
    "β1 = slope (coefficient for x)\n",
    "\n",
    "ϵ = error term\n",
    "\n",
    "\n",
    "Polynomial Regression:\n",
    "Definition: Polynomial regression is an extension of linear regression where the relationship between the independent variable and the dependent variable is modeled as an n-th degree polynomial.\n",
    "\n",
    "Equation: \n",
    "\n",
    "y=a0+a1x+a2x2+a3x3+….+anxn\n",
    "\n",
    "where y is dependent variable\n",
    "\n",
    "x is the independent variable and\n",
    "\n",
    "a0,a1,a2,a3,an are the coefficients.\n",
    "\n",
    "* Key Differences\n",
    "\n",
    "\n",
    "| Feature      | Linear Regression                                    | Polynomial Regression                                  |\n",
    "| ------------ | ---------------------------------------------------- | ------------------------------------------------------ |\n",
    "| Relationship | Straight line                                        | Curve (depending on degree)                            |\n",
    "| Equation     | $y = \\beta_0 + \\beta_1x$                             | $y = \\beta_0 + \\beta_1x + \\beta_2x^2 + \\dots$          |\n",
    "| Flexibility  | Limited (only linear trends)                         | More flexible (fits non-linear trends)                 |\n",
    "| Risk         | Underfitting if relationship is curved               | Overfitting if degree is too high                      |\n",
    "| Use case     | Predicting salary vs experience, house price vs size | Growth curves, disease progression, stock price trends |\n"
   ]
  },
  {
   "cell_type": "markdown",
   "id": "9178774b",
   "metadata": {},
   "source": [
    "Q6. Implement a Python program to fit a Simple Linear Regression model to the following sample data: \n",
    "\n",
    "● X = [1, 2, 3, 4, 5] \n",
    "\n",
    "● Y = [2.1, 4.3, 6.1, 7.9, 10.2] "
   ]
  },
  {
   "cell_type": "code",
   "execution_count": 1,
   "id": "4c6a3fba",
   "metadata": {},
   "outputs": [
    {
     "name": "stdout",
     "output_type": "stream",
     "text": [
      "Equation of line: Y = 0.18 + 1.98X\n"
     ]
    },
    {
     "data": {
      "image/png": "[encoded data removed]",
      "text/plain": [
       "<Figure size 640x480 with 1 Axes>"
      ]
     },
     "metadata": {},
     "output_type": "display_data"
    }
   ],
   "source": [
    "import numpy as np\n",
    "import matplotlib.pyplot as plt\n",
    "from sklearn.linear_model import LinearRegression\n",
    "\n",
    "# Sample Data\n",
    "X = np.array([1, 2, 3, 4, 5]).reshape(-1, 1)  # Independent variable\n",
    "Y = np.array([2.1, 4.3, 6.1, 7.9, 10.2])      # Dependent variable\n",
    "\n",
    "# Create and fit model\n",
    "model = LinearRegression()\n",
    "model.fit(X, Y)\n",
    "\n",
    "# Get slope (m) and intercept (b)\n",
    "slope = model.coef_[0]\n",
    "intercept = model.intercept_\n",
    "\n",
    "print(f\"Equation of line: Y = {intercept:.2f} + {slope:.2f}X\")\n",
    "\n",
    "# Predict values\n",
    "Y_pred = model.predict(X)\n",
    "\n",
    "# Plotting\n",
    "plt.scatter(X, Y, color=\"blue\", label=\"Actual Data\")\n",
    "plt.plot(X, Y_pred, color=\"red\", linewidth=2, label=\"Regression Line\")\n",
    "plt.xlabel(\"X\")\n",
    "plt.ylabel(\"Y\")\n",
    "plt.title(\"Simple Linear Regression\")\n",
    "plt.legend()\n",
    "plt.show()\n"
   ]
  },
  {
   "cell_type": "markdown",
   "id": "15957896",
   "metadata": {},
   "source": [
    "Q7. Fit a Multiple Linear Regression model on this sample data: \n",
    "\n",
    "● Area = [1200, 1500, 1800, 2000] \n",
    "\n",
    "● Rooms = [2, 3, 3, 4] \n",
    "\n",
    "● Price = [250000, 300000, 320000, 370000] \n",
    "\n",
    "Check for multicollinearity using VIF and report the results."
   ]
  },
  {
   "cell_type": "code",
   "execution_count": 2,
   "id": "908463fb",
   "metadata": {},
   "outputs": [
    {
     "name": "stdout",
     "output_type": "stream",
     "text": [
      "Regression Equation:\n",
      "Price = 103157.89 + 63.16*Area + 34736.84*Rooms\n",
      "\n",
      "Variance Inflation Factor (VIF):\n",
      "  Feature        VIF\n",
      "0   const  34.210526\n",
      "1    Area   7.736842\n",
      "2   Rooms   7.736842\n"
     ]
    }
   ],
   "source": [
    "import numpy as np\n",
    "import pandas as pd\n",
    "from sklearn.linear_model import LinearRegression\n",
    "from statsmodels.stats.outliers_influence import variance_inflation_factor\n",
    "import statsmodels.api as sm\n",
    "\n",
    "# Sample Data\n",
    "data = {\n",
    "    \"Area\": [1200, 1500, 1800, 2000],\n",
    "    \"Rooms\": [2, 3, 3, 4],\n",
    "    \"Price\": [250000, 300000, 320000, 370000]\n",
    "}\n",
    "\n",
    "df = pd.DataFrame(data)\n",
    "\n",
    "# Independent variables (X) and dependent variable (y)\n",
    "X = df[[\"Area\", \"Rooms\"]]\n",
    "y = df[\"Price\"]\n",
    "\n",
    "# Fit Multiple Linear Regression\n",
    "model = LinearRegression()\n",
    "model.fit(X, y)\n",
    "\n",
    "# Get coefficients\n",
    "intercept = model.intercept_\n",
    "coefficients = model.coef_\n",
    "\n",
    "print(\"Regression Equation:\")\n",
    "print(f\"Price = {intercept:.2f} + {coefficients[0]:.2f}*Area + {coefficients[1]:.2f}*Rooms\")\n",
    "\n",
    "# ---------- Check Multicollinearity (VIF) ----------\n",
    "X_with_const = sm.add_constant(X)  # add intercept for statsmodels\n",
    "vif_data = pd.DataFrame()\n",
    "vif_data[\"Feature\"] = X_with_const.columns\n",
    "vif_data[\"VIF\"] = [variance_inflation_factor(X_with_const.values, i) \n",
    "                   for i in range(X_with_const.shape[1])]\n",
    "\n",
    "print(\"\\nVariance Inflation Factor (VIF):\")\n",
    "print(vif_data)\n"
   ]
  },
  {
   "cell_type": "markdown",
   "id": "922228a5",
   "metadata": {},
   "source": [
    "Q8.  Implement polynomial regression on the following data: \n",
    "\n",
    "● X = [1, 2, 3, 4, 5] \n",
    "\n",
    "● Y = [2.2, 4.8, 7.5, 11.2, 14.7] \n",
    "\n",
    "Fit a 2nd-degree polynomial and plot the resulting curve."
   ]
  },
  {
   "cell_type": "code",
   "execution_count": 3,
   "id": "495d11f1",
   "metadata": {},
   "outputs": [
    {
     "name": "stdout",
     "output_type": "stream",
     "text": [
      "Equation: Y = 0.06 + 1.94X + 0.20X²\n"
     ]
    },
    {
     "data": {
      "image/png": "[encoded data removed]",
      "text/plain": [
       "<Figure size 640x480 with 1 Axes>"
      ]
     },
     "metadata": {},
     "output_type": "display_data"
    }
   ],
   "source": [
    "import numpy as np\n",
    "import matplotlib.pyplot as plt\n",
    "from sklearn.linear_model import LinearRegression\n",
    "from sklearn.preprocessing import PolynomialFeatures\n",
    "\n",
    "# Sample Data\n",
    "X = np.array([1, 2, 3, 4, 5]).reshape(-1, 1)\n",
    "Y = np.array([2.2, 4.8, 7.5, 11.2, 14.7])\n",
    "\n",
    "# Transform features to polynomial (degree 2)\n",
    "poly = PolynomialFeatures(degree=2)\n",
    "X_poly = poly.fit_transform(X)\n",
    "\n",
    "# Fit polynomial regression model\n",
    "model = LinearRegression()\n",
    "model.fit(X_poly, Y)\n",
    "\n",
    "# Predict values\n",
    "X_range = np.linspace(1, 5, 100).reshape(-1, 1)  # smooth curve\n",
    "Y_pred = model.predict(poly.transform(X_range))\n",
    "\n",
    "# Print equation\n",
    "coeffs = model.coef_\n",
    "intercept = model.intercept_\n",
    "print(f\"Equation: Y = {intercept:.2f} + {coeffs[1]:.2f}X + {coeffs[2]:.2f}X²\")\n",
    "\n",
    "# Plotting\n",
    "plt.scatter(X, Y, color=\"blue\", label=\"Actual Data\")\n",
    "plt.plot(X_range, Y_pred, color=\"red\", linewidth=2, label=\"Polynomial Regression (degree 2)\")\n",
    "plt.xlabel(\"X\")\n",
    "plt.ylabel(\"Y\")\n",
    "plt.title(\"Polynomial Regression (Quadratic)\")\n",
    "plt.legend()\n",
    "plt.show()\n"
   ]
  },
  {
   "cell_type": "markdown",
   "id": "55513ff4",
   "metadata": {},
   "source": [
    "Q9. Create a residuals plot for a regression model trained on this data: \n",
    "\n",
    "● X = [10, 20, 30, 40, 50] \n",
    "\n",
    "● Y = [15, 35, 40, 50, 65] \n",
    "\n",
    "Assess heteroscedasticity by examining the spread of residuals. "
   ]
  },
  {
   "cell_type": "code",
   "execution_count": 4,
   "id": "f082f680",
   "metadata": {},
   "outputs": [
    {
     "name": "stdout",
     "output_type": "stream",
     "text": [
      "Residuals: [-3.   5.5 -1.  -2.5  1. ]\n"
     ]
    },
    {
     "data": {
      "image/png": "[encoded data removed]",
      "text/plain": [
       "<Figure size 640x480 with 1 Axes>"
      ]
     },
     "metadata": {},
     "output_type": "display_data"
    }
   ],
   "source": [
    "import numpy as np\n",
    "import matplotlib.pyplot as plt\n",
    "from sklearn.linear_model import LinearRegression\n",
    "\n",
    "# Data\n",
    "X = np.array([10, 20, 30, 40, 50]).reshape(-1, 1)\n",
    "Y = np.array([15, 35, 40, 50, 65])\n",
    "\n",
    "# Train regression model\n",
    "model = LinearRegression()\n",
    "model.fit(X, Y)\n",
    "\n",
    "# Predictions\n",
    "Y_pred = model.predict(X)\n",
    "\n",
    "# Residuals (Actual - Predicted)\n",
    "residuals = Y - Y_pred\n",
    "\n",
    "# Print residuals\n",
    "print(\"Residuals:\", residuals)\n",
    "\n",
    "# Plot residuals\n",
    "plt.scatter(X, residuals, color=\"blue\", label=\"Residuals\")\n",
    "plt.axhline(y=0, color=\"red\", linestyle=\"--\", linewidth=2)\n",
    "plt.xlabel(\"X\")\n",
    "plt.ylabel(\"Residuals\")\n",
    "plt.title(\"Residual Plot\")\n",
    "plt.legend()\n",
    "plt.show()\n"
   ]
  },
  {
   "cell_type": "markdown",
   "id": "35c3b012",
   "metadata": {},
   "source": [
    "Q10. Imagine you are a data scientist working for a real estate company. You \n",
    "need to predict house prices using features like area, number of rooms, and location. \n",
    "However, you detect heteroscedasticity and multicollinearity in your regression \n",
    "model. Explain the steps you would take to address these issues and ensure a robust \n",
    "model."
   ]
  },
  {
   "cell_type": "markdown",
   "id": "5d54881c",
   "metadata": {},
   "source": [
    "Addressing Heteroscedasticity\n",
    "\n",
    "Heteroscedasticity, where the variance of errors is not constant across different levels of predictor variables, can lead to inefficient parameter estimates. \n",
    "\n",
    "1. Transformations:\n",
    "\n",
    "Log Transformation: Apply a log transformation to the dependent variable (house price) or some independent variables to stabilize the variance. This can sometimes make the relationship more linear and reduce the spread of the error terms.\n",
    "\n",
    "Box-Cox Transformation: A more general technique that finds the optimal power transformation for the dependent variable, which can also help address heteroscedasticity and improve normality of residuals.\n",
    "\n",
    "2. Weighted Least Squares (WLS):\n",
    "\n",
    "Use WLS instead of Ordinary Least Squares (OLS). This method assigns different weights to observations based on the variance, effectively giving more importance to data points with lower error variance and less to those with higher variance.\n",
    "\n",
    "Addressing Multicollinearity\n",
    "\n",
    "Multicollinearity occurs when independent variables are highly correlated, making it difficult to determine the individual impact of each variable and leading to unstable coefficient estimates. \n",
    "\n",
    "1. Feature Selection/Removal:\n",
    "\n",
    "Variance Inflation Factor (VIF): Calculate VIF for each feature to identify which ones are highly correlated with others. Remove features with high VIF values.\n",
    "\n",
    "Principal Component Analysis (PCA): Reduce the number of correlated features by creating new, uncorrelated components that capture most of the original data's variance.\n",
    "\n",
    "2. Alternative Regression Models:\n",
    "\n",
    "Ridge Regression: Adds an L2 penalty to the regression equation, which shrinks the coefficients of correlated variables without completely removing them. This helps in stabilizing the model and improving overall prediction accuracy.\n",
    "\n",
    "Lasso Regression: Uses an L1 penalty to shrink coefficients, but it can also set some coefficients to zero, effectively performing feature selection by eliminating less important variables.\n",
    "\n",
    "Elastic Net Regression: A combination of both Ridge and Lasso regression, providing a balance between the two techniques.\n",
    "\n",
    "Ensuring a Robust Model\n",
    "\n",
    "1. Model Evaluation:\n",
    "\n",
    "After applying these techniques, re-evaluate the model's performance using metrics like Mean Squared Error (MSE) and R-squared on a separate test set. \n",
    "\n",
    "2. Cross-Validation:\n",
    "\n",
    "Use cross-validation to ensure the model's robustness and generalize well to new, unseen data. \n",
    "\n",
    "3. Iterative Refinement:\n",
    "\n",
    "This process is iterative; you may need to try different transformations, feature selection methods, and models to find the most robust and accurate solution. "
   ]
  }
 ],
 "metadata": {
  "kernelspec": {
   "display_name": "base",
   "language": "python",
   "name": "python3"
  },
  "language_info": {
   "codemirror_mode": {
    "name": "ipython",
    "version": 3
   },
   "file_extension": ".py",
   "mimetype": "text/x-python",
   "name": "python",
   "nbconvert_exporter": "python",
   "pygments_lexer": "ipython3",
   "version": "3.11.5"
  }
 },
 "nbformat": 4,
 "nbformat_minor": 5
}
