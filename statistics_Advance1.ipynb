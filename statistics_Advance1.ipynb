{
 "cells": [
  {
   "cell_type": "markdown",
   "id": "8a9b068c",
   "metadata": {},
   "source": [
    "1. What is a random variable in probability theory?"
   ]
  },
  {
   "cell_type": "markdown",
   "id": "546b8d30",
   "metadata": {},
   "source": [
    "\n",
    "* A random variable is a rule that assigns a numerical value to each outcome in a sample space. Random variables may be either discrete or continuous. A random variable is said to be discrete if it assumes only specified values in an interval. Otherwise, it is continuous. We generally denote the random variables with capital letters such as X and Y. When X takes values 1, 2, 3, …, it is said to have a discrete random variable.\n",
    "\n",
    "* Types of Random Variable\n",
    "\n",
    "There are two random variables, such as:\n",
    "i. Discrete Random Variable\n",
    "ii. Continuous Random Variable\n",
    "\n",
    "i. Discrete Random Variable\n",
    "\n",
    "A discrete random variable can take only a finite number of distinct values such as 0, 1, 2, 3, 4, … and so on. The probability distribution of a random variable has a list of probabilities compared with each of its possible values known as probability mass function.\n",
    "Experiment: Roll a fair six-sided die.\n",
    "\n",
    "Sample space: \n",
    "\n",
    "S={1,2,3,4,5,6}\n",
    "\n",
    "Let  X = number shown on the die.\n",
    "\n",
    "Here:\n",
    "X(1)=1,X(2)=2,…,X(6)=6\n",
    "\n",
    "Probability distribution: P(X = k) = 1/6 for k = 1,2,3,4,5,6\n",
    "\n",
    "ii. Continuous Random Variable\n",
    "\n",
    "A numerically valued variable is said to be continuous if, in any unit of measurement, whenever it can take on the values a and b. If the random variable X can assume an infinite and uncountable set of values, it is said to be a continuous random variable. When X takes any value in a given interval (a, b), it is said to be a continuous random variable in that interval.\n",
    "\n",
    "Some examples of Continuous Random Variable are:\n",
    "\n",
    "The height of an adult male or female.\n",
    "\n",
    "The weight of an object.\n",
    "\n",
    "The time is taken to complete a task.\n",
    "\n",
    "The temperature of a room.\n",
    "\n",
    "The speed of a vehicle on a highway."
   ]
  },
  {
   "cell_type": "markdown",
   "id": "b3b9c88e",
   "metadata": {},
   "source": [
    "2. What are the types of random variables?\n",
    "* Types of Random Variable\n",
    "\n",
    "There are two random variables, such as:\n",
    "i. Discrete Random Variable\n",
    "ii. Continuous Random Variable\n",
    "\n",
    "i. Discrete Random Variable\n",
    "\n",
    "A discrete random variable can take only a finite number of distinct values such as 0, 1, 2, 3, 4, … and so on. The probability distribution of a random variable has a list of probabilities compared with each of its possible values known as probability mass function.\n",
    "Experiment: Roll a fair six-sided die.\n",
    "\n",
    "Sample space: \n",
    "\n",
    "S={1,2,3,4,5,6}\n",
    "\n",
    "Let  X = number shown on the die.\n",
    "\n",
    "Here:\n",
    "X(1)=1,X(2)=2,…,X(6)=6\n",
    "\n",
    "Probability distribution: P(X = k) = 1/6 for k = 1,2,3,4,5,6\n",
    "\n",
    "ii. Continuous Random Variable\n",
    "\n",
    "A numerically valued variable is said to be continuous if, in any unit of measurement, whenever it can take on the values a and b. If the random variable X can assume an infinite and uncountable set of values, it is said to be a continuous random variable. When X takes any value in a given interval (a, b), it is said to be a continuous random variable in that interval.\n",
    "\n",
    "Some examples of Continuous Random Variable are:\n",
    "\n",
    "The height of an adult male or female.\n",
    "\n",
    "The weight of an object.\n",
    "\n",
    "The time is taken to complete a task.\n",
    "\n",
    "The temperature of a room.\n",
    "\n",
    "The speed of a vehicle on a highway."
   ]
  },
  {
   "cell_type": "markdown",
   "id": "71508556",
   "metadata": {},
   "source": [
    "3. Explain the difference between discrete and continuous distributions."
   ]
  },
  {
   "cell_type": "markdown",
   "id": "f88773c8",
   "metadata": {},
   "source": [
    "* Continuous Distribution\n",
    "\n",
    "Continuous uniform distribution is a probability distribution in which all outcomes are equally likely within a specified interval [a,b]. In other words, the probability density function (PDF) is constant over this interval, and the distribution is defined by the two parameters a and b, which are the lower and upper bounds, respectively.\n",
    "\n",
    "* Discrete uniform distribution\n",
    "\n",
    "Discrete uniform distribution is a kind of probability distribution in which every possible result has equal likelihood of occurrence. When there are limited possibilities and every one of them is equally likely, this distribution is applied.\n",
    "\n",
    "| **Basis**                   | **Discrete Uniform Distribution**                                              | **Continuous Distribution**                                                                      |\n",
    "| --------------------------- | ------------------------------------------------------------------------------ | ------------------------------------------------------------------------------------------------ |\n",
    "| **Nature of Outcomes**      | Finite and countable set of outcomes                                           | Infinite and uncountable range of outcomes                                                       |\n",
    "| **Probability Function**    | Probability Mass Function (PMF): $P(X = x) = 1/n$                              | Probability Density Function (PDF): $f(x) = 1/(b-a)$                                             |\n",
    "| **Range of Values**         | Specific discrete values $x_1, x_2, \\dots, x_n$                                | Continuous range of values between $a$ and $b$                                                   |\n",
    "| **Probability Calculation** | Equal probability for each outcome: $P(X = x) = 1/n$                           | Equal density across the interval: $f(x) = 1/(b-a)$                                              |\n",
    "| **Cumulative Distribution** | CDF increases stepwise with each outcome and is defined by $F(x) = P(X \\le x)$ | CDF is a linear function within the interval defined by $F(x) = (x-a)/(b-a)$ for $a \\le x \\le b$ |\n",
    "| **Support**                 | Specific values within a finite set                                            | Continuous interval $[a, b]$                                                                     |\n",
    "| **Real-World Application**  | Games of chance, like dice rolls or card draws                                 | Random selection within a time interval, length measurement, etc.                                |\n",
    "| **Example**                 | Rolling a fair six-sided die (outcomes: 1, 2, 3, 4, 5, 6)                      | Selecting a random point on a line segment from 1 to 10                                          |\n"
   ]
  },
  {
   "cell_type": "markdown",
   "id": "c0d01648",
   "metadata": {},
   "source": [
    "4. What is a binomial distribution, and how is it used in probability?"
   ]
  },
  {
   "cell_type": "markdown",
   "id": "37c3d6ad",
   "metadata": {},
   "source": [
    "Binomial Distribution is a probability distribution used to model the number of successes in a fixed number of independent trials, where each trial has only two possible outcomes: success or failure. This distribution is useful for calculating the probability of a specific number of successes in scenarios like flipping coins, quality control, or survey predictions.\n",
    "\n",
    "Binomial Distribution is based on Bernoulli trials, where each trial has an independent and identical chance of success. The probability distribution for a Bernoulli trial is called the Bernoulli Distribution.\n",
    "\n",
    "Conditions for Binomial Distribution\n",
    "The Binomial distribution can be used in scenarios where the following conditions are satisfied:\n",
    "\n",
    "Fixed Number of Trials: There is a set number of trials or experiments (denoted by n), such as flipping a coin 10 times.\n",
    "Two Possible Outcomes: Each trial has only two possible outcomes, often labeled as \"success\" and \"failure.\" For example, getting heads or tails in a coin flip.\n",
    "Independent Trials: The outcome of each trial is independent of the others, meaning the result of one trial does not affect the result of another.\n",
    "Constant Probability: The probability of success (denoted by p) remains the same for each trial. For example, if you’re flipping a fair coin, the probability of getting heads is always 0.5.\n",
    "The Binomial distribution is an appropriate model to use for calculating the probabilities of obtaining a certain number of successes in the given trials.\n",
    "\n",
    "Example\n",
    "\n",
    "Question: With 3 tosses, what is the probability of getting exactly 2 heads?\n",
    "\n",
    "n = 3, k = 2\n",
    "\n",
    "P(X = k) = (nCk) pᵏ (1-p)ⁿ⁻ᵏ\n",
    "\n",
    "P(X = 2) = (³C₂) p² (1-0.5)³⁻²\n",
    "\n",
    "= (³C₂) (0.5)² (0.5)¹\n",
    "\n",
    "= [3! / (2! × 1!)] × (0.5)² × (0.5)¹\n",
    "\n",
    "= [3 × 2 × 1 / (2 × 1 × 1)] × (0.5)³\n",
    "\n",
    "= 3 × (0.5)³\n",
    "\n",
    "= 0.375"
   ]
  },
  {
   "cell_type": "markdown",
   "id": "3cbf84c4",
   "metadata": {},
   "source": [
    "5. What is the standard normal distribution, and why is it important?"
   ]
  },
  {
   "cell_type": "markdown",
   "id": "3acc1d34",
   "metadata": {},
   "source": [
    "Standard normal distribution, also known as the z-distribution, is a special type of normal distribution. In this distribution, the mean (average) is 0 and the standard deviation (a measure of spread) is 1. This creates a bell-shaped curve that is symmetrical around the mean.\n",
    "\n",
    "Standard Normal Distribution, often referred to as the Z-Distribution, is a specific type of normal distribution that has a mean (μ) of 0 and a standard deviation (σ) of 1.\n",
    "\n",
    "Let Z = [(x-μ)/σ], and μ = 0, σ = 1 then we can say n(x; μ, σ) = e(-z2/2) / √(2π), -∞ < x < ∞ and this distribution of a normal random variable with mean 0 (μ = 0) and variance 1 (σ2 = 1 ) is what we call as a standard normal distribution\n",
    "\n",
    "Why It’s Important\n",
    "i. Simplifies probability calculations\n",
    "Any normal distribution N(μ,σ) can be converted into the standard normal using: Z = (X - μ)/σ\n",
    "\n",
    "ii. Universal reference\n",
    "Instead of having separate probability tables for every mean and standard deviation, we use Z-tables (for N(0,1)).\n",
    "\n",
    "iii. Widely used in statistics: Hypothesis testing, Confidence intervals, Control charts, Quality assurance, Financial modeling\n",
    "\n",
    "Example: \n",
    "Say test scores follow N(μ = 70, σ = 10). \n",
    "\n",
    "To find the probability that a score is below 85:\n",
    "\n",
    "Z = (85 − 70) / 10\n",
    "\n",
    "Z = 15 / 10 = 1.5\n",
    "\n",
    "From the standard normal table:\n",
    "\n",
    "P(Z < 1.5) ≈ 0.9332\n",
    "\n",
    "This means about 93.32% of students score below 85."
   ]
  },
  {
   "cell_type": "markdown",
   "id": "b3934035",
   "metadata": {},
   "source": [
    "6.  What is the Central Limit Theorem (CLT), and why is it critical in statistics?"
   ]
  },
  {
   "cell_type": "markdown",
   "id": "85772663",
   "metadata": {},
   "source": [
    "The Central Limit Theorem states that:\n",
    "\n",
    "If you take many random samples of size 𝑛 from any population with a finite mean 𝜇 and finite standard deviation σ, then the distribution of the sample means will approach normal distribution as 𝑛 becomes large, regardless of the shape of the original population distribution.\n",
    "\n",
    "Let us assume we have a random variable X. Let σ be its standard deviation, and μ be the mean of the random variable.\n",
    "\n",
    "Now, as per the Central Limit Theorem, the sample mean X-Bar will approximate a normal distribution, which is given as X-Bar ⁓ N(μ, σ/√n).\n",
    "\n",
    "The Z-score of the random variable X-Bar is given as Z = (X-Bar - μ) / σ/√n\n",
    "\n",
    "EXAMPLE:\n",
    "\n",
    "You have a population with $\\mu = 100$ & std dev $\\sigma = 20$.  \n",
    "If you have sample size $50$ from this population, what is prob that sample mean will be less than $105$.\n",
    "\n",
    "(Since sample is mentioned, think of CLT)\n",
    "\n",
    "Given:  \n",
    "$\\mu = 100$, $\\sigma = 20$, $n = 50$, $\\bar{X} = 105$\n",
    "\n",
    "$$\n",
    "Z_{\\text{score}} = \\frac{\\bar{x} - \\mu}{\\sigma / \\sqrt{n}}\n",
    "= \\frac{105 - 100}{20 / \\sqrt{50}}\n",
    "= \\frac{5 \\cdot \\sqrt{2}}{4}\n",
    "$$\n",
    "\n",
    "$$\n",
    "= \\frac{5 \\times 1.414}{4} = 1.7678\n",
    "$$\n",
    "\n",
    "$$\n",
    "Z_{\\text{score}} = 1.7678\n",
    "$$\n"
   ]
  },
  {
   "cell_type": "markdown",
   "id": "90a50e26",
   "metadata": {},
   "source": [
    "7. What is the significance of confidence intervals in statistical analysis?"
   ]
  },
  {
   "cell_type": "markdown",
   "id": "2af06833",
   "metadata": {},
   "source": [
    "A Confidence Interval (CI) is a range of values that contains the true value of something we are trying to measure like the average height of students or average income of a population.\n",
    "\n",
    "instead of saying: “The average height is 165 cm.”\n",
    "\n",
    "We can say: “We are 95% confident the average height is between 160 cm and 170 cm.”\n",
    "\n",
    "Example :\n",
    "\n",
    "Let's say we take a sample of 50 students and calculate a 95% confidence interval for their average height which turns out to be 160–170 cm. This means If we repeatedly take similar samples 95% of those intervals would contain the true average height of all students in the population.\n",
    "\n",
    "Confidence level tells us how sure we are that the true value is within a calculated range. If we have to repeat the sampling process many times we expect that a certain percentage of those intervals will include the true value.\n",
    "\n",
    "Why it is important:\n",
    "\n",
    "* Quantifies Uncertainty –\n",
    "\n",
    "Instead of giving just a single estimate (like the mean), a CI shows the range of plausible values, helping us understand the accuracy of the estimate.\n",
    "\n",
    "* Connects Sample to Population –\n",
    "\n",
    "Since we rarely measure the entire population, CIs help us generalize from sample data to the population with a known degree of reliability.\n",
    "\n",
    "* Decision-Making Tool –\n",
    "\n",
    "In research and business, CIs help assess whether a value of interest (e.g., a target sales figure or test score) falls within a plausible range.\n",
    "\n",
    "* Statistical Significance –\n",
    "\n",
    "If a CI for a difference does not include zero, it indicates a statistically significant difference between groups.\n",
    "\n",
    "* Improves Interpretation –\n",
    "\n",
    "CIs make results easier to interpret than p-values alone, as they give both effect size and precision in one measure.\n"
   ]
  },
  {
   "cell_type": "markdown",
   "id": "758ceab7",
   "metadata": {},
   "source": [
    "8. What is the concept of expected value in a probability distribution?"
   ]
  },
  {
   "cell_type": "markdown",
   "id": "8e4837a9",
   "metadata": {},
   "source": [
    "The expected value in a probability distribution represents the average outcome of a random variable over many repetitions of an experiment. It's a weighted average, where each possible outcome is multiplied by its probability and then summed. Essentially, it's the long-term average you'd expect if you repeated the same scenario many times\n",
    "\n",
    "For a discrete random variable X with outcomes $x_i$ and probabilities $p_i$:\n",
    "\n",
    "E(X) = Σ xᵢ · \n",
    "\n",
    "Where\n",
    "* xᵢ = possible value of 𝑋\n",
    "* pᵢ = probability of xᵢ\n",
    "* The sum is over all possible values of X.\n",
    "\n",
    "For a continuous random variable with probability density function $f(x)$:\n",
    "\n",
    "E(X) = ∫₋∞⁺∞ x · f(x) dx\n",
    "\n",
    "* x = possible value of 𝑋\n",
    "* f(x) = probability density function\n",
    "* The integral covers the entire range of 𝑋\n",
    "\n",
    "\n",
    "\n",
    "Example: \n",
    "\n",
    "If you roll a fair six-sided die, the expected value is:\n",
    "\n",
    "E(X)=(1+2+3+4+5+6)/6 =3.5"
   ]
  },
  {
   "cell_type": "markdown",
   "id": "34150cb6",
   "metadata": {},
   "source": [
    "9. Write a Python program to generate 1000 random numbers from a normal\n",
    "distribution with mean = 50 and standard deviation = 5. Compute its mean and standard\n",
    "deviation using NumPy, and draw a histogram to visualize the distribution."
   ]
  },
  {
   "cell_type": "code",
   "execution_count": 1,
   "id": "e9a71431",
   "metadata": {},
   "outputs": [
    {
     "name": "stdout",
     "output_type": "stream",
     "text": [
      "Computed Mean: 49.85505186309483\n",
      "Computed Standard Deviation: 4.914430762211363\n"
     ]
    },
    {
     "data": {
      "image/png": "[encoded data removed]",
      "text/plain": [
       "<Figure size 640x480 with 1 Axes>"
      ]
     },
     "metadata": {},
     "output_type": "display_data"
    }
   ],
   "source": [
    "import numpy as np\n",
    "import matplotlib.pyplot as plt\n",
    "\n",
    "# Step 1: Generate 1000 random numbers from a normal distribution\n",
    "mean = 50\n",
    "std_dev = 5\n",
    "size = 1000\n",
    "\n",
    "data = np.random.normal(mean, std_dev, size)\n",
    "\n",
    "# Step 2: Compute mean and standard deviation using NumPy\n",
    "computed_mean = np.mean(data)\n",
    "computed_std_dev = np.std(data)\n",
    "\n",
    "print(f\"Computed Mean: {computed_mean}\")\n",
    "print(f\"Computed Standard Deviation: {computed_std_dev}\")\n",
    "\n",
    "# Step 3: Draw histogram\n",
    "plt.hist(data, bins=30, edgecolor='black', alpha=0.7)\n",
    "plt.title(\"Histogram of Normally Distributed Data\")\n",
    "plt.xlabel(\"Value\")\n",
    "plt.ylabel(\"Frequency\")\n",
    "plt.grid(True, linestyle='--', alpha=0.6)\n",
    "plt.show()\n"
   ]
  },
  {
   "cell_type": "markdown",
   "id": "807840b7",
   "metadata": {},
   "source": [
    "You are working as a data analyst for a retail company. The company has\n",
    "collected daily sales data for 2 years and wants you to identify the overall sales trend.\n",
    "\n",
    "daily_sales = [220, 245, 210, 265, 230, 250, 260, 275, 240, 255,\n",
    "235, 260, 245, 250, 225, 270, 265, 255, 250, 260]\n",
    "\n",
    "● Explain how you would apply the Central Limit Theorem to estimate the average sales\n",
    "with a 95% confidence interval.\n",
    "\n",
    "● Write the Python code to compute the mean sales and its confidence interval.\n"
   ]
  },
  {
   "cell_type": "markdown",
   "id": "b7074d52",
   "metadata": {},
   "source": [
    "The Central Limit Theorem (CLT) states that if we take a large number of samples from a population and calculate their means, the sampling distribution of the mean will approximate a normal distribution, regardless of the population's original distribution — as long as the sample size is reasonably large (n ≥ 30 is ideal, but smaller can work if the distribution is not too skewed).\n",
    "\n",
    "Here’s how we use CLT for this problem:\n",
    "\n",
    "Given data: Daily sales for a small period.\n",
    "\n",
    "We treat it as a sample from the full 2-year population.\n",
    "\n",
    "Goal: Estimate the average daily sales with a 95% confidence interval.\n",
    "\n",
    "Steps:\n",
    "\n",
    "* Calculate the sample mean (x-Bar)\n",
    "\n",
    "* Calculate the sample standard deviation (s).\n",
    "\n",
    "* Use the formula for the confidence interval: CI = 𝑥ˉ ± 𝑧 × 𝑠/√n\n",
    "\n",
    "z = 1.96 for 95% confidence\n",
    "\n",
    "n = sample size\n",
    "\n",
    "𝑠/√n = standard error of the mean\n"
   ]
  },
  {
   "cell_type": "code",
   "execution_count": 3,
   "id": "0d46e50c",
   "metadata": {},
   "outputs": [
    {
     "name": "stdout",
     "output_type": "stream",
     "text": [
      "Sample Mean Sales: 248.25\n",
      "Sample Standard Deviation: 17.27\n",
      "95% Confidence Interval: (240.68, 255.82)\n"
     ]
    }
   ],
   "source": [
    "import numpy as np\n",
    "import scipy.stats as stats\n",
    "\n",
    "# Given daily sales data\n",
    "daily_sales = [220, 245, 210, 265, 230, 250, 260, 275, 240, 255,\n",
    "               235, 260, 245, 250, 225, 270, 265, 255, 250, 260]\n",
    "\n",
    "# Convert to NumPy array\n",
    "sales_array = np.array(daily_sales)\n",
    "\n",
    "# Step 1: Mean and standard deviation\n",
    "mean_sales = np.mean(sales_array)\n",
    "std_sales = np.std(sales_array, ddof=1)  # sample standard deviation\n",
    "n = len(sales_array)\n",
    "\n",
    "# Step 2: Standard error\n",
    "standard_error = std_sales / np.sqrt(n)\n",
    "\n",
    "# Step 3: 95% confidence interval using z-score\n",
    "z_value = 1.96  # for 95% CI\n",
    "ci_lower = mean_sales - z_value * standard_error\n",
    "ci_upper = mean_sales + z_value * standard_error\n",
    "\n",
    "# Output results\n",
    "print(f\"Sample Mean Sales: {mean_sales:.2f}\")\n",
    "print(f\"Sample Standard Deviation: {std_sales:.2f}\")\n",
    "print(f\"95% Confidence Interval: ({ci_lower:.2f}, {ci_upper:.2f})\")\n"
   ]
  }
 ],
 "metadata": {
  "kernelspec": {
   "display_name": "base",
   "language": "python",
   "name": "python3"
  },
  "language_info": {
   "codemirror_mode": {
    "name": "ipython",
    "version": 3
   },
   "file_extension": ".py",
   "mimetype": "text/x-python",
   "name": "python",
   "nbconvert_exporter": "python",
   "pygments_lexer": "ipython3",
   "version": "3.11.5"
  }
 },
 "nbformat": 4,
 "nbformat_minor": 5
}
