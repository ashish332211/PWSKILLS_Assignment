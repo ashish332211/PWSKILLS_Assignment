{
 "cells": [
  {
   "cell_type": "markdown",
   "id": "a46f44ee",
   "metadata": {},
   "source": []
  },
  {
   "cell_type": "markdown",
   "id": "1598b582",
   "metadata": {},
   "source": []
  },
  {
   "cell_type": "markdown",
   "id": "a2ca36b0",
   "metadata": {},
   "source": []
  },
  {
   "cell_type": "markdown",
   "id": "1745c8aa",
   "metadata": {},
   "source": []
  },
  {
   "cell_type": "markdown",
   "id": "38be51a5",
   "metadata": {},
   "source": []
  },
  {
   "cell_type": "markdown",
   "id": "fe381613",
   "metadata": {},
   "source": []
  },
  {
   "cell_type": "markdown",
   "id": "1e48a51a",
   "metadata": {},
   "source": []
  },
  {
   "cell_type": "markdown",
   "id": "0bc4f094",
   "metadata": {},
   "source": [
    "\n",
    "\n"
   ]
  },
  {
   "cell_type": "markdown",
   "id": "30041ae5",
   "metadata": {},
   "source": [
    " "
   ]
  },
  {
   "cell_type": "markdown",
   "id": "ed813d4a",
   "metadata": {},
   "source": []
  },
  {
   "cell_type": "markdown",
   "id": "736e1353",
   "metadata": {},
   "source": []
  },
  {
   "cell_type": "markdown",
   "id": "8eca2337",
   "metadata": {},
   "source": []
  },
  {
   "cell_type": "markdown",
   "id": "ad155cb7",
   "metadata": {},
   "source": []
  },
  {
   "cell_type": "markdown",
   "id": "d688231f",
   "metadata": {},
   "source": []
  },
  {
   "cell_type": "markdown",
   "id": "759ccc70",
   "metadata": {},
   "source": []
  },
  {
   "cell_type": "markdown",
   "id": "fbfca46b",
   "metadata": {},
   "source": []
  },
  {
   "cell_type": "code",
   "execution_count": null,
   "id": "e719508a",
   "metadata": {},
   "outputs": [
    {
     "ename": "ModuleNotFoundError",
     "evalue": "No module named 'numpy'",
     "output_type": "error",
     "traceback": [
      "\u001b[31m---------------------------------------------------------------------------\u001b[39m",
      "\u001b[31mModuleNotFoundError\u001b[39m                       Traceback (most recent call last)",
      "\u001b[36mCell\u001b[39m\u001b[36m \u001b[39m\u001b[32mIn[8]\u001b[39m\u001b[32m, line 1\u001b[39m\n\u001b[32m----> \u001b[39m\u001b[32m1\u001b[39m \u001b[38;5;28;01mimport\u001b[39;00m\u001b[38;5;250m \u001b[39m\u001b[34;01mnumpy\u001b[39;00m\u001b[38;5;250m \u001b[39m\u001b[38;5;28;01mas\u001b[39;00m\u001b[38;5;250m \u001b[39m\u001b[34;01mnp\u001b[39;00m\n\u001b[32m      3\u001b[39m \u001b[38;5;66;03m# Create two NumPy arrays\u001b[39;00m\n\u001b[32m      4\u001b[39m arr1 = np.array([\u001b[32m1\u001b[39m, \u001b[32m2\u001b[39m, \u001b[32m3\u001b[39m, \u001b[32m4\u001b[39m])\n",
      "\u001b[31mModuleNotFoundError\u001b[39m: No module named 'numpy'"
     ]
    }
   ],
   "source": [
    "import numpy as np\n",
    "\n",
    "# Create two NumPy arrays\n"
   ]
  },
  {
   "cell_type": "code",
   "execution_count": 3,
   "id": "79c42123",
   "metadata": {},
   "outputs": [
    {
     "name": "stdout",
     "output_type": "stream",
     "text": [
      "jtf\n"
     ]
    }
   ],
   "source": [
    "print('jtf')"
   ]
  }
 ],
 "metadata": {
  "kernelspec": {
   "display_name": ".venv",
   "language": "python",
   "name": "python3"
  },
  "language_info": {
   "codemirror_mode": {
    "name": "ipython",
    "version": 3
   },
   "file_extension": ".py",
   "mimetype": "text/x-python",
   "name": "python",
   "nbconvert_exporter": "python",
   "pygments_lexer": "ipython3",
   "version": "3.12.0"
  }
 },
 "nbformat": 4,
 "nbformat_minor": 5
}
