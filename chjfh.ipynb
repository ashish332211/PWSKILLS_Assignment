{
 "cells": [
  {
   "cell_type": "markdown",
   "id": "b68a756f",
   "metadata": {},
   "source": [
    "1. What is NumPy, and why is it widely used in Python?"
   ]
  },
  {
   "cell_type": "markdown",
   "id": "45bffa2e",
   "metadata": {},
   "source": [
    "NumPy (short for Numerical Python) is a core library in Python that provides support for large, multi-dimensional arrays and matrices, along with a collection of mathematical functions to operate on these arrays.\n",
    "\n",
    "It is essential for scientific computing in Python and forms the backbone of many other libraries like Pandas, SciPy, TensorFlow, and Scikit-learn.\n",
    "\n",
    "Numpy is widely used in python for several reasons like performance efficiency, memory efficiency, mathematical computation, Braodcasting, simplicity and Ease of use"
   ]
  },
  {
   "cell_type": "markdown",
   "id": "e8c75992",
   "metadata": {},
   "source": [
    "2. How does broadcasting work in NumPy?"
   ]
  },
  {
   "cell_type": "markdown",
   "id": "c6651213",
   "metadata": {},
   "source": [
    "Broadcasting in NumPy is a mechanism that allows arithmetic operations to be performed on arrays of different shapes and sizes. It enables element-wise operations without requiring explicit reshaping or copying of data, leading to more efficient and concise code. \n",
    "\n",
    "Broadcasting works when the arrays' shapes are compatible. This means:\n",
    "\n",
    "If arrays have different numbers of dimensions, the smaller one is padded with 1s on the left.\n",
    "\n",
    "For each dimension, the sizes must either be the same or one of them must be 1."
   ]
  },
  {
   "cell_type": "markdown",
   "id": "f73a090c",
   "metadata": {},
   "source": [
    "3. What is a Pandas DataFrame?"
   ]
  },
  {
   "cell_type": "markdown",
   "id": "f97c56a4",
   "metadata": {},
   "source": [
    "A Pandas DataFrame is a two-dimensional table-like structure in Python where data is arranged in rows and columns. It’s one of the most commonly used tools for handling data and makes it easy to organize, analyze and manipulate data. It can store different types of data such as numbers, text and dates across its columns. The main parts of a DataFrame are:\n",
    "\n",
    "Data: Actual values in the table.\n",
    "Rows: Labels that identify each row.\n",
    "Columns: Labels that define each data category."
   ]
  },
  {
   "cell_type": "markdown",
   "id": "725a4b68",
   "metadata": {},
   "source": [
    "4. Explain the use of the groupby() method in Pandas"
   ]
  },
  {
   "cell_type": "markdown",
   "id": "9044f33f",
   "metadata": {},
   "source": [
    "The groupby() method in Pandas is used to split a DataFrame into groups based on some criteria (such as a column's values), apply a function to each group, and then combine the results back into a single output. It’s a powerful tool for aggregating, transforming, or filtering data based on specific categories.\n",
    "\n",
    "The groupby() method is typically used in three main steps:\n",
    "\n",
    "Splitting: Dividing the data into groups based on a particular column or criteria.\n",
    "\n",
    "Applying: Performing a function (e.g., sum, mean, count) on each group.\n",
    "\n",
    "Combining: Aggregating or combining the results of the applied function back into a final DataFrame."
   ]
  },
  {
   "cell_type": "markdown",
   "id": "dbb66e34",
   "metadata": {},
   "source": [
    "5. Why is Seaborn preferred for statistical visualizations?"
   ]
  },
  {
   "cell_type": "markdown",
   "id": "9fa4522d",
   "metadata": {},
   "source": [
    "Seaborn is often preferred for statistical visualizations because it is specifically designed to make it easier to create informative, attractive, and statistically insightful plots.\n",
    "\n",
    "* Built-in Statistical Functions\n",
    "Seaborn provides high-level functions to easily create complex statistical plots like:\n",
    "\n",
    "Box plots\n",
    "\n",
    "Violin plots\n",
    "\n",
    "Pair plots\n",
    "\n",
    "Heatmaps\n",
    "\n",
    "Regression plots (with confidence intervals)\n",
    "\n",
    "* Automatic Handling of DataFrames\n",
    "Seaborn works seamlessly with pandas DataFrames, which is the standard format for handling structured data in Python. \n",
    "\n",
    "* Aesthetically Pleasing Visuals\n",
    "Default Styles: Seaborn has much more aesthetically pleasing default themes and color palettes than Matplotlib. This includes better color schemes for categorical and continuous variables, which makes it easier to present visually appealing and interpretable graphs.\n",
    "\n",
    "Color Palettes: Seaborn also has built-in support for advanced color palettes (e.g., viridis, cubehelix, Set1, Paired), which makes it easier to choose color schemes that work well for statistical plots.\n",
    "\n",
    "* Support for Categorical Variables\n",
    "Seaborn is particularly strong when it comes to visualizing categorical data:\n",
    "\n",
    "Categorical scatter plots, bar plots, and count plots can be created easily.\n",
    "\n",
    "It allows you to create box plots or violin plots for grouped data, which helps in understanding the distribution of different categories.\n",
    "\n",
    "* Easy Handling of Multiple Variables\n",
    "Seaborn allows you to represent multiple variables in one plot with minimal code:\n",
    "\n",
    "Hue, style, and size parameters allow you to distinguish data points by multiple categories without manually managing different layers of plotting."
   ]
  },
  {
   "cell_type": "markdown",
   "id": "bbf6aa9b",
   "metadata": {},
   "source": [
    "6. What are the differences between NumPy arrays and Python lists?"
   ]
  },
  {
   "cell_type": "markdown",
   "id": "a64b6be5",
   "metadata": {},
   "source": [
    "The difference between NumPy and Python lists are\n",
    "\n",
    "Data Types:\n",
    "\n",
    "NumPy arrays are homogeneous, meaning all elements must be of the same type, which leads to faster operations.\n",
    "\n",
    "Python lists are heterogeneous, allowing elements of different types (e.g., integers, strings, etc.).\n",
    "\n",
    "Performance:\n",
    "\n",
    "NumPy arrays are much faster for numerical computations because they are optimized for large data and vectorized operations.\n",
    "\n",
    "Python lists are slower when performing large-scale numerical operations, as they are not optimized for such tasks.\n",
    "\n",
    "Memory Efficiency:\n",
    "\n",
    "NumPy arrays are more memory-efficient because they store data in contiguous blocks with a fixed data type.\n",
    "\n",
    "Python lists are less efficient because they store references to objects and have more overhead.\n",
    "\n",
    "Functionality:\n",
    "\n",
    "NumPy provides powerful methods for mathematical operations, like element-wise operations, reshaping, and complex mathematical functions (e.g., mean, sum, etc.).\n",
    "\n",
    "Python lists offer basic functionality (e.g., adding, removing items) but lack advanced operations."
   ]
  },
  {
   "cell_type": "markdown",
   "id": "bf2f75a5",
   "metadata": {},
   "source": [
    "7. What is a heatmap, and when should it be used?"
   ]
  },
  {
   "cell_type": "code",
   "execution_count": null,
   "id": "25a46c72",
   "metadata": {},
   "outputs": [],
   "source": []
  },
  {
   "cell_type": "markdown",
   "id": "05e8dd33",
   "metadata": {},
   "source": [
    "8. What does the term “vectorized operation” mean in NumPy?"
   ]
  },
  {
   "cell_type": "markdown",
   "id": "b6d185ab",
   "metadata": {},
   "source": [
    "In NumPy, vectorized operations refer to the process of performing element-wise operations on entire arrays (or matrices) without needing explicit loops. These operations are applied directly on the entire array (or specific parts of it) in a single step, leveraging low-level optimizations for performance.\n",
    "\n",
    "The key idea behind vectorized operations is that they allow batch processing of data without the need for Python loops, making the computation faster and more efficient. "
   ]
  },
  {
   "cell_type": "code",
   "execution_count": 2,
   "id": "db2c34c5",
   "metadata": {},
   "outputs": [
    {
     "name": "stdout",
     "output_type": "stream",
     "text": [
      "[11 22 33 44]\n"
     ]
    }
   ],
   "source": [
    "import numpy as np\n",
    "arr1 = np.array([1, 2, 3, 4])\n",
    "arr2 = np.array([10, 20, 30, 40])\n",
    "\n",
    "# Vectorized operation (element-wise addition)\n",
    "result = arr1 + arr2\n",
    "\n",
    "print(result)"
   ]
  },
  {
   "cell_type": "markdown",
   "id": "12be0bfe",
   "metadata": {},
   "source": [
    "9. How does Matplotlib differ from Plotly?"
   ]
  },
  {
   "cell_type": "markdown",
   "id": "2e309f29",
   "metadata": {},
   "source": []
  },
  {
   "cell_type": "markdown",
   "id": "5bbfcf43",
   "metadata": {},
   "source": [
    "10. What is the significance of hierarchical indexing in Pandas?"
   ]
  },
  {
   "cell_type": "markdown",
   "id": "1bbf6cfd",
   "metadata": {},
   "source": [
    "Hierarchical Indexing (also known as MultiIndex) in Pandas is a feature that allows you to create multiple levels of indexing for rows and/or columns in a DataFrame. This feature is particularly useful when working with complex data that has multiple attributes or hierarchical structures (e.g., time-series data, data with categories, etc.).\n",
    "\n",
    "Hierarchical indexing lets you represent data in a more organized and structured way, enabling you to easily access, filter, and manipulate data at multiple levels of granularity."
   ]
  },
  {
   "cell_type": "markdown",
   "id": "f5bb76a6",
   "metadata": {},
   "source": [
    "11. What is the role of Seaborn’s pairplot() function?"
   ]
  },
  {
   "cell_type": "markdown",
   "id": "f98657f7",
   "metadata": {},
   "source": [
    "The pairplot() function in Seaborn is a powerful tool that allows you to easily visualize relationships between multiple variables in a dataset, especially when dealing with multidimensional data. It's commonly used for exploratory data analysis (EDA) to understand the pairwise relationships between all the features (columns) in a dataset."
   ]
  },
  {
   "cell_type": "markdown",
   "id": "71769c67",
   "metadata": {},
   "source": [
    "12. What is the purpose of the describe() function in Pandas?"
   ]
  },
  {
   "cell_type": "markdown",
   "id": "9e16ed17",
   "metadata": {},
   "source": [
    "The describe() method in Pandas generates descriptive statistics of DataFrame columns which provides key metrics like mean, standard deviation, percentiles and more. It works with numeric data by default but can also handle categorical data which offers insights like the most frequent value and the number of unique entries. In this article, we'll see how to use describe() for both numeric and categorical data."
   ]
  },
  {
   "cell_type": "markdown",
   "id": "da4adf08",
   "metadata": {},
   "source": [
    "13. Why is handling missing data important in Pandas?"
   ]
  },
  {
   "cell_type": "markdown",
   "id": "6c710e31",
   "metadata": {},
   "source": [
    "Handling missing data is a crucial part of data analysis and cleaning in Pandas (and data science in general). Missing or NaN (Not a Number) values can significantly affect the quality and accuracy of your analysis, model performance, and the overall interpretation of your data. Properly managing missing data ensures that your analysis is more reliable and that your machine learning models are built on clean, complete data.\n",
    "\n",
    "Prevents Data Distortion:\n",
    "\n",
    "If missing data is ignored, it can distort the analysis, leading to misleading insights or incorrect conclusions.\n",
    "\n",
    "Improves Model Performance:\n",
    "\n",
    "Machine learning algorithms, particularly those based on scikit-learn, often do not handle missing data by default. This could lead to errors or inaccurate predictions.\n",
    "\n",
    "Ensures Accurate Statistics:\n",
    "\n",
    "Statistical analysis, like calculating the mean, median, variance, or even conducting hypothesis tests, relies on complete data. If missing data is not handled properly, the results could be biased or skewed."
   ]
  },
  {
   "cell_type": "markdown",
   "id": "defb4272",
   "metadata": {},
   "source": [
    "14. What are the benefits of using Plotly for data visualization?"
   ]
  },
  {
   "cell_type": "markdown",
   "id": "df552301",
   "metadata": {},
   "source": []
  },
  {
   "cell_type": "markdown",
   "id": "25b43e6b",
   "metadata": {},
   "source": [
    "15. How does NumPy handle multidimensional arrays?"
   ]
  },
  {
   "cell_type": "markdown",
   "id": "458ac7d3",
   "metadata": {},
   "source": [
    "NumPy is a powerful library for numerical computing in Python, and one of its core features is its ability to handle multidimensional arrays efficiently. These arrays are a generalization of one-dimensional arrays (like lists) and are essential for handling data in fields like machine learning, image processing, and scientific computing.\n",
    "\n",
    "In NumPy, multidimensional arrays are called ndarrays (short for n-dimensional arrays), and they can represent data in 2D (matrices), 3D (tensors), or even higher dimensions."
   ]
  },
  {
   "cell_type": "markdown",
   "id": "c7e5e413",
   "metadata": {},
   "source": [
    "16. What is the role of Bokeh in data visualization?"
   ]
  },
  {
   "cell_type": "markdown",
   "id": "971ae118",
   "metadata": {},
   "source": []
  },
  {
   "cell_type": "markdown",
   "id": "454be605",
   "metadata": {},
   "source": [
    "17. Explain the difference between apply() and map() in Pandas."
   ]
  },
  {
   "cell_type": "markdown",
   "id": "6d406341",
   "metadata": {},
   "source": [
    "We can use map() when we need to perform a straightforward, element-wise transformation or substitution on a single Pandas Series.\n",
    "\n",
    "we can use apply() when we need more general-purpose functionality, including applying functions along axes of a DataFrame, or for more complex element-wise operations on a Series or DataFrame that map() cannot handle."
   ]
  },
  {
   "cell_type": "markdown",
   "id": "4cba6f7d",
   "metadata": {},
   "source": [
    "| **Feature**            | **`apply()`**                                                                                        | **`map()`**                                                                      |\n",
    "| ---------------------- | ---------------------------------------------------------------------------------------------------- | -------------------------------------------------------------------------------- |\n",
    "| **Works on**           | DataFrame (columns/rows) or Series                                                                   | Only Series (element-wise)                                                       |\n",
    "| **Function Type**      | Can take any function (including complex ones)                                                       | Usually takes a function, dictionary, or Series                                  |\n",
    "| **Flexibility**        | More flexible, can be used for complex operations                                                    | Simpler and faster for element-wise operations                                   |\n",
    "| **Axis Specification** | Supports axis specification (`axis=0` for columns, `axis=1` for rows)                                | Does not support axis (only element-wise)                                        |\n",
    "| **Use Case**           | Use when working with **DataFrame** operations (row/column-wise) or when you need complex operations | Use when applying a function or transforming values in a **Series** element-wise |\n"
   ]
  },
  {
   "cell_type": "markdown",
   "id": "d2d6fb8c",
   "metadata": {},
   "source": [
    "18. What are some advanced features of NumPy?"
   ]
  },
  {
   "cell_type": "markdown",
   "id": "26540cea",
   "metadata": {},
   "source": [
    "NumPy offers several advanced features that enhance its capabilities for numerical computing and data manipulation beyond basic array operations:\n",
    "\n",
    "*  Broadcasting\n",
    "\n",
    "Broadcasting is a powerful feature that allows NumPy to perform operations on arrays of different shapes. When performing an operation between two arrays of different shapes, NumPy automatically \"broadcasts\" the smaller array to match the shape of the larger array, if possible.\n",
    "\n",
    "* Advanced Indexing and Slicing\n",
    "\n",
    "NumPy provides advanced indexing capabilities that are not available in regular Python lists. This includes:\n",
    "\n",
    "* Fancy Indexing\n",
    "\n",
    "Using arrays of integers or boolean values to index.\n",
    "\n",
    "* Memory Management and Views\n",
    "\n",
    "NumPy arrays are designed for efficient memory usage. They often store data in contiguous memory blocks, which improves cache locality. Furthermore, many NumPy operations return \"views\" of the original array rather than creating entirely new copies, saving memory and improving performance when working with large datasets."
   ]
  },
  {
   "cell_type": "markdown",
   "id": "c18a22a0",
   "metadata": {},
   "source": [
    "19. How does Pandas simplify time series analysis?"
   ]
  },
  {
   "cell_type": "markdown",
   "id": "216b995a",
   "metadata": {},
   "source": [
    "Pandas is an extremely powerful tool for time series analysis in Python. It provides a wide range of functionalities that make it easier to work with time-based data.\n",
    "\n",
    "* Date and Time Handling\n",
    "Pandas has built-in support for date and time types, which makes it easy to manipulate and analyze time-based data. The key time-related classes in Pandas are:\n",
    "\n",
    "datetime: A standard Python module for handling date and time, but Pandas provides more powerful tools for time series.\n",
    "\n",
    "Timestamp: The Pandas equivalent of a datetime object, providing greater functionality.\n",
    "\n",
    "Timedelta: Used for representing differences between two Timestamps or durations.\n",
    "\n",
    "* Datetime Indexing\n",
    "\n",
    "Pandas supports using dates as index in DataFrames, which allows for easy slicing, aggregation, and resampling. When the index is of type datetime64, you can easily filter data based on date ranges, specific times, or specific months.\n",
    "\n",
    "* Resampling and Frequency Conversion\n",
    "\n",
    "One of the most powerful features of Pandas for time series analysis is resampling. You can change the frequency of the time series data (e.g., daily to monthly, weekly to yearly, etc.), and Pandas provides easy-to-use functions to achieve this.\n",
    "\n",
    "* Rolling Windows and Moving Averages\n",
    "Time series data is often smoothed using moving averages or other rolling window operations to analyze trends.\n",
    "\n",
    "rolling(): This function provides a rolling window, which is useful for moving averages, sums, or other window-based operations.\n",
    "\n",
    "* Handling Missing Data\n",
    "\n",
    "Time series data often contains missing values. Pandas makes it easy to handle missing data through forward filling (ffill) and backward filling (bfill), as well as other techniques such as interpolation."
   ]
  },
  {
   "cell_type": "markdown",
   "id": "a07f42eb",
   "metadata": {},
   "source": [
    "20. What is the role of a pivot table in Pandas?"
   ]
  },
  {
   "cell_type": "markdown",
   "id": "e0dc635b",
   "metadata": {},
   "source": []
  },
  {
   "cell_type": "markdown",
   "id": "9425b9df",
   "metadata": {},
   "source": [
    "21. Why is NumPy’s array slicing faster than Python’s list slicing?"
   ]
  },
  {
   "cell_type": "markdown",
   "id": "d7e35f52",
   "metadata": {},
   "source": [
    "NumPy Arrays: NumPy arrays are stored in contiguous memory blocks, meaning the elements are stored in one large, continuous chunk of memory. This allows for efficient access and manipulation because accessing a contiguous block of memory is much faster than accessing multiple scattered locations.\n",
    "\n",
    "Python Lists: Python lists, on the other hand, are implemented as arrays of pointers, meaning that each element in a list points to a separate memory location. This makes list slicing less efficient because the data is not contiguous, and the Python interpreter has to deal with the additional overhead of managing references to different objects."
   ]
  },
  {
   "cell_type": "markdown",
   "id": "034f0aee",
   "metadata": {},
   "source": [
    "22. What are some common use cases for Seaborn?"
   ]
  },
  {
   "cell_type": "markdown",
   "id": "6dacc049",
   "metadata": {},
   "source": [
    "Seaborn is a Python data visualization library built on Matplotlib, designed for creating informative and attractive statistical graphics. Its common use cases include:\n",
    "\n",
    "Exploratory Data Analysis (EDA): Visualize distributions, pairwise relationships, and correlations.\n",
    "\n",
    "Visualizing Distributions: Histograms, box plots, and violin plots for single-variable analysis.\n",
    "\n",
    "Categorical Data: Bar plots, count plots, and facet grids for exploring categorical variables.\n",
    "\n",
    "Correlation Analysis: Visualize correlation matrices and relationships between numerical features.\n",
    "\n",
    "Categorical + Continuous: Visualize interactions between categorical and continuous variables."
   ]
  },
  {
   "cell_type": "markdown",
   "id": "4f39def1",
   "metadata": {},
   "source": [
    "PRACTICAL"
   ]
  },
  {
   "cell_type": "code",
   "execution_count": 17,
   "id": "051e9891",
   "metadata": {},
   "outputs": [],
   "source": [
    "import numpy as np\n",
    "import pandas as pd\n",
    "import matplotlib.pyplot as plt\n",
    "\n",
    "import warnings\n",
    "warnings.filterwarnings('ignore')"
   ]
  },
  {
   "cell_type": "markdown",
   "id": "ee997262",
   "metadata": {},
   "source": [
    "1. How do you create a 2D NumPy array and calculate the sum of each row?"
   ]
  },
  {
   "cell_type": "code",
   "execution_count": null,
   "id": "86f6f78c",
   "metadata": {},
   "outputs": [
    {
     "name": "stdout",
     "output_type": "stream",
     "text": [
      "Sum of each row [ 6 15]\n"
     ]
    }
   ],
   "source": [
    "\n",
    "arr = np.array([[1, 2, 3], [4, 5, 6]])\n",
    "row_sum = np.sum(arr, axis=1)\n",
    "print('Sum of each row', row_sum)"
   ]
  },
  {
   "cell_type": "markdown",
   "id": "2c9a2b72",
   "metadata": {},
   "source": [
    "2. Write a Pandas script to find the mean of a specific column in a DataFrame"
   ]
  },
  {
   "cell_type": "code",
   "execution_count": 15,
   "id": "4ef21a2a",
   "metadata": {},
   "outputs": [
    {
     "data": {
      "text/plain": [
       "21666.666666666668"
      ]
     },
     "execution_count": 15,
     "metadata": {},
     "output_type": "execute_result"
    }
   ],
   "source": [
    "data = {\n",
    "    'Name': ['Chandan', 'Satya', 'Chintu'],\n",
    "    'Age': [25, 27, 23],\n",
    "    'Salary': [30000, 20000, 15000]\n",
    "\n",
    "}\n",
    "\n",
    "df = pd.DataFrame(data)\n",
    "df\n",
    "\n",
    "# mean value\n",
    "df['Salary'].mean()\n"
   ]
  },
  {
   "cell_type": "markdown",
   "id": "c4c167ed",
   "metadata": {},
   "source": [
    "3. Create a scatter plot using Matplotlib"
   ]
  },
  {
   "cell_type": "code",
   "execution_count": 22,
   "id": "d3aecda1",
   "metadata": {},
   "outputs": [
    {
     "data": {
      "image/png": "[encoded data removed]",
      "text/plain": [
       "<Figure size 640x480 with 1 Axes>"
      ]
     },
     "metadata": {},
     "output_type": "display_data"
    }
   ],
   "source": [
    "x = [1, 3, 5, 2, 8]\n",
    "y = [6, 7, 9, 2, 4]\n",
    "\n",
    "plt.scatter(x, y)\n",
    "plt.xlabel('X axis')\n",
    "plt.ylabel('Y axis')\n",
    "plt.title('Scatter Plot')\n",
    "plt.grid()\n",
    "plt.show()"
   ]
  },
  {
   "cell_type": "markdown",
   "id": "76b66626",
   "metadata": {},
   "source": [
    "4. How do you calculate the correlation matrix using Seaborn and visualize it with a heatmap?"
   ]
  },
  {
   "cell_type": "code",
   "execution_count": null,
   "id": "0ecc1b46",
   "metadata": {},
   "outputs": [],
   "source": []
  },
  {
   "cell_type": "markdown",
   "id": "9e45b17e",
   "metadata": {},
   "source": [
    "5. Generate a bar plot using Plotly"
   ]
  },
  {
   "cell_type": "code",
   "execution_count": null,
   "id": "e4566305",
   "metadata": {},
   "outputs": [],
   "source": []
  },
  {
   "cell_type": "markdown",
   "id": "137fd061",
   "metadata": {},
   "source": [
    "6. Create a DataFrame and add a new column based on an existing column"
   ]
  },
  {
   "cell_type": "code",
   "execution_count": 28,
   "id": "518c47bc",
   "metadata": {},
   "outputs": [
    {
     "data": {
      "text/html": [
       "<div>\n",
       "<style scoped>\n",
       "    .dataframe tbody tr th:only-of-type {\n",
       "        vertical-align: middle;\n",
       "    }\n",
       "\n",
       "    .dataframe tbody tr th {\n",
       "        vertical-align: top;\n",
       "    }\n",
       "\n",
       "    .dataframe thead th {\n",
       "        text-align: right;\n",
       "    }\n",
       "</style>\n",
       "<table border=\"1\" class=\"dataframe\">\n",
       "  <thead>\n",
       "    <tr style=\"text-align: right;\">\n",
       "      <th></th>\n",
       "      <th>Name</th>\n",
       "      <th>Age</th>\n",
       "      <th>Salary</th>\n",
       "      <th>hike_salary</th>\n",
       "    </tr>\n",
       "  </thead>\n",
       "  <tbody>\n",
       "    <tr>\n",
       "      <th>0</th>\n",
       "      <td>Chandan</td>\n",
       "      <td>25</td>\n",
       "      <td>30000</td>\n",
       "      <td>1500.0</td>\n",
       "    </tr>\n",
       "    <tr>\n",
       "      <th>1</th>\n",
       "      <td>Satya</td>\n",
       "      <td>27</td>\n",
       "      <td>20000</td>\n",
       "      <td>1000.0</td>\n",
       "    </tr>\n",
       "    <tr>\n",
       "      <th>2</th>\n",
       "      <td>Chintu</td>\n",
       "      <td>23</td>\n",
       "      <td>15000</td>\n",
       "      <td>750.0</td>\n",
       "    </tr>\n",
       "  </tbody>\n",
       "</table>\n",
       "</div>"
      ],
      "text/plain": [
       "      Name  Age  Salary  hike_salary\n",
       "0  Chandan   25   30000       1500.0\n",
       "1    Satya   27   20000       1000.0\n",
       "2   Chintu   23   15000        750.0"
      ]
     },
     "execution_count": 28,
     "metadata": {},
     "output_type": "execute_result"
    }
   ],
   "source": [
    "data = {\n",
    "    'Name': ['Chandan', 'Satya', 'Chintu'],\n",
    "    'Age': [25, 27, 23],\n",
    "    'Salary': [30000, 20000, 15000]\n",
    "\n",
    "}\n",
    "df = pd.DataFrame(data)\n",
    "df['hike_salary'] = df['Salary'] * 5/100\n",
    "df\n"
   ]
  },
  {
   "cell_type": "markdown",
   "id": "da869b70",
   "metadata": {},
   "source": [
    "7. Write a program to perform element-wise multiplication of two NumPy arrays"
   ]
  },
  {
   "cell_type": "code",
   "execution_count": 32,
   "id": "666a25f8",
   "metadata": {},
   "outputs": [
    {
     "name": "stdout",
     "output_type": "stream",
     "text": [
      "The result is [ 5 12 21 32]\n"
     ]
    }
   ],
   "source": [
    "arr1 = np.array([1, 2, 3, 4])\n",
    "arr2 = np.array([5, 6, 7, 8])\n",
    "\n",
    "# element wise multiplication\n",
    "res = arr1 * arr2\n",
    "print('The result is', res)"
   ]
  },
  {
   "cell_type": "markdown",
   "id": "6d1de08b",
   "metadata": {},
   "source": [
    "8. Create a line plot with multiple lines using Matplotlib"
   ]
  },
  {
   "cell_type": "code",
   "execution_count": 40,
   "id": "72f9d8c5",
   "metadata": {},
   "outputs": [
    {
     "data": {
      "text/plain": [
       "Text(0, 0.5, 'Stock Price')"
      ]
     },
     "execution_count": 40,
     "metadata": {},
     "output_type": "execute_result"
    },
    {
     "data": {
      "image/png": "[encoded data removed]",
      "text/plain": [
       "<Figure size 640x480 with 1 Axes>"
      ]
     },
     "metadata": {},
     "output_type": "display_data"
    }
   ],
   "source": [
    "x = [10, 20, 30, 40, 50]\n",
    "y1 = [16, 43, 27, 48, 23]\n",
    "y2 = [20, 34, 52, 25, 14]\n",
    "y3 = [26, 33, 50, 27, 29]\n",
    "\n",
    "plt.plot(x, y1, marker = 'o', markersize = 10, linestyle = '--')\n",
    "plt.plot(x, y2, marker = '*', markersize = 10, linestyle = '--')\n",
    "plt.plot(x, y3, marker = '+', markersize = 10, linestyle = '--')\n",
    "\n",
    "plt.xlabel('Days')\n",
    "plt.ylabel('Stock Price')\n"
   ]
  },
  {
   "cell_type": "markdown",
   "id": "0bcaf181",
   "metadata": {},
   "source": [
    "9. Generate a Pandas DataFrame and filter rows where a column value is greater than a threshold"
   ]
  },
  {
   "cell_type": "code",
   "execution_count": 52,
   "id": "8634147f",
   "metadata": {},
   "outputs": [
    {
     "data": {
      "text/html": [
       "<div>\n",
       "<style scoped>\n",
       "    .dataframe tbody tr th:only-of-type {\n",
       "        vertical-align: middle;\n",
       "    }\n",
       "\n",
       "    .dataframe tbody tr th {\n",
       "        vertical-align: top;\n",
       "    }\n",
       "\n",
       "    .dataframe thead th {\n",
       "        text-align: right;\n",
       "    }\n",
       "</style>\n",
       "<table border=\"1\" class=\"dataframe\">\n",
       "  <thead>\n",
       "    <tr style=\"text-align: right;\">\n",
       "      <th></th>\n",
       "      <th>Name</th>\n",
       "      <th>Age</th>\n",
       "      <th>Salary</th>\n",
       "    </tr>\n",
       "  </thead>\n",
       "  <tbody>\n",
       "    <tr>\n",
       "      <th>0</th>\n",
       "      <td>Chandan</td>\n",
       "      <td>25</td>\n",
       "      <td>30000</td>\n",
       "    </tr>\n",
       "    <tr>\n",
       "      <th>4</th>\n",
       "      <td>Mahesh</td>\n",
       "      <td>40</td>\n",
       "      <td>150000</td>\n",
       "    </tr>\n",
       "    <tr>\n",
       "      <th>5</th>\n",
       "      <td>Sidhant</td>\n",
       "      <td>30</td>\n",
       "      <td>130000</td>\n",
       "    </tr>\n",
       "  </tbody>\n",
       "</table>\n",
       "</div>"
      ],
      "text/plain": [
       "      Name  Age  Salary\n",
       "0  Chandan   25   30000\n",
       "4   Mahesh   40  150000\n",
       "5  Sidhant   30  130000"
      ]
     },
     "execution_count": 52,
     "metadata": {},
     "output_type": "execute_result"
    }
   ],
   "source": [
    "data = {\n",
    "    'Name': ['Chandan', 'Satya', 'Chintu', 'Suresh', 'Mahesh', 'Sidhant'],\n",
    "    'Age': [25, 27, 23, 32, 40, 30],\n",
    "    'Salary': [30000, 20000, 15000, 24000, 150000, 130000]\n",
    "\n",
    "}\n",
    "\n",
    "df = pd.DataFrame(data)\n",
    "\n",
    "threshold = 24000\n",
    "df[df['Salary'] > threshold]\n"
   ]
  },
  {
   "cell_type": "markdown",
   "id": "231b7e56",
   "metadata": {},
   "source": [
    "10. Create a histogram using Seaborn to visualize a distribution"
   ]
  },
  {
   "cell_type": "code",
   "execution_count": null,
   "id": "f23ff998",
   "metadata": {},
   "outputs": [],
   "source": []
  },
  {
   "cell_type": "markdown",
   "id": "a49570dd",
   "metadata": {},
   "source": [
    "11. Perform matrix multiplication using NumPy"
   ]
  },
  {
   "cell_type": "code",
   "execution_count": 43,
   "id": "746ba720",
   "metadata": {},
   "outputs": [],
   "source": [
    "arr1 = np.random.randint(1, 5, (3,3))\n",
    "arr2 = np.random.randint(1, 5, (3,3))"
   ]
  },
  {
   "cell_type": "code",
   "execution_count": 44,
   "id": "9677eea7",
   "metadata": {},
   "outputs": [
    {
     "data": {
      "text/plain": [
       "array([[1, 4, 3],\n",
       "       [4, 4, 4],\n",
       "       [1, 2, 4]])"
      ]
     },
     "execution_count": 44,
     "metadata": {},
     "output_type": "execute_result"
    }
   ],
   "source": [
    "arr1"
   ]
  },
  {
   "cell_type": "code",
   "execution_count": 45,
   "id": "d8acf77d",
   "metadata": {},
   "outputs": [
    {
     "data": {
      "text/plain": [
       "array([[1, 2, 2],\n",
       "       [3, 4, 2],\n",
       "       [2, 3, 3]])"
      ]
     },
     "execution_count": 45,
     "metadata": {},
     "output_type": "execute_result"
    }
   ],
   "source": [
    "arr2"
   ]
  },
  {
   "cell_type": "code",
   "execution_count": null,
   "id": "c67cbbe3",
   "metadata": {},
   "outputs": [
    {
     "data": {
      "text/plain": [
       "array([[19, 27, 19],\n",
       "       [24, 36, 28],\n",
       "       [15, 22, 18]])"
      ]
     },
     "execution_count": 46,
     "metadata": {},
     "output_type": "execute_result"
    }
   ],
   "source": [
    "# Matrix Multiplication\n",
    "arr1 @ arr2"
   ]
  },
  {
   "cell_type": "markdown",
   "id": "217621fd",
   "metadata": {},
   "source": [
    "12. Use Pandas to load a CSV file and display its first 5 rows"
   ]
  },
  {
   "cell_type": "code",
   "execution_count": 48,
   "id": "ee3207d1",
   "metadata": {},
   "outputs": [
    {
     "data": {
      "text/html": [
       "<div>\n",
       "<style scoped>\n",
       "    .dataframe tbody tr th:only-of-type {\n",
       "        vertical-align: middle;\n",
       "    }\n",
       "\n",
       "    .dataframe tbody tr th {\n",
       "        vertical-align: top;\n",
       "    }\n",
       "\n",
       "    .dataframe thead th {\n",
       "        text-align: right;\n",
       "    }\n",
       "</style>\n",
       "<table border=\"1\" class=\"dataframe\">\n",
       "  <thead>\n",
       "    <tr style=\"text-align: right;\">\n",
       "      <th></th>\n",
       "      <th>PassengerId</th>\n",
       "      <th>Survived</th>\n",
       "      <th>Pclass</th>\n",
       "      <th>Name</th>\n",
       "      <th>Sex</th>\n",
       "      <th>Age</th>\n",
       "      <th>SibSp</th>\n",
       "      <th>Parch</th>\n",
       "      <th>Ticket</th>\n",
       "      <th>Fare</th>\n",
       "      <th>Cabin</th>\n",
       "      <th>Embarked</th>\n",
       "    </tr>\n",
       "  </thead>\n",
       "  <tbody>\n",
       "    <tr>\n",
       "      <th>0</th>\n",
       "      <td>1</td>\n",
       "      <td>0</td>\n",
       "      <td>3</td>\n",
       "      <td>Braund, Mr. Owen Harris</td>\n",
       "      <td>male</td>\n",
       "      <td>22.0</td>\n",
       "      <td>1</td>\n",
       "      <td>0</td>\n",
       "      <td>A/5 21171</td>\n",
       "      <td>7.2500</td>\n",
       "      <td>NaN</td>\n",
       "      <td>S</td>\n",
       "    </tr>\n",
       "    <tr>\n",
       "      <th>1</th>\n",
       "      <td>2</td>\n",
       "      <td>1</td>\n",
       "      <td>1</td>\n",
       "      <td>Cumings, Mrs. John Bradley (Florence Briggs Th...</td>\n",
       "      <td>female</td>\n",
       "      <td>38.0</td>\n",
       "      <td>1</td>\n",
       "      <td>0</td>\n",
       "      <td>PC 17599</td>\n",
       "      <td>71.2833</td>\n",
       "      <td>C85</td>\n",
       "      <td>C</td>\n",
       "    </tr>\n",
       "    <tr>\n",
       "      <th>2</th>\n",
       "      <td>3</td>\n",
       "      <td>1</td>\n",
       "      <td>3</td>\n",
       "      <td>Heikkinen, Miss. Laina</td>\n",
       "      <td>female</td>\n",
       "      <td>26.0</td>\n",
       "      <td>0</td>\n",
       "      <td>0</td>\n",
       "      <td>STON/O2. 3101282</td>\n",
       "      <td>7.9250</td>\n",
       "      <td>NaN</td>\n",
       "      <td>S</td>\n",
       "    </tr>\n",
       "    <tr>\n",
       "      <th>3</th>\n",
       "      <td>4</td>\n",
       "      <td>1</td>\n",
       "      <td>1</td>\n",
       "      <td>Futrelle, Mrs. Jacques Heath (Lily May Peel)</td>\n",
       "      <td>female</td>\n",
       "      <td>35.0</td>\n",
       "      <td>1</td>\n",
       "      <td>0</td>\n",
       "      <td>113803</td>\n",
       "      <td>53.1000</td>\n",
       "      <td>C123</td>\n",
       "      <td>S</td>\n",
       "    </tr>\n",
       "    <tr>\n",
       "      <th>4</th>\n",
       "      <td>5</td>\n",
       "      <td>0</td>\n",
       "      <td>3</td>\n",
       "      <td>Allen, Mr. William Henry</td>\n",
       "      <td>male</td>\n",
       "      <td>35.0</td>\n",
       "      <td>0</td>\n",
       "      <td>0</td>\n",
       "      <td>373450</td>\n",
       "      <td>8.0500</td>\n",
       "      <td>NaN</td>\n",
       "      <td>S</td>\n",
       "    </tr>\n",
       "  </tbody>\n",
       "</table>\n",
       "</div>"
      ],
      "text/plain": [
       "   PassengerId  Survived  Pclass  \\\n",
       "0            1         0       3   \n",
       "1            2         1       1   \n",
       "2            3         1       3   \n",
       "3            4         1       1   \n",
       "4            5         0       3   \n",
       "\n",
       "                                                Name     Sex   Age  SibSp  \\\n",
       "0                            Braund, Mr. Owen Harris    male  22.0      1   \n",
       "1  Cumings, Mrs. John Bradley (Florence Briggs Th...  female  38.0      1   \n",
       "2                             Heikkinen, Miss. Laina  female  26.0      0   \n",
       "3       Futrelle, Mrs. Jacques Heath (Lily May Peel)  female  35.0      1   \n",
       "4                           Allen, Mr. William Henry    male  35.0      0   \n",
       "\n",
       "   Parch            Ticket     Fare Cabin Embarked  \n",
       "0      0         A/5 21171   7.2500   NaN        S  \n",
       "1      0          PC 17599  71.2833   C85        C  \n",
       "2      0  STON/O2. 3101282   7.9250   NaN        S  \n",
       "3      0            113803  53.1000  C123        S  \n",
       "4      0            373450   8.0500   NaN        S  "
      ]
     },
     "execution_count": 48,
     "metadata": {},
     "output_type": "execute_result"
    }
   ],
   "source": [
    "d = pd.read_csv('https://raw.githubusercontent.com/datasciencedojo/datasets/master/titanic.csv')\n",
    "d.head()"
   ]
  },
  {
   "cell_type": "markdown",
   "id": "b8d8a0db",
   "metadata": {},
   "source": [
    "13. Create a 3D scatter plot using Plotly"
   ]
  },
  {
   "cell_type": "code",
   "execution_count": null,
   "id": "551bb20b",
   "metadata": {},
   "outputs": [],
   "source": []
  }
 ],
 "metadata": {
  "kernelspec": {
   "display_name": "base",
   "language": "python",
   "name": "python3"
  },
  "language_info": {
   "codemirror_mode": {
    "name": "ipython",
    "version": 3
   },
   "file_extension": ".py",
   "mimetype": "text/x-python",
   "name": "python",
   "nbconvert_exporter": "python",
   "pygments_lexer": "ipython3",
   "version": "3.11.5"
  }
 },
 "nbformat": 4,
 "nbformat_minor": 5
}
