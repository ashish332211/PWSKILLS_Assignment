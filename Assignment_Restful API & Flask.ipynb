{
 "cells": [
  {
   "cell_type": "markdown",
   "id": "d88308b7",
   "metadata": {},
   "source": [
    "1. What is a RESTful API?"
   ]
  },
  {
   "cell_type": "markdown",
   "id": "06c39a9a",
   "metadata": {},
   "source": [
    "A RESTful API (Representational State Transfer) is a type of web service that follows the principles of REST. It allows communication between a client and a server over HTTP. RESTful APIs are widely used in web development to build scalable and efficient systems. They are designed around stateless operations, allowing clients and servers to interact."
   ]
  },
  {
   "cell_type": "markdown",
   "id": "8cdfce18",
   "metadata": {},
   "source": [
    "2. Explain the concept of API specification."
   ]
  },
  {
   "cell_type": "markdown",
   "id": "aec5e30b",
   "metadata": {},
   "source": [
    "An API specification is a detailed, formal document that defines how an API works. It describes what requests an API can accept and what responses it will return — basically, it acts as a contract between the API provider and the client.\n",
    "\n",
    "For example, if you are building a weather app and want to use a weather API, the specification will tell you:\n",
    "\n",
    "* What URL to use to get weather data\n",
    "\n",
    "* What method to use (like GET to fetch data)\n",
    "\n",
    "* What parameters you need to send (like city name or date)\n",
    "\n",
    "* What kind of response you will get (like temperature, humidity, etc.)\n",
    "\n",
    "* What errors might happen and how they will be shown\n",
    "\n",
    "* If you need any authentication, like an API key"
   ]
  },
  {
   "cell_type": "markdown",
   "id": "a8c0e7c6",
   "metadata": {},
   "source": [
    "3. What is Flask, and why is it popular for building APIs?"
   ]
  },
  {
   "cell_type": "markdown",
   "id": "25d0f6aa",
   "metadata": {},
   "source": [
    "Flask is a lightweight web framework written in Python. It is commonly used to build web applications and RESTful APIs. Flask is known for being simple, flexible, and easy to get started with\n",
    "\n",
    "Unlike larger frameworks like Django, Flask is lightweight and minimal. It does not come with many built-in features, which makes it very flexible. Developers can add only the tools they need, making Flask perfect for both small and large projects.\n",
    "\n",
    "* Lightweight and Simple\n",
    "Flask is very easy to set up and use. You can create a basic API with just a few lines of code. This makes it a great choice for beginners and for those who want to build something quickly.\n",
    "\n",
    "* Easy to Learn\n",
    "Because Flask uses Python and has a simple structure, it's easier to understand compared to more complex frameworks. You don’t need to learn a lot of new concepts before starting.\n",
    "\n",
    "* Flexible and Customizable\n",
    "Flask gives you full control. It doesn’t force you to follow strict rules or structures. You can organize your code the way you want and add only the tools or extensions you need.\n",
    "\n",
    "    For example, if you want to add a database, you can choose any database (like SQLite, PostgreSQL, or MongoDB), and add it yourself.\n",
    "\n",
    "* Good for RESTful APIs\n",
    "Flask is especially good for creating RESTful APIs, which are used to send and receive data between a client (like a web app or mobile app) and a server. You can easily create API routes (URLs), handle HTTP methods (GET, POST, PUT, DELETE), and return data in JSON format, which is standard for APIs.\n",
    "\n",
    "* Built-in Development Server\n",
    "Flask has a built-in server that allows you to run and test your application locally while you’re developing it. This makes testing and debugging easier.\n",
    "\n",
    "\n",
    "\n",
    "\n",
    "\n"
   ]
  },
  {
   "cell_type": "markdown",
   "id": "38befce2",
   "metadata": {},
   "source": [
    "4. What is routing in Flask?"
   ]
  }
 ],
 "metadata": {
  "language_info": {
   "name": "python"
  }
 },
 "nbformat": 4,
 "nbformat_minor": 5
}
