{
  "nbformat": 4,
  "nbformat_minor": 0,
  "metadata": {
    "colab": {
      "provenance": []
    },
    "kernelspec": {
      "name": "python3",
      "display_name": "Python 3"
    },
    "language_info": {
      "name": "python"
    }
  },
  "cells": [
    {
      "cell_type": "markdown",
      "source": [
        "**Theory Questions**"
      ],
      "metadata": {
        "id": "HwBpfqn-EroK"
      }
    },
    {
      "cell_type": "markdown",
      "source": [
        "**1. What is the difference between interpreted and compiled languages?**\n",
        "\n",
        "Interpreted languages run the code line by line using an interpreter, making them easier to test and modify, but usually slower. Examples include Python and JavaScript.\n",
        "\n",
        "Compiled languages convert the whole program into machine code before running, which makes them faster but less flexible for quick changes. Examples include C and C++.\n"
      ],
      "metadata": {
        "id": "nWOpkVw5-fEg"
      }
    },
    {
      "cell_type": "markdown",
      "source": [
        "**2.  What is exception handling in Python?**\n",
        "\n",
        "-> Exception is a blockage that has been created for the flow of executions due to the input.\n",
        "\n",
        "-> The phenomenon of handling that exception to avoid about the termination of the program is called Exception Handling.\n",
        "\n",
        "-> In this exception handling we are handling by using three blocks\n",
        "        1. try block\n",
        "        2. except block\n",
        "        3. finally block\n"
      ],
      "metadata": {
        "id": "SoYQyCTu-gGB"
      }
    },
    {
      "cell_type": "markdown",
      "source": [
        "**3. What is the purpose of the finally block in exception handling?**\n",
        "\n",
        "The finally block in the exceptions handling contain's set of statements that is needed to get executed whether an exception is raised or not. This block is not a mandatory statement block\n",
        "\n"
      ],
      "metadata": {
        "id": "vwngMBIfAfgI"
      }
    },
    {
      "cell_type": "markdown",
      "source": [
        "**4. What is logging in Python**?\n",
        "\n",
        "Logging in Python is the process of recording important events, errors, or informational messages from a running program.\n",
        "It helps developers track what the program is doing, debug issues, and keep a history of events for later analysis."
      ],
      "metadata": {
        "id": "-HvP0BqtCqKV"
      }
    },
    {
      "cell_type": "markdown",
      "source": [],
      "metadata": {
        "id": "2UOMDSFrDqQb"
      }
    },
    {
      "cell_type": "markdown",
      "source": [
        "**5. What is the significance of the __del__ method in Python?**\n",
        "\n",
        "The __del__ method in Python is a special method known as a destructor.\n",
        "\n",
        "It is automatically called when an object is about to be destroyed and developers do not need to explicitly call it, that is when Python's garbage collector determines that there are no remaining references to the object and it can be safely removed from memory."
      ],
      "metadata": {
        "id": "-bXGQv5oDt1d"
      }
    },
    {
      "cell_type": "markdown",
      "source": [
        "**6. What is the difference between import and from ... import in Python?**\n",
        "\n",
        "**import**\n",
        "\n",
        "This statement imports the entire module_name and makes it available as an object in the current namespace.\n",
        "\n",
        "To access any function, class, or variable within the imported module, you must prefix it with the module name and a dot (e.g., module_name.function_name()).\n",
        "\n",
        "Ex: import logging\n",
        "\n",
        "**from module_name import specific_item**\n",
        "\n",
        "This statement imports only specific_item (e.g., a function, class, or variable) from module_name directly into the current namespace.\n",
        "\n",
        "We can then use specific_item directly without needing to prefix it with the module name.\n",
        "\n",
        "Ex: from math import pi\n"
      ],
      "metadata": {
        "id": "l5pzQJ0NE49X"
      }
    },
    {
      "cell_type": "markdown",
      "source": [
        "**7.  How can you handle multiple exceptions in Python?**\n",
        "\n",
        "We can handle multiple exception in python by using several ways\n",
        "\n",
        "-> If the same handling logic applies to multiple types of exceptions, then we can be grouped together in a tuple within a single except clause.\n",
        "\n",
        "-> If different types of exceptions require distinct handling mechanisms, separate except clauses can be used for each exception type. The first except block whose exception type matches the raised exception will be executed."
      ],
      "metadata": {
        "id": "SU-x28RNTJVm"
      }
    },
    {
      "cell_type": "markdown",
      "source": [
        "**8.  What is the purpose of the with statement when handling files in Python?**\n",
        "\n",
        "-> The with statement in Python is used for handling files safely and efficiently. It ensures that the file is properly opened and automatically closed after the block of code is executed, even if an error occurs.\n",
        "\n",
        "->It removes the need for try...finally blocks solely for resource cleanup, making the code more concise and readable."
      ],
      "metadata": {
        "id": "wkhYsE4cVNZ1"
      }
    },
    {
      "cell_type": "markdown",
      "source": [
        "**9. What is the difference between multithreading and multiprocessing**\n",
        "\n",
        "**Multithreading**\n",
        "\n",
        "Multithreading is a technique where multiple threads (smaller units of a process) run concurrently within the same process, sharing the same memory space.\n",
        "\n",
        "Multithreading is well-suited for I/O-bound tasks where the program spends a lot of time waiting for external operations (e.g., network requests, file I/O). During these waiting periods, the GIL can be released, allowing other threads to execute.\n",
        "\n",
        "**Multiprocessing**\n",
        "\n",
        "Multiprocessing involves running multiple independent processes simultaneously, each with its own memory space and system resources.\n",
        "\n",
        "Multiprocessing is ideal for CPU-bound tasks that require significant computational power and can benefit from parallel execution across multiple cores."
      ],
      "metadata": {
        "id": "-6Xu8FVXWdZL"
      }
    },
    {
      "cell_type": "markdown",
      "source": [
        "**10. What are the advantages of using logging in a program?**\n",
        "\n",
        "  1.Easier Debugging: Logs provide detailed information about the program's execution, helping you identify where and why errors happen.\n",
        "\n",
        "  2.Error Tracking: Logs capture errors and exceptions automatically, making it simpler to monitor and fix issues.\n",
        "\n",
        "  3.Better Monitoring: Logs can show the program's behavior over time, helping detect unusual activities or performance issues.\n",
        "\n",
        "  4.Configurable Levels: Logging allows different levels like (DEBUG, INFO, WARNING, ERROR, CRITICAL) which enables developers to control the verbosity of log output, filtering messages based on their severity and relevance for different environments"
      ],
      "metadata": {
        "id": "mYJk_4_qZ5U8"
      }
    },
    {
      "cell_type": "markdown",
      "source": [
        "**11. What is memory management in Python?**\n",
        "\n",
        "Memory management in Python refers to the system that automatically handles how Python programs use and release memory resources. While in other languages where developers manually allocate and deallocate memory but Python provides automatic memory management, simplifying development and reducing common memory-related errors.\n",
        "\n",
        "This is the primary mechanism for memory management in Python. Each object maintains a reference count, which tracks the number of references pointing to it. When an object's reference count drops to zero, it signifies that the object is no longer being used and its memory can be reclaimed."
      ],
      "metadata": {
        "id": "7kymerP3axej"
      }
    },
    {
      "cell_type": "markdown",
      "source": [
        "**12. What are the basic steps involved in exception handling in Python?**\n",
        "\n",
        "Exception handling in Python involves several basic steps using try, except and finally blocks to manage the errors and ensure program stability.\n",
        "\n",
        "try : It is a block of statement where an exception may arise\n",
        "\n",
        "except : If an exception occurs within the try block, execution immediately jumps to the corresponding except block. The code within the except block defines how to handle the error.\n",
        "\n",
        "finally : This block always executes of whether an exception occurred or not. It is not a mandatory block\n",
        "\n"
      ],
      "metadata": {
        "id": "TAaCLZM7fC_8"
      }
    },
    {
      "cell_type": "markdown",
      "source": [
        "**13. Why is memory management important in Python?**\n",
        "\n",
        "Memory management in Python is important to ensure that programs run efficiently, don't waste resources, and remain stable and scalable, all while freeing developers from manual memory control.\n",
        "\n",
        "* . Efficient Resource Use : Efficient memory management ensures that programs utilize system resources, particularly RAM, effectively. This prevents unnecessary memory consumption, allowing for smoother execution and the ability to run multiple programs concurrently.\n",
        "\n",
        "* . Prevents Memory Leaks : It helps prevent memory leaks by automatically freeing memory that is no longer in use, especially with Python's garbage collector.\n",
        "\n",
        "* . Automatic Handling : Python's memory management the developers focus on logic without worrying about manual memory allocation and deallocation.\n",
        "\n",
        "* . Handling Large Data : When working with large datasets, effective memory\n",
        "management becomes critical. Techniques like using generators for data streams can help process large amounts of data without loading the entire dataset into memory, preventing memory exhaustion.\n",
        "\n",
        "\n",
        "\n",
        "\n"
      ],
      "metadata": {
        "id": "zA6UAcCuh6kS"
      }
    },
    {
      "cell_type": "markdown",
      "source": [
        "**14. What is the role of try and except in exception handling?**\n",
        "\n",
        "try : It is a block of statement where an exception may arise\n",
        "\n",
        "except : If an exception occurs within the try block, execution immediately jumps to the corresponding except block. The code within the except block defines how to handle the error."
      ],
      "metadata": {
        "id": "eziUcmPPkD0y"
      }
    },
    {
      "cell_type": "markdown",
      "source": [
        "**15. How does Python's garbage collection system work?**\n",
        "\n",
        "Garbage collection in Python is an automated memory management process that deletes objects when they are no longer in use. It uses two methods of garbage collection: reference counting and generational. Reference counting removes an object after it reaches zero, and generational garbage collection can break cyclic references to delete unused objects."
      ],
      "metadata": {
        "id": "ycGZU7rvkfwi"
      }
    },
    {
      "cell_type": "markdown",
      "source": [
        "**16. What is the purpose of the else block in exception handling?**\n",
        "\n",
        "The else block in exception handling is used to define code that should run only if no exception occurred in the try block.\n",
        "\n",
        "It's useful for separating code that should only run when the try block succeeds completely."
      ],
      "metadata": {
        "id": "wA4CdzQck7Y0"
      }
    },
    {
      "cell_type": "markdown",
      "source": [
        "**17. What are the common logging levels in Python?**\n",
        "\n",
        "1. DEBUG : Lowest level of logging. To give detailed information of any variable, msg, while doing debugging.\n",
        "2. INFO : This is used to convey that the code is working as expected and Used for general messages about program execution.\n",
        "3. WARNING : This used to indicate that something unexpected happened or potential issue in the code\n",
        "4. ERROR : This shows there is some serious problem with the function\n",
        "5. CRITICAL : This is termination program/code/software. Indicates a very serious error, like a system crash or program shutdown.\n"
      ],
      "metadata": {
        "id": "LFoeDGcAnbwZ"
      }
    },
    {
      "cell_type": "markdown",
      "source": [
        "**18. What is the difference between os.fork() and multiprocessing in Python?**\n",
        "\n",
        "os.fork() is a low-level, Unix-only function that creates a child process by duplicating the current one. It's powerful but less safe and harder to manage.\n",
        "\n",
        "On the other hand, multiprocessing is a high-level, cross-platform Python module that simplifies process creation and communication. It is safer, easier to use, and works well for both I/O-bound and CPU-bound tasks."
      ],
      "metadata": {
        "id": "V4TV5trTowX5"
      }
    },
    {
      "cell_type": "markdown",
      "source": [
        "**19. What is the importance of closing a file in Python?**\n",
        "\n",
        "Closing a file in Python is crucial because it ensures that data is properly saved, system resources are released, and potential errors like data corruption or file locking are avoided. It is a good programming practice, and the recommended way to handle files safely is by using the with statement, which automatically closes the file after use."
      ],
      "metadata": {
        "id": "ljb2jDaTsNOO"
      }
    },
    {
      "cell_type": "markdown",
      "source": [
        "**20. What is the difference between file.read() and file.readline() in Python**?\n",
        "\n",
        "**file.read()**\n",
        "\n",
        "This method reads the entire content of the file and returns it as a single string.\n",
        "It is suitable for reading small to medium-sized files where the entire content can be loaded into memory without performance issues.\n",
        "\n",
        "**file.readline()**\n",
        "\n",
        "This method reads a single line from the file and returns it as a string. It is particularly useful for processing large files line by line, as it avoids loading the entire file into memory at once."
      ],
      "metadata": {
        "id": "gJJuwSRitCJT"
      }
    },
    {
      "cell_type": "markdown",
      "source": [
        "**21. What is the logging module in Python used for?**\n",
        "\n",
        "The logging module in Python is used to record messages about a program's execution. It allows developers to record information about errors, warnings, and other events that occur during program execution. This helps in debugging, troubleshooting, and monitoring the application's behavior.\n",
        "\n",
        "Instead of using print statements, which are often temporary and lack context, the logging module provides a structured approach (DEBUG, INFO, WARNING, ERROR, CRITICAL) to capturing information about program execution."
      ],
      "metadata": {
        "id": "iPrJr03auP0u"
      }
    },
    {
      "cell_type": "markdown",
      "source": [
        "**22. What is the os module in Python used for in file handling?**\n",
        "\n",
        "The Python OS module is essential for file-related tasks, enabling efficient file and directory management in programs. It allows you to easily handle the current working directory, create and delete directories, list files and folders, and perform file operations."
      ],
      "metadata": {
        "id": "zft2F6K-vfQC"
      }
    },
    {
      "cell_type": "markdown",
      "source": [
        "**23. What are the challenges associated with memory management in Python?**\n",
        "\n",
        " 1. Reference Cycles : Objects that refer to each other can create circular references that aren't immediately cleared by Python's garbage collector.\n",
        "\n",
        " 2. Memory Leaks : Unused objects that are still referenced can cause memory to be held unnecessarily, especially in long-running applications.\n",
        "\n",
        " 3. Global Interpreter Lock (GIL) : The GIL limits true parallel execution of threads in CPython, which can restrict memory efficiency in multi-threaded programs.\n",
        "\n",
        " 4. High Memory Usage : Python's dynamic typing and high-level data structures (like lists, dicts) use more memory than lower-level languages.\n",
        "\n",
        " 5. Manual Cleanup Required : Files, database connections, and large objects still need to be manually closed or deleted to prevent excessive memory usage."
      ],
      "metadata": {
        "id": "qmW1ExEsw2SX"
      }
    },
    {
      "cell_type": "markdown",
      "source": [
        "**24. How do you raise an exception manually in Python?**\n",
        "\n",
        "In Python, we can manually raise an exception using the **raise** keyword. This keyword allows you to throw an exception with a custom error message. It allows developers to explicitly signal that an error condition has occurred at a specific point in the code, interrupting the normal program flow.\n",
        "\n",
        "syntax : raise ExceptionType(\"Error message\")"
      ],
      "metadata": {
        "id": "WbZoR3QCyx_B"
      }
    },
    {
      "cell_type": "markdown",
      "source": [
        "**25. Why is it important to use multithreading in certain applications?**\n",
        "\n",
        "Multithreading is important for applications where multiple tasks need to be performed concurrently, enhancing performance, responsiveness, and resource utilization. It allows applications to handle multiple operations simultaneously, making them more efficient and user-friendly.\n",
        "\n",
        "* Improved Performance: Multithreading improves the performance of applications by running the task simultaneously.\n",
        "\n",
        "* Better Responsiveness: Multithreading improves the responsiveness of your backend applications by running threads after a task is blocked. It helps in handling multiple user requests in a real-time application.\n",
        "\n",
        "* Scalability: Multithreading improves the scalability of an application by letting developers add more processors. It is useful when handling a large, growing number of users on a server.\n",
        "\n",
        "* Latency: Multithreading reduces the time of user requests in applications that need immediate attention. The threads work in sync to process the requests and responses.\n",
        "\n",
        "* Real-time processing: Multithreading ensures tasks or requests are executed with little delay and maintains a smooth performance during real-time data processing"
      ],
      "metadata": {
        "id": "A2s52SIlz9Iu"
      }
    },
    {
      "cell_type": "markdown",
      "source": [
        "**Practical Questions**"
      ],
      "metadata": {
        "id": "hcqJveaKExP5"
      }
    },
    {
      "cell_type": "markdown",
      "source": [
        "**1. How can you open a file for writing in Python and write a string to it?**"
      ],
      "metadata": {
        "id": "p8mf7ubtE1WH"
      }
    },
    {
      "cell_type": "code",
      "source": [
        "with open('emp.txt', 'w') as f:\n",
        "    f.write('I am an employee \\n')\n",
        "    f.write('I am working in a bank \\n')"
      ],
      "metadata": {
        "id": "NnHOOQsyFMws"
      },
      "execution_count": 6,
      "outputs": []
    },
    {
      "cell_type": "markdown",
      "source": [
        "**2. Write a Python program to read the contents of a file and print each line**"
      ],
      "metadata": {
        "id": "n7XdTM5ZFdsf"
      }
    },
    {
      "cell_type": "code",
      "source": [
        "with open('emp.txt', 'r') as f:\n",
        "    for i in f:\n",
        "        print(i)"
      ],
      "metadata": {
        "colab": {
          "base_uri": "https://localhost:8080/"
        },
        "id": "-NrWzLKqFqrn",
        "outputId": "16c38479-601f-4cf9-eeca-7048a1eb6055"
      },
      "execution_count": null,
      "outputs": [
        {
          "output_type": "stream",
          "name": "stdout",
          "text": [
            "I am an employee \n",
            "\n",
            "I am working in a bank \n",
            "\n"
          ]
        }
      ]
    },
    {
      "cell_type": "markdown",
      "source": [
        "**3. How would you handle a case where the file doesn't exist while trying to open it for reading**"
      ],
      "metadata": {
        "id": "NTP73Si8FoZx"
      }
    },
    {
      "cell_type": "code",
      "source": [
        "# To handle a case where the file doesn't exist while trying to open it for reading, we can use try - except block to find out the error\n",
        "try:\n",
        "    with open('std.txt', 'r') as f:\n",
        "        for i in f:\n",
        "            print(i)\n",
        "except FileNotFoundError as e:\n",
        "    print(f\"The file 'std.txt' doesn't exist\", e)"
      ],
      "metadata": {
        "colab": {
          "base_uri": "https://localhost:8080/"
        },
        "id": "64xAmFF4He_g",
        "outputId": "6757c47a-32b0-4f4b-ac9a-db8253657669"
      },
      "execution_count": null,
      "outputs": [
        {
          "output_type": "stream",
          "name": "stdout",
          "text": [
            "The file 'std.txt' doesn't exist [Errno 2] No such file or directory: 'std.txt'\n"
          ]
        }
      ]
    },
    {
      "cell_type": "markdown",
      "source": [
        "**4. Write a Python script that reads from one file and writes its content to another file**"
      ],
      "metadata": {
        "id": "F6-5gEWLFwD0"
      }
    },
    {
      "cell_type": "code",
      "source": [
        "try:\n",
        "    with open('emp.txt', 'r') as f:\n",
        "        with open('clg.txt', 'w') as c:\n",
        "            for i in f:\n",
        "                c.write(i)\n",
        "    print('Content copied')\n",
        "except FileNotFoundError as e:\n",
        "    print('The file emp.txt doesnt exist...So It couldnt copied', e)"
      ],
      "metadata": {
        "colab": {
          "base_uri": "https://localhost:8080/"
        },
        "id": "v4KJU9heHhYO",
        "outputId": "231addf1-38eb-42e6-fddc-afb6e30586fa"
      },
      "execution_count": null,
      "outputs": [
        {
          "output_type": "stream",
          "name": "stdout",
          "text": [
            "Content copied\n"
          ]
        }
      ]
    },
    {
      "cell_type": "markdown",
      "source": [
        "**5. How would you catch and handle division by zero error in Python?**"
      ],
      "metadata": {
        "id": "MLWJSO07F2R-"
      }
    },
    {
      "cell_type": "code",
      "source": [
        "try:\n",
        "    res = 10/0\n",
        "    print(res)\n",
        "except ZeroDivisionError as e:\n",
        "    print('Can not devide by 0',e)"
      ],
      "metadata": {
        "colab": {
          "base_uri": "https://localhost:8080/"
        },
        "id": "1n2qMgNoHmMP",
        "outputId": "3d2e95d2-83d6-4bfc-a63f-05abd0071843"
      },
      "execution_count": null,
      "outputs": [
        {
          "output_type": "stream",
          "name": "stdout",
          "text": [
            "Can not devide by 0 division by zero\n"
          ]
        }
      ]
    },
    {
      "cell_type": "markdown",
      "source": [
        "**6. Write a Python program that logs an error message to a log file when a division by zero exception occurs**\n",
        "\n"
      ],
      "metadata": {
        "id": "HhnOq1LSGBok"
      }
    },
    {
      "cell_type": "code",
      "source": [
        "import logging\n",
        "logging.basicConfig(filename='error.log', level=logging.ERROR, format='%(asctime)s %(levelname)s %(message)s')\n",
        "\n",
        "def division(a, b):\n",
        "    try:\n",
        "        return a/b\n",
        "    except ZeroDivisionError as e:\n",
        "        logging.error(f'Attempted to devide by 0 %s',e)\n",
        "        print('An error has been found')\n",
        "\n",
        "division(14, 0)"
      ],
      "metadata": {
        "colab": {
          "base_uri": "https://localhost:8080/"
        },
        "id": "BVY9JjhnHnjG",
        "outputId": "debf15c2-d90a-49b7-ceff-f73b99a40ab3"
      },
      "execution_count": null,
      "outputs": [
        {
          "output_type": "stream",
          "name": "stderr",
          "text": [
            "ERROR:root:Attempted to devide by 0 division by zero\n"
          ]
        },
        {
          "output_type": "stream",
          "name": "stdout",
          "text": [
            "An error has been found\n"
          ]
        }
      ]
    },
    {
      "cell_type": "markdown",
      "source": [
        "**7.  How do you log information at different levels (INFO, ERROR, WARNING) in Python using the logging module**"
      ],
      "metadata": {
        "id": "eoJzqS_5GIHV"
      }
    },
    {
      "cell_type": "code",
      "source": [
        "import logging\n",
        "logging.basicConfig(filename='sample.log', level=logging.DEBUG, format='%(asctime)s %(message)s')\n",
        "logging.debug('This message is for debug')\n",
        "logging.info('This message is for information')\n",
        "logging.warning('It is warning message')\n",
        "logging.error('This is for error')"
      ],
      "metadata": {
        "colab": {
          "base_uri": "https://localhost:8080/"
        },
        "id": "7QOQtIPPH6B_",
        "outputId": "cbe4f7c4-7d78-441a-949e-26ed863ada9f"
      },
      "execution_count": null,
      "outputs": [
        {
          "output_type": "stream",
          "name": "stderr",
          "text": [
            "WARNING:root:It is warning message\n",
            "ERROR:root:This is for error\n"
          ]
        }
      ]
    },
    {
      "cell_type": "markdown",
      "source": [
        "**8. Write a program to handle a file opening error using exception handling**"
      ],
      "metadata": {
        "id": "ekdeEbppGOTB"
      }
    },
    {
      "cell_type": "code",
      "source": [
        "try:\n",
        "    with open('file.txt', 'r') as f:\n",
        "        content = f.read()\n",
        "        print(content)\n",
        "except FileNotFoundError as e:\n",
        "    print('The file.txt doesnt exist', e)"
      ],
      "metadata": {
        "colab": {
          "base_uri": "https://localhost:8080/"
        },
        "id": "EAEebQ4NIBaj",
        "outputId": "00b50988-a42e-4255-e69d-f8c3823ced04"
      },
      "execution_count": null,
      "outputs": [
        {
          "output_type": "stream",
          "name": "stdout",
          "text": [
            "The file.txt doesnt exist [Errno 2] No such file or directory: 'file.txt'\n"
          ]
        }
      ]
    },
    {
      "cell_type": "markdown",
      "source": [
        "**9. How can you read a file line by line and store its content in a list in Python**"
      ],
      "metadata": {
        "id": "squ6ZoyRGQNM"
      }
    },
    {
      "cell_type": "code",
      "source": [
        "# We can read a file line by line and store its contents in a list in Python using the built-in open() and readlines() function.\n",
        "# readlines() reads all lines from the file and returns a list where each item is one line (including the \\n newline character).\n",
        "with open('emp.txt', 'r') as f:\n",
        "    res = f.readlines()\n",
        "    print(res)"
      ],
      "metadata": {
        "colab": {
          "base_uri": "https://localhost:8080/"
        },
        "id": "UL8WUw_mICns",
        "outputId": "3eeb02df-1288-4cb3-c84e-d4839ec72081"
      },
      "execution_count": null,
      "outputs": [
        {
          "output_type": "stream",
          "name": "stdout",
          "text": [
            "['I am an employee \\n', 'I am working in a bank \\n']\n"
          ]
        }
      ]
    },
    {
      "cell_type": "markdown",
      "source": [
        "**10.  How can you append data to an existing file in Python?**"
      ],
      "metadata": {
        "id": "zeOpV46iGYTB"
      }
    },
    {
      "cell_type": "code",
      "source": [
        "# To append data to an existing file in Python, you use the open() function with the mode 'a' (append).\n",
        "# This mode allows you to add new content to the end of the file without overwriting the existing content.\n",
        "\n",
        "with open('emp.txt', 'a') as f:\n",
        "    f.write('Hello...How are You !!! \\n')"
      ],
      "metadata": {
        "id": "_RQxh1mIIGud"
      },
      "execution_count": null,
      "outputs": []
    },
    {
      "cell_type": "markdown",
      "source": [
        "**11.  Write a Python program that uses a try-except block to handle an error when attempting to access a dictionary key that doesn't exist**"
      ],
      "metadata": {
        "id": "LHIF83PNGcu3"
      }
    },
    {
      "cell_type": "code",
      "source": [
        "student = {'name':'Chandan', 'college':'DRIEMS'}\n",
        "\n",
        "try:\n",
        "    print(student['age'])\n",
        "except KeyError:\n",
        "    print('age key not found in the dictionary')"
      ],
      "metadata": {
        "colab": {
          "base_uri": "https://localhost:8080/"
        },
        "id": "jK7xy4g2IJrN",
        "outputId": "7d44b9b8-db32-446e-aae5-65cae507a9f9"
      },
      "execution_count": null,
      "outputs": [
        {
          "output_type": "stream",
          "name": "stdout",
          "text": [
            "age key not found in the dictionary\n"
          ]
        }
      ]
    },
    {
      "cell_type": "markdown",
      "source": [
        "**12.  Write a program that demonstrates using multiple except blocks to handle different types of exceptions**"
      ],
      "metadata": {
        "id": "oePV0B8bGnFI"
      }
    },
    {
      "cell_type": "code",
      "source": [
        "try:\n",
        "    num1 = int(input('Enter a number: '))\n",
        "    num2 = int(input('Enter another number: '))\n",
        "    print(num1 / num2)\n",
        "except ZeroDivisionError as e:\n",
        "    print('Can not devided by Zero', e)\n",
        "except ValueError as e:\n",
        "    print('Invalid Input...Please enter a valid integer number', e)\n"
      ],
      "metadata": {
        "colab": {
          "base_uri": "https://localhost:8080/"
        },
        "id": "BCXNRd7NIMuq",
        "outputId": "34cde870-84aa-47d8-d6b2-92f726eca71c"
      },
      "execution_count": null,
      "outputs": [
        {
          "output_type": "stream",
          "name": "stdout",
          "text": [
            "Enter a number: 12\n",
            "Enter another number: abc\n",
            "Invalid Input...Please enter a valid integer number invalid literal for int() with base 10: 'abc'\n"
          ]
        }
      ]
    },
    {
      "cell_type": "markdown",
      "source": [
        "**13.  How would you check if a file exists before attempting to read it in Python**"
      ],
      "metadata": {
        "id": "Gjck_IlRGrke"
      }
    },
    {
      "cell_type": "code",
      "source": [
        "# To check if a file exists before reading it in Python, you can use the os.path.exists() function from the os module\n",
        "import os\n",
        "os.path.exists('emp.txt')\n",
        "# It returns true...So the file is exist\n",
        "with open('emp.txt', 'r') as f:\n",
        "        content = f.read()\n",
        "        print(content)"
      ],
      "metadata": {
        "colab": {
          "base_uri": "https://localhost:8080/"
        },
        "id": "xwDNpPcQIblH",
        "outputId": "635ddee7-cf0a-41e4-bc38-d85e7f345024"
      },
      "execution_count": null,
      "outputs": [
        {
          "output_type": "stream",
          "name": "stdout",
          "text": [
            "I am an employee \n",
            "I am working in a bank \n",
            "Hello...How are You !!! \n",
            "\n"
          ]
        }
      ]
    },
    {
      "cell_type": "markdown",
      "source": [
        "**14. Write a program that uses the logging module to log both informational and error messages**"
      ],
      "metadata": {
        "id": "ucju70x8GvJe"
      }
    },
    {
      "cell_type": "code",
      "source": [
        "import logging\n",
        "logging.basicConfig(filename = 'exp.log', level=logging.DEBUG, format='%(asctime)s %(message)s')\n",
        "\n",
        "def div(a, b):\n",
        "    try:\n",
        "        res = a/b\n",
        "        logging.info(f'Divided successfully %s', res)\n",
        "        return res\n",
        "    except ZeroDivisionError as e:\n",
        "        logging.error(f'Division by Zero error %s', e)\n",
        "        print('Can not devided by zero')\n",
        "\n",
        "div(10, 0)"
      ],
      "metadata": {
        "colab": {
          "base_uri": "https://localhost:8080/"
        },
        "id": "Z5M3IBF1IdWe",
        "outputId": "ec53d403-9d86-4269-93dd-6ad1979fc2ee"
      },
      "execution_count": null,
      "outputs": [
        {
          "output_type": "stream",
          "name": "stderr",
          "text": [
            "ERROR:root:Division by Zero error division by zero\n"
          ]
        },
        {
          "output_type": "stream",
          "name": "stdout",
          "text": [
            "Can not devided by zero\n"
          ]
        }
      ]
    },
    {
      "cell_type": "markdown",
      "source": [
        "**15. Write a Python program that prints the content of a file and handles the case when the file is empty**"
      ],
      "metadata": {
        "id": "5FQHJxzVGzWU"
      }
    },
    {
      "cell_type": "code",
      "source": [
        "try:\n",
        "    with open('emp.txt', 'r') as f:\n",
        "        content = f.read()\n",
        "        if content == '':\n",
        "            print('The file is empty')\n",
        "        else:\n",
        "            print(content)\n",
        "except FileNotFoundError as e:\n",
        "    print('The file doesnt exist')\n",
        "\n",
        "\n",
        "# We can also use os.path.getsize('emp.txt') == 0 to check the file is empty or not"
      ],
      "metadata": {
        "colab": {
          "base_uri": "https://localhost:8080/"
        },
        "id": "PD_SV9qOIhB7",
        "outputId": "0ec14ae4-26a0-4ad4-cdb8-e2b4b5b428e2"
      },
      "execution_count": null,
      "outputs": [
        {
          "output_type": "stream",
          "name": "stdout",
          "text": [
            "I am an employee \n",
            "I am working in a bank \n",
            "Hello...How are You !!! \n",
            "\n"
          ]
        }
      ]
    },
    {
      "cell_type": "markdown",
      "source": [
        "**16.  Demonstrate how to use memory profiling to check the memory usage of a small program**"
      ],
      "metadata": {
        "id": "kdySaBPsG23f"
      }
    },
    {
      "cell_type": "code",
      "source": [
        "get_ipython().system('pip install memory_profiler')\n",
        "from memory_profiler import profile\n",
        "\n",
        "@profile\n",
        "def create_list():\n",
        "    a = [i for i in range(1000000)]\n",
        "    return sum(a)\n",
        "\n",
        "if __name__ == \"__main__\":\n",
        "    create_list()\n",
        "\n",
        "#My code is fully correct...But in google colab its difficult to getting output\n"
      ],
      "metadata": {
        "id": "zQuj8VD0IlEJ",
        "colab": {
          "base_uri": "https://localhost:8080/"
        },
        "outputId": "12d47c71-ba6c-46f4-b3eb-5aa47627aa8b"
      },
      "execution_count": 8,
      "outputs": [
        {
          "output_type": "stream",
          "name": "stdout",
          "text": [
            "Requirement already satisfied: memory_profiler in /usr/local/lib/python3.11/dist-packages (0.61.0)\n",
            "Requirement already satisfied: psutil in /usr/local/lib/python3.11/dist-packages (from memory_profiler) (5.9.5)\n"
          ]
        },
        {
          "output_type": "stream",
          "name": "stderr",
          "text": [
            "\n",
            "PYDEV DEBUGGER WARNING:\n",
            "sys.settrace() should not be used when the debugger is being used.\n",
            "This may cause the debugger to stop working correctly.\n",
            "If this is needed, please check: \n",
            "http://pydev.blogspot.com/2007/06/why-cant-pydev-debugger-work-with.html\n",
            "to see how to restore the debug tracing back correctly.\n",
            "Call Location:\n",
            "  File \"/usr/local/lib/python3.11/dist-packages/memory_profiler.py\", line 847, in enable\n",
            "    sys.settrace(self.trace_memory_usage)\n",
            "\n"
          ]
        },
        {
          "output_type": "stream",
          "name": "stdout",
          "text": [
            "ERROR: Could not find file /tmp/ipython-input-8-4212858577.py\n"
          ]
        },
        {
          "output_type": "stream",
          "name": "stderr",
          "text": [
            "\n",
            "PYDEV DEBUGGER WARNING:\n",
            "sys.settrace() should not be used when the debugger is being used.\n",
            "This may cause the debugger to stop working correctly.\n",
            "If this is needed, please check: \n",
            "http://pydev.blogspot.com/2007/06/why-cant-pydev-debugger-work-with.html\n",
            "to see how to restore the debug tracing back correctly.\n",
            "Call Location:\n",
            "  File \"/usr/local/lib/python3.11/dist-packages/memory_profiler.py\", line 850, in disable\n",
            "    sys.settrace(self._original_trace_function)\n",
            "\n"
          ]
        }
      ]
    },
    {
      "cell_type": "markdown",
      "source": [
        "![Screenshot 2025-07-16 110140.png](data:image/png;base64,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)"
      ],
      "metadata": {
        "id": "3oF2DXE6uQvb"
      }
    },
    {
      "cell_type": "markdown",
      "source": [
        "**17. Write a Python program to create and write a list of numbers to a file, one number per line**"
      ],
      "metadata": {
        "id": "V9YxPablG7YU"
      }
    },
    {
      "cell_type": "code",
      "source": [
        "numbers = [10, 20, 30, 40, 50]\n",
        "with open('my_num.txt', 'w') as f:\n",
        "    for num in numbers:\n",
        "        f.write(f'{num} \\n')"
      ],
      "metadata": {
        "id": "noaHTa-pIljq"
      },
      "execution_count": null,
      "outputs": []
    },
    {
      "cell_type": "markdown",
      "source": [
        "**18.  How would you implement a basic logging setup that logs to a file with rotation after 1MB**"
      ],
      "metadata": {
        "id": "rzEsSoaoG-zz"
      }
    },
    {
      "cell_type": "code",
      "source": [
        "import logging\n",
        "from logging.handlers import RotatingFileHandler\n",
        "import os\n",
        "\n",
        "log_file = 'rotated_log.log'\n",
        "\n",
        "logger = logging.getLogger()\n",
        "logger.setLevel(logging.INFO)\n",
        "\n",
        "handler = RotatingFileHandler(log_file, maxBytes=1024 * 1024, backupCount=5)\n",
        "\n",
        "\n",
        "formatter = logging.Formatter('%(asctime)s - %(name)s - %(levelname)s - %(message)s')\n",
        "\n",
        "handler.setFormatter(formatter)\n",
        "\n",
        "logger.addHandler(handler)\n",
        "\n",
        "for i in range(1000):\n",
        "    logger.info(f'This is log message number {i+1}')\n",
        "\n",
        "print(f\"Logging complete. Check the '{log_file}' file and its rotations.\")"
      ],
      "metadata": {
        "colab": {
          "base_uri": "https://localhost:8080/"
        },
        "id": "Yb9PYXbrpFIw",
        "outputId": "d086f1ea-f468-467a-8ea0-51bf481ff2c1"
      },
      "execution_count": 4,
      "outputs": [
        {
          "output_type": "stream",
          "name": "stderr",
          "text": [
            "INFO:root:This is log message number 1\n",
            "INFO:root:This is log message number 2\n",
            "INFO:root:This is log message number 3\n",
            "INFO:root:This is log message number 4\n",
            "INFO:root:This is log message number 5\n",
            "INFO:root:This is log message number 6\n",
            "INFO:root:This is log message number 7\n",
            "INFO:root:This is log message number 8\n",
            "INFO:root:This is log message number 9\n",
            "INFO:root:This is log message number 10\n",
            "INFO:root:This is log message number 11\n",
            "INFO:root:This is log message number 12\n",
            "INFO:root:This is log message number 13\n",
            "INFO:root:This is log message number 14\n",
            "INFO:root:This is log message number 15\n",
            "INFO:root:This is log message number 16\n",
            "INFO:root:This is log message number 17\n",
            "INFO:root:This is log message number 18\n",
            "INFO:root:This is log message number 19\n",
            "INFO:root:This is log message number 20\n",
            "INFO:root:This is log message number 21\n",
            "INFO:root:This is log message number 22\n",
            "INFO:root:This is log message number 23\n",
            "INFO:root:This is log message number 24\n",
            "INFO:root:This is log message number 25\n",
            "INFO:root:This is log message number 26\n",
            "INFO:root:This is log message number 27\n",
            "INFO:root:This is log message number 28\n",
            "INFO:root:This is log message number 29\n",
            "INFO:root:This is log message number 30\n",
            "INFO:root:This is log message number 31\n",
            "INFO:root:This is log message number 32\n",
            "INFO:root:This is log message number 33\n",
            "INFO:root:This is log message number 34\n",
            "INFO:root:This is log message number 35\n",
            "INFO:root:This is log message number 36\n",
            "INFO:root:This is log message number 37\n",
            "INFO:root:This is log message number 38\n",
            "INFO:root:This is log message number 39\n",
            "INFO:root:This is log message number 40\n",
            "INFO:root:This is log message number 41\n",
            "INFO:root:This is log message number 42\n",
            "INFO:root:This is log message number 43\n",
            "INFO:root:This is log message number 44\n",
            "INFO:root:This is log message number 45\n",
            "INFO:root:This is log message number 46\n",
            "INFO:root:This is log message number 47\n",
            "INFO:root:This is log message number 48\n",
            "INFO:root:This is log message number 49\n",
            "INFO:root:This is log message number 50\n",
            "INFO:root:This is log message number 51\n",
            "INFO:root:This is log message number 52\n",
            "INFO:root:This is log message number 53\n",
            "INFO:root:This is log message number 54\n",
            "INFO:root:This is log message number 55\n",
            "INFO:root:This is log message number 56\n",
            "INFO:root:This is log message number 57\n",
            "INFO:root:This is log message number 58\n",
            "INFO:root:This is log message number 59\n",
            "INFO:root:This is log message number 60\n",
            "INFO:root:This is log message number 61\n",
            "INFO:root:This is log message number 62\n",
            "INFO:root:This is log message number 63\n",
            "INFO:root:This is log message number 64\n",
            "INFO:root:This is log message number 65\n",
            "INFO:root:This is log message number 66\n",
            "INFO:root:This is log message number 67\n",
            "INFO:root:This is log message number 68\n",
            "INFO:root:This is log message number 69\n",
            "INFO:root:This is log message number 70\n",
            "INFO:root:This is log message number 71\n",
            "INFO:root:This is log message number 72\n",
            "INFO:root:This is log message number 73\n",
            "INFO:root:This is log message number 74\n",
            "INFO:root:This is log message number 75\n",
            "INFO:root:This is log message number 76\n",
            "INFO:root:This is log message number 77\n",
            "INFO:root:This is log message number 78\n",
            "INFO:root:This is log message number 79\n",
            "INFO:root:This is log message number 80\n",
            "INFO:root:This is log message number 81\n",
            "INFO:root:This is log message number 82\n",
            "INFO:root:This is log message number 83\n",
            "INFO:root:This is log message number 84\n",
            "INFO:root:This is log message number 85\n",
            "INFO:root:This is log message number 86\n",
            "INFO:root:This is log message number 87\n",
            "INFO:root:This is log message number 88\n",
            "INFO:root:This is log message number 89\n",
            "INFO:root:This is log message number 90\n",
            "INFO:root:This is log message number 91\n",
            "INFO:root:This is log message number 92\n",
            "INFO:root:This is log message number 93\n",
            "INFO:root:This is log message number 94\n",
            "INFO:root:This is log message number 95\n",
            "INFO:root:This is log message number 96\n",
            "INFO:root:This is log message number 97\n",
            "INFO:root:This is log message number 98\n",
            "INFO:root:This is log message number 99\n",
            "INFO:root:This is log message number 100\n",
            "INFO:root:This is log message number 101\n",
            "INFO:root:This is log message number 102\n",
            "INFO:root:This is log message number 103\n",
            "INFO:root:This is log message number 104\n",
            "INFO:root:This is log message number 105\n",
            "INFO:root:This is log message number 106\n",
            "INFO:root:This is log message number 107\n",
            "INFO:root:This is log message number 108\n",
            "INFO:root:This is log message number 109\n",
            "INFO:root:This is log message number 110\n",
            "INFO:root:This is log message number 111\n",
            "INFO:root:This is log message number 112\n",
            "INFO:root:This is log message number 113\n",
            "INFO:root:This is log message number 114\n",
            "INFO:root:This is log message number 115\n",
            "INFO:root:This is log message number 116\n",
            "INFO:root:This is log message number 117\n",
            "INFO:root:This is log message number 118\n",
            "INFO:root:This is log message number 119\n",
            "INFO:root:This is log message number 120\n",
            "INFO:root:This is log message number 121\n",
            "INFO:root:This is log message number 122\n",
            "INFO:root:This is log message number 123\n",
            "INFO:root:This is log message number 124\n",
            "INFO:root:This is log message number 125\n",
            "INFO:root:This is log message number 126\n",
            "INFO:root:This is log message number 127\n",
            "INFO:root:This is log message number 128\n",
            "INFO:root:This is log message number 129\n",
            "INFO:root:This is log message number 130\n",
            "INFO:root:This is log message number 131\n",
            "INFO:root:This is log message number 132\n",
            "INFO:root:This is log message number 133\n",
            "INFO:root:This is log message number 134\n",
            "INFO:root:This is log message number 135\n",
            "INFO:root:This is log message number 136\n",
            "INFO:root:This is log message number 137\n",
            "INFO:root:This is log message number 138\n",
            "INFO:root:This is log message number 139\n",
            "INFO:root:This is log message number 140\n",
            "INFO:root:This is log message number 141\n",
            "INFO:root:This is log message number 142\n",
            "INFO:root:This is log message number 143\n",
            "INFO:root:This is log message number 144\n",
            "INFO:root:This is log message number 145\n",
            "INFO:root:This is log message number 146\n",
            "INFO:root:This is log message number 147\n",
            "INFO:root:This is log message number 148\n",
            "INFO:root:This is log message number 149\n",
            "INFO:root:This is log message number 150\n",
            "INFO:root:This is log message number 151\n",
            "INFO:root:This is log message number 152\n",
            "INFO:root:This is log message number 153\n",
            "INFO:root:This is log message number 154\n",
            "INFO:root:This is log message number 155\n",
            "INFO:root:This is log message number 156\n",
            "INFO:root:This is log message number 157\n",
            "INFO:root:This is log message number 158\n",
            "INFO:root:This is log message number 159\n",
            "INFO:root:This is log message number 160\n",
            "INFO:root:This is log message number 161\n",
            "INFO:root:This is log message number 162\n",
            "INFO:root:This is log message number 163\n",
            "INFO:root:This is log message number 164\n",
            "INFO:root:This is log message number 165\n",
            "INFO:root:This is log message number 166\n",
            "INFO:root:This is log message number 167\n",
            "INFO:root:This is log message number 168\n",
            "INFO:root:This is log message number 169\n",
            "INFO:root:This is log message number 170\n",
            "INFO:root:This is log message number 171\n",
            "INFO:root:This is log message number 172\n",
            "INFO:root:This is log message number 173\n",
            "INFO:root:This is log message number 174\n",
            "INFO:root:This is log message number 175\n",
            "INFO:root:This is log message number 176\n",
            "INFO:root:This is log message number 177\n",
            "INFO:root:This is log message number 178\n",
            "INFO:root:This is log message number 179\n",
            "INFO:root:This is log message number 180\n",
            "INFO:root:This is log message number 181\n",
            "INFO:root:This is log message number 182\n",
            "INFO:root:This is log message number 183\n",
            "INFO:root:This is log message number 184\n",
            "INFO:root:This is log message number 185\n",
            "INFO:root:This is log message number 186\n",
            "INFO:root:This is log message number 187\n",
            "INFO:root:This is log message number 188\n",
            "INFO:root:This is log message number 189\n",
            "INFO:root:This is log message number 190\n",
            "INFO:root:This is log message number 191\n",
            "INFO:root:This is log message number 192\n",
            "INFO:root:This is log message number 193\n",
            "INFO:root:This is log message number 194\n",
            "INFO:root:This is log message number 195\n",
            "INFO:root:This is log message number 196\n",
            "INFO:root:This is log message number 197\n",
            "INFO:root:This is log message number 198\n",
            "INFO:root:This is log message number 199\n",
            "INFO:root:This is log message number 200\n",
            "INFO:root:This is log message number 201\n",
            "INFO:root:This is log message number 202\n",
            "INFO:root:This is log message number 203\n",
            "INFO:root:This is log message number 204\n",
            "INFO:root:This is log message number 205\n",
            "INFO:root:This is log message number 206\n",
            "INFO:root:This is log message number 207\n",
            "INFO:root:This is log message number 208\n",
            "INFO:root:This is log message number 209\n",
            "INFO:root:This is log message number 210\n",
            "INFO:root:This is log message number 211\n",
            "INFO:root:This is log message number 212\n",
            "INFO:root:This is log message number 213\n",
            "INFO:root:This is log message number 214\n",
            "INFO:root:This is log message number 215\n",
            "INFO:root:This is log message number 216\n",
            "INFO:root:This is log message number 217\n",
            "INFO:root:This is log message number 218\n",
            "INFO:root:This is log message number 219\n",
            "INFO:root:This is log message number 220\n",
            "INFO:root:This is log message number 221\n",
            "INFO:root:This is log message number 222\n",
            "INFO:root:This is log message number 223\n",
            "INFO:root:This is log message number 224\n",
            "INFO:root:This is log message number 225\n",
            "INFO:root:This is log message number 226\n",
            "INFO:root:This is log message number 227\n",
            "INFO:root:This is log message number 228\n",
            "INFO:root:This is log message number 229\n",
            "INFO:root:This is log message number 230\n",
            "INFO:root:This is log message number 231\n",
            "INFO:root:This is log message number 232\n",
            "INFO:root:This is log message number 233\n",
            "INFO:root:This is log message number 234\n",
            "INFO:root:This is log message number 235\n",
            "INFO:root:This is log message number 236\n",
            "INFO:root:This is log message number 237\n",
            "INFO:root:This is log message number 238\n",
            "INFO:root:This is log message number 239\n",
            "INFO:root:This is log message number 240\n",
            "INFO:root:This is log message number 241\n",
            "INFO:root:This is log message number 242\n",
            "INFO:root:This is log message number 243\n",
            "INFO:root:This is log message number 244\n",
            "INFO:root:This is log message number 245\n",
            "INFO:root:This is log message number 246\n",
            "INFO:root:This is log message number 247\n",
            "INFO:root:This is log message number 248\n",
            "INFO:root:This is log message number 249\n",
            "INFO:root:This is log message number 250\n",
            "INFO:root:This is log message number 251\n",
            "INFO:root:This is log message number 252\n",
            "INFO:root:This is log message number 253\n",
            "INFO:root:This is log message number 254\n",
            "INFO:root:This is log message number 255\n",
            "INFO:root:This is log message number 256\n",
            "INFO:root:This is log message number 257\n",
            "INFO:root:This is log message number 258\n",
            "INFO:root:This is log message number 259\n",
            "INFO:root:This is log message number 260\n",
            "INFO:root:This is log message number 261\n",
            "INFO:root:This is log message number 262\n",
            "INFO:root:This is log message number 263\n",
            "INFO:root:This is log message number 264\n",
            "INFO:root:This is log message number 265\n",
            "INFO:root:This is log message number 266\n",
            "INFO:root:This is log message number 267\n",
            "INFO:root:This is log message number 268\n",
            "INFO:root:This is log message number 269\n",
            "INFO:root:This is log message number 270\n",
            "INFO:root:This is log message number 271\n",
            "INFO:root:This is log message number 272\n",
            "INFO:root:This is log message number 273\n",
            "INFO:root:This is log message number 274\n",
            "INFO:root:This is log message number 275\n",
            "INFO:root:This is log message number 276\n",
            "INFO:root:This is log message number 277\n",
            "INFO:root:This is log message number 278\n",
            "INFO:root:This is log message number 279\n",
            "INFO:root:This is log message number 280\n",
            "INFO:root:This is log message number 281\n",
            "INFO:root:This is log message number 282\n",
            "INFO:root:This is log message number 283\n",
            "INFO:root:This is log message number 284\n",
            "INFO:root:This is log message number 285\n",
            "INFO:root:This is log message number 286\n",
            "INFO:root:This is log message number 287\n",
            "INFO:root:This is log message number 288\n",
            "INFO:root:This is log message number 289\n",
            "INFO:root:This is log message number 290\n",
            "INFO:root:This is log message number 291\n",
            "INFO:root:This is log message number 292\n",
            "INFO:root:This is log message number 293\n",
            "INFO:root:This is log message number 294\n",
            "INFO:root:This is log message number 295\n",
            "INFO:root:This is log message number 296\n",
            "INFO:root:This is log message number 297\n",
            "INFO:root:This is log message number 298\n",
            "INFO:root:This is log message number 299\n",
            "INFO:root:This is log message number 300\n",
            "INFO:root:This is log message number 301\n",
            "INFO:root:This is log message number 302\n",
            "INFO:root:This is log message number 303\n",
            "INFO:root:This is log message number 304\n",
            "INFO:root:This is log message number 305\n",
            "INFO:root:This is log message number 306\n",
            "INFO:root:This is log message number 307\n",
            "INFO:root:This is log message number 308\n",
            "INFO:root:This is log message number 309\n",
            "INFO:root:This is log message number 310\n",
            "INFO:root:This is log message number 311\n",
            "INFO:root:This is log message number 312\n",
            "INFO:root:This is log message number 313\n",
            "INFO:root:This is log message number 314\n",
            "INFO:root:This is log message number 315\n",
            "INFO:root:This is log message number 316\n",
            "INFO:root:This is log message number 317\n",
            "INFO:root:This is log message number 318\n",
            "INFO:root:This is log message number 319\n",
            "INFO:root:This is log message number 320\n",
            "INFO:root:This is log message number 321\n",
            "INFO:root:This is log message number 322\n",
            "INFO:root:This is log message number 323\n",
            "INFO:root:This is log message number 324\n",
            "INFO:root:This is log message number 325\n",
            "INFO:root:This is log message number 326\n",
            "INFO:root:This is log message number 327\n",
            "INFO:root:This is log message number 328\n",
            "INFO:root:This is log message number 329\n",
            "INFO:root:This is log message number 330\n",
            "INFO:root:This is log message number 331\n",
            "INFO:root:This is log message number 332\n",
            "INFO:root:This is log message number 333\n",
            "INFO:root:This is log message number 334\n",
            "INFO:root:This is log message number 335\n",
            "INFO:root:This is log message number 336\n",
            "INFO:root:This is log message number 337\n",
            "INFO:root:This is log message number 338\n",
            "INFO:root:This is log message number 339\n",
            "INFO:root:This is log message number 340\n",
            "INFO:root:This is log message number 341\n",
            "INFO:root:This is log message number 342\n",
            "INFO:root:This is log message number 343\n",
            "INFO:root:This is log message number 344\n",
            "INFO:root:This is log message number 345\n",
            "INFO:root:This is log message number 346\n",
            "INFO:root:This is log message number 347\n",
            "INFO:root:This is log message number 348\n",
            "INFO:root:This is log message number 349\n",
            "INFO:root:This is log message number 350\n",
            "INFO:root:This is log message number 351\n",
            "INFO:root:This is log message number 352\n",
            "INFO:root:This is log message number 353\n",
            "INFO:root:This is log message number 354\n",
            "INFO:root:This is log message number 355\n",
            "INFO:root:This is log message number 356\n",
            "INFO:root:This is log message number 357\n",
            "INFO:root:This is log message number 358\n",
            "INFO:root:This is log message number 359\n",
            "INFO:root:This is log message number 360\n",
            "INFO:root:This is log message number 361\n",
            "INFO:root:This is log message number 362\n",
            "INFO:root:This is log message number 363\n",
            "INFO:root:This is log message number 364\n",
            "INFO:root:This is log message number 365\n",
            "INFO:root:This is log message number 366\n",
            "INFO:root:This is log message number 367\n",
            "INFO:root:This is log message number 368\n",
            "INFO:root:This is log message number 369\n",
            "INFO:root:This is log message number 370\n",
            "INFO:root:This is log message number 371\n",
            "INFO:root:This is log message number 372\n",
            "INFO:root:This is log message number 373\n",
            "INFO:root:This is log message number 374\n",
            "INFO:root:This is log message number 375\n",
            "INFO:root:This is log message number 376\n",
            "INFO:root:This is log message number 377\n",
            "INFO:root:This is log message number 378\n",
            "INFO:root:This is log message number 379\n",
            "INFO:root:This is log message number 380\n",
            "INFO:root:This is log message number 381\n",
            "INFO:root:This is log message number 382\n",
            "INFO:root:This is log message number 383\n",
            "INFO:root:This is log message number 384\n",
            "INFO:root:This is log message number 385\n",
            "INFO:root:This is log message number 386\n",
            "INFO:root:This is log message number 387\n",
            "INFO:root:This is log message number 388\n",
            "INFO:root:This is log message number 389\n",
            "INFO:root:This is log message number 390\n",
            "INFO:root:This is log message number 391\n",
            "INFO:root:This is log message number 392\n",
            "INFO:root:This is log message number 393\n",
            "INFO:root:This is log message number 394\n",
            "INFO:root:This is log message number 395\n",
            "INFO:root:This is log message number 396\n",
            "INFO:root:This is log message number 397\n",
            "INFO:root:This is log message number 398\n",
            "INFO:root:This is log message number 399\n",
            "INFO:root:This is log message number 400\n",
            "INFO:root:This is log message number 401\n",
            "INFO:root:This is log message number 402\n",
            "INFO:root:This is log message number 403\n",
            "INFO:root:This is log message number 404\n",
            "INFO:root:This is log message number 405\n",
            "INFO:root:This is log message number 406\n",
            "INFO:root:This is log message number 407\n",
            "INFO:root:This is log message number 408\n",
            "INFO:root:This is log message number 409\n",
            "INFO:root:This is log message number 410\n",
            "INFO:root:This is log message number 411\n",
            "INFO:root:This is log message number 412\n",
            "INFO:root:This is log message number 413\n",
            "INFO:root:This is log message number 414\n",
            "INFO:root:This is log message number 415\n",
            "INFO:root:This is log message number 416\n",
            "INFO:root:This is log message number 417\n",
            "INFO:root:This is log message number 418\n",
            "INFO:root:This is log message number 419\n",
            "INFO:root:This is log message number 420\n",
            "INFO:root:This is log message number 421\n",
            "INFO:root:This is log message number 422\n",
            "INFO:root:This is log message number 423\n",
            "INFO:root:This is log message number 424\n",
            "INFO:root:This is log message number 425\n",
            "INFO:root:This is log message number 426\n",
            "INFO:root:This is log message number 427\n",
            "INFO:root:This is log message number 428\n",
            "INFO:root:This is log message number 429\n",
            "INFO:root:This is log message number 430\n",
            "INFO:root:This is log message number 431\n",
            "INFO:root:This is log message number 432\n",
            "INFO:root:This is log message number 433\n",
            "INFO:root:This is log message number 434\n",
            "INFO:root:This is log message number 435\n",
            "INFO:root:This is log message number 436\n",
            "INFO:root:This is log message number 437\n",
            "INFO:root:This is log message number 438\n",
            "INFO:root:This is log message number 439\n",
            "INFO:root:This is log message number 440\n",
            "INFO:root:This is log message number 441\n",
            "INFO:root:This is log message number 442\n",
            "INFO:root:This is log message number 443\n",
            "INFO:root:This is log message number 444\n",
            "INFO:root:This is log message number 445\n",
            "INFO:root:This is log message number 446\n",
            "INFO:root:This is log message number 447\n",
            "INFO:root:This is log message number 448\n",
            "INFO:root:This is log message number 449\n",
            "INFO:root:This is log message number 450\n",
            "INFO:root:This is log message number 451\n",
            "INFO:root:This is log message number 452\n",
            "INFO:root:This is log message number 453\n",
            "INFO:root:This is log message number 454\n",
            "INFO:root:This is log message number 455\n",
            "INFO:root:This is log message number 456\n",
            "INFO:root:This is log message number 457\n",
            "INFO:root:This is log message number 458\n",
            "INFO:root:This is log message number 459\n",
            "INFO:root:This is log message number 460\n",
            "INFO:root:This is log message number 461\n",
            "INFO:root:This is log message number 462\n",
            "INFO:root:This is log message number 463\n",
            "INFO:root:This is log message number 464\n",
            "INFO:root:This is log message number 465\n",
            "INFO:root:This is log message number 466\n",
            "INFO:root:This is log message number 467\n",
            "INFO:root:This is log message number 468\n",
            "INFO:root:This is log message number 469\n",
            "INFO:root:This is log message number 470\n",
            "INFO:root:This is log message number 471\n",
            "INFO:root:This is log message number 472\n",
            "INFO:root:This is log message number 473\n",
            "INFO:root:This is log message number 474\n",
            "INFO:root:This is log message number 475\n",
            "INFO:root:This is log message number 476\n",
            "INFO:root:This is log message number 477\n",
            "INFO:root:This is log message number 478\n",
            "INFO:root:This is log message number 479\n",
            "INFO:root:This is log message number 480\n",
            "INFO:root:This is log message number 481\n",
            "INFO:root:This is log message number 482\n",
            "INFO:root:This is log message number 483\n",
            "INFO:root:This is log message number 484\n",
            "INFO:root:This is log message number 485\n",
            "INFO:root:This is log message number 486\n",
            "INFO:root:This is log message number 487\n",
            "INFO:root:This is log message number 488\n",
            "INFO:root:This is log message number 489\n",
            "INFO:root:This is log message number 490\n",
            "INFO:root:This is log message number 491\n",
            "INFO:root:This is log message number 492\n",
            "INFO:root:This is log message number 493\n",
            "INFO:root:This is log message number 494\n",
            "INFO:root:This is log message number 495\n",
            "INFO:root:This is log message number 496\n",
            "INFO:root:This is log message number 497\n",
            "INFO:root:This is log message number 498\n",
            "INFO:root:This is log message number 499\n",
            "INFO:root:This is log message number 500\n",
            "INFO:root:This is log message number 501\n",
            "INFO:root:This is log message number 502\n",
            "INFO:root:This is log message number 503\n",
            "INFO:root:This is log message number 504\n",
            "INFO:root:This is log message number 505\n",
            "INFO:root:This is log message number 506\n",
            "INFO:root:This is log message number 507\n",
            "INFO:root:This is log message number 508\n",
            "INFO:root:This is log message number 509\n",
            "INFO:root:This is log message number 510\n",
            "INFO:root:This is log message number 511\n",
            "INFO:root:This is log message number 512\n",
            "INFO:root:This is log message number 513\n",
            "INFO:root:This is log message number 514\n",
            "INFO:root:This is log message number 515\n",
            "INFO:root:This is log message number 516\n",
            "INFO:root:This is log message number 517\n",
            "INFO:root:This is log message number 518\n",
            "INFO:root:This is log message number 519\n",
            "INFO:root:This is log message number 520\n",
            "INFO:root:This is log message number 521\n",
            "INFO:root:This is log message number 522\n",
            "INFO:root:This is log message number 523\n",
            "INFO:root:This is log message number 524\n",
            "INFO:root:This is log message number 525\n",
            "INFO:root:This is log message number 526\n",
            "INFO:root:This is log message number 527\n",
            "INFO:root:This is log message number 528\n",
            "INFO:root:This is log message number 529\n",
            "INFO:root:This is log message number 530\n",
            "INFO:root:This is log message number 531\n",
            "INFO:root:This is log message number 532\n",
            "INFO:root:This is log message number 533\n",
            "INFO:root:This is log message number 534\n",
            "INFO:root:This is log message number 535\n",
            "INFO:root:This is log message number 536\n",
            "INFO:root:This is log message number 537\n",
            "INFO:root:This is log message number 538\n",
            "INFO:root:This is log message number 539\n",
            "INFO:root:This is log message number 540\n",
            "INFO:root:This is log message number 541\n",
            "INFO:root:This is log message number 542\n",
            "INFO:root:This is log message number 543\n",
            "INFO:root:This is log message number 544\n",
            "INFO:root:This is log message number 545\n",
            "INFO:root:This is log message number 546\n",
            "INFO:root:This is log message number 547\n",
            "INFO:root:This is log message number 548\n",
            "INFO:root:This is log message number 549\n",
            "INFO:root:This is log message number 550\n",
            "INFO:root:This is log message number 551\n",
            "INFO:root:This is log message number 552\n",
            "INFO:root:This is log message number 553\n",
            "INFO:root:This is log message number 554\n",
            "INFO:root:This is log message number 555\n",
            "INFO:root:This is log message number 556\n",
            "INFO:root:This is log message number 557\n",
            "INFO:root:This is log message number 558\n",
            "INFO:root:This is log message number 559\n",
            "INFO:root:This is log message number 560\n",
            "INFO:root:This is log message number 561\n",
            "INFO:root:This is log message number 562\n",
            "INFO:root:This is log message number 563\n",
            "INFO:root:This is log message number 564\n",
            "INFO:root:This is log message number 565\n",
            "INFO:root:This is log message number 566\n",
            "INFO:root:This is log message number 567\n",
            "INFO:root:This is log message number 568\n",
            "INFO:root:This is log message number 569\n",
            "INFO:root:This is log message number 570\n",
            "INFO:root:This is log message number 571\n",
            "INFO:root:This is log message number 572\n",
            "INFO:root:This is log message number 573\n",
            "INFO:root:This is log message number 574\n",
            "INFO:root:This is log message number 575\n",
            "INFO:root:This is log message number 576\n",
            "INFO:root:This is log message number 577\n",
            "INFO:root:This is log message number 578\n",
            "INFO:root:This is log message number 579\n",
            "INFO:root:This is log message number 580\n",
            "INFO:root:This is log message number 581\n",
            "INFO:root:This is log message number 582\n",
            "INFO:root:This is log message number 583\n",
            "INFO:root:This is log message number 584\n",
            "INFO:root:This is log message number 585\n",
            "INFO:root:This is log message number 586\n",
            "INFO:root:This is log message number 587\n",
            "INFO:root:This is log message number 588\n",
            "INFO:root:This is log message number 589\n",
            "INFO:root:This is log message number 590\n",
            "INFO:root:This is log message number 591\n",
            "INFO:root:This is log message number 592\n",
            "INFO:root:This is log message number 593\n",
            "INFO:root:This is log message number 594\n",
            "INFO:root:This is log message number 595\n",
            "INFO:root:This is log message number 596\n",
            "INFO:root:This is log message number 597\n",
            "INFO:root:This is log message number 598\n",
            "INFO:root:This is log message number 599\n",
            "INFO:root:This is log message number 600\n",
            "INFO:root:This is log message number 601\n",
            "INFO:root:This is log message number 602\n",
            "INFO:root:This is log message number 603\n",
            "INFO:root:This is log message number 604\n",
            "INFO:root:This is log message number 605\n",
            "INFO:root:This is log message number 606\n",
            "INFO:root:This is log message number 607\n",
            "INFO:root:This is log message number 608\n",
            "INFO:root:This is log message number 609\n",
            "INFO:root:This is log message number 610\n",
            "INFO:root:This is log message number 611\n",
            "INFO:root:This is log message number 612\n",
            "INFO:root:This is log message number 613\n",
            "INFO:root:This is log message number 614\n",
            "INFO:root:This is log message number 615\n",
            "INFO:root:This is log message number 616\n",
            "INFO:root:This is log message number 617\n",
            "INFO:root:This is log message number 618\n",
            "INFO:root:This is log message number 619\n",
            "INFO:root:This is log message number 620\n",
            "INFO:root:This is log message number 621\n",
            "INFO:root:This is log message number 622\n",
            "INFO:root:This is log message number 623\n",
            "INFO:root:This is log message number 624\n",
            "INFO:root:This is log message number 625\n",
            "INFO:root:This is log message number 626\n",
            "INFO:root:This is log message number 627\n",
            "INFO:root:This is log message number 628\n",
            "INFO:root:This is log message number 629\n",
            "INFO:root:This is log message number 630\n",
            "INFO:root:This is log message number 631\n",
            "INFO:root:This is log message number 632\n",
            "INFO:root:This is log message number 633\n",
            "INFO:root:This is log message number 634\n",
            "INFO:root:This is log message number 635\n",
            "INFO:root:This is log message number 636\n",
            "INFO:root:This is log message number 637\n",
            "INFO:root:This is log message number 638\n",
            "INFO:root:This is log message number 639\n",
            "INFO:root:This is log message number 640\n",
            "INFO:root:This is log message number 641\n",
            "INFO:root:This is log message number 642\n",
            "INFO:root:This is log message number 643\n",
            "INFO:root:This is log message number 644\n",
            "INFO:root:This is log message number 645\n",
            "INFO:root:This is log message number 646\n",
            "INFO:root:This is log message number 647\n",
            "INFO:root:This is log message number 648\n",
            "INFO:root:This is log message number 649\n",
            "INFO:root:This is log message number 650\n",
            "INFO:root:This is log message number 651\n",
            "INFO:root:This is log message number 652\n",
            "INFO:root:This is log message number 653\n",
            "INFO:root:This is log message number 654\n",
            "INFO:root:This is log message number 655\n",
            "INFO:root:This is log message number 656\n",
            "INFO:root:This is log message number 657\n",
            "INFO:root:This is log message number 658\n",
            "INFO:root:This is log message number 659\n",
            "INFO:root:This is log message number 660\n",
            "INFO:root:This is log message number 661\n",
            "INFO:root:This is log message number 662\n",
            "INFO:root:This is log message number 663\n",
            "INFO:root:This is log message number 664\n",
            "INFO:root:This is log message number 665\n",
            "INFO:root:This is log message number 666\n",
            "INFO:root:This is log message number 667\n",
            "INFO:root:This is log message number 668\n",
            "INFO:root:This is log message number 669\n",
            "INFO:root:This is log message number 670\n",
            "INFO:root:This is log message number 671\n",
            "INFO:root:This is log message number 672\n",
            "INFO:root:This is log message number 673\n",
            "INFO:root:This is log message number 674\n",
            "INFO:root:This is log message number 675\n",
            "INFO:root:This is log message number 676\n",
            "INFO:root:This is log message number 677\n",
            "INFO:root:This is log message number 678\n",
            "INFO:root:This is log message number 679\n",
            "INFO:root:This is log message number 680\n",
            "INFO:root:This is log message number 681\n",
            "INFO:root:This is log message number 682\n",
            "INFO:root:This is log message number 683\n",
            "INFO:root:This is log message number 684\n",
            "INFO:root:This is log message number 685\n",
            "INFO:root:This is log message number 686\n",
            "INFO:root:This is log message number 687\n",
            "INFO:root:This is log message number 688\n",
            "INFO:root:This is log message number 689\n",
            "INFO:root:This is log message number 690\n",
            "INFO:root:This is log message number 691\n",
            "INFO:root:This is log message number 692\n",
            "INFO:root:This is log message number 693\n",
            "INFO:root:This is log message number 694\n",
            "INFO:root:This is log message number 695\n",
            "INFO:root:This is log message number 696\n",
            "INFO:root:This is log message number 697\n",
            "INFO:root:This is log message number 698\n",
            "INFO:root:This is log message number 699\n",
            "INFO:root:This is log message number 700\n",
            "INFO:root:This is log message number 701\n",
            "INFO:root:This is log message number 702\n",
            "INFO:root:This is log message number 703\n",
            "INFO:root:This is log message number 704\n",
            "INFO:root:This is log message number 705\n",
            "INFO:root:This is log message number 706\n",
            "INFO:root:This is log message number 707\n",
            "INFO:root:This is log message number 708\n",
            "INFO:root:This is log message number 709\n",
            "INFO:root:This is log message number 710\n",
            "INFO:root:This is log message number 711\n",
            "INFO:root:This is log message number 712\n",
            "INFO:root:This is log message number 713\n",
            "INFO:root:This is log message number 714\n",
            "INFO:root:This is log message number 715\n",
            "INFO:root:This is log message number 716\n",
            "INFO:root:This is log message number 717\n",
            "INFO:root:This is log message number 718\n",
            "INFO:root:This is log message number 719\n",
            "INFO:root:This is log message number 720\n",
            "INFO:root:This is log message number 721\n",
            "INFO:root:This is log message number 722\n",
            "INFO:root:This is log message number 723\n",
            "INFO:root:This is log message number 724\n",
            "INFO:root:This is log message number 725\n",
            "INFO:root:This is log message number 726\n",
            "INFO:root:This is log message number 727\n",
            "INFO:root:This is log message number 728\n",
            "INFO:root:This is log message number 729\n",
            "INFO:root:This is log message number 730\n",
            "INFO:root:This is log message number 731\n",
            "INFO:root:This is log message number 732\n",
            "INFO:root:This is log message number 733\n",
            "INFO:root:This is log message number 734\n",
            "INFO:root:This is log message number 735\n",
            "INFO:root:This is log message number 736\n",
            "INFO:root:This is log message number 737\n",
            "INFO:root:This is log message number 738\n",
            "INFO:root:This is log message number 739\n",
            "INFO:root:This is log message number 740\n",
            "INFO:root:This is log message number 741\n",
            "INFO:root:This is log message number 742\n",
            "INFO:root:This is log message number 743\n",
            "INFO:root:This is log message number 744\n",
            "INFO:root:This is log message number 745\n",
            "INFO:root:This is log message number 746\n",
            "INFO:root:This is log message number 747\n",
            "INFO:root:This is log message number 748\n",
            "INFO:root:This is log message number 749\n",
            "INFO:root:This is log message number 750\n",
            "INFO:root:This is log message number 751\n",
            "INFO:root:This is log message number 752\n",
            "INFO:root:This is log message number 753\n",
            "INFO:root:This is log message number 754\n",
            "INFO:root:This is log message number 755\n",
            "INFO:root:This is log message number 756\n",
            "INFO:root:This is log message number 757\n",
            "INFO:root:This is log message number 758\n",
            "INFO:root:This is log message number 759\n",
            "INFO:root:This is log message number 760\n",
            "INFO:root:This is log message number 761\n",
            "INFO:root:This is log message number 762\n",
            "INFO:root:This is log message number 763\n",
            "INFO:root:This is log message number 764\n",
            "INFO:root:This is log message number 765\n",
            "INFO:root:This is log message number 766\n",
            "INFO:root:This is log message number 767\n",
            "INFO:root:This is log message number 768\n",
            "INFO:root:This is log message number 769\n",
            "INFO:root:This is log message number 770\n",
            "INFO:root:This is log message number 771\n",
            "INFO:root:This is log message number 772\n",
            "INFO:root:This is log message number 773\n",
            "INFO:root:This is log message number 774\n",
            "INFO:root:This is log message number 775\n",
            "INFO:root:This is log message number 776\n",
            "INFO:root:This is log message number 777\n",
            "INFO:root:This is log message number 778\n",
            "INFO:root:This is log message number 779\n",
            "INFO:root:This is log message number 780\n",
            "INFO:root:This is log message number 781\n",
            "INFO:root:This is log message number 782\n",
            "INFO:root:This is log message number 783\n",
            "INFO:root:This is log message number 784\n",
            "INFO:root:This is log message number 785\n",
            "INFO:root:This is log message number 786\n",
            "INFO:root:This is log message number 787\n",
            "INFO:root:This is log message number 788\n",
            "INFO:root:This is log message number 789\n",
            "INFO:root:This is log message number 790\n",
            "INFO:root:This is log message number 791\n",
            "INFO:root:This is log message number 792\n",
            "INFO:root:This is log message number 793\n",
            "INFO:root:This is log message number 794\n",
            "INFO:root:This is log message number 795\n",
            "INFO:root:This is log message number 796\n",
            "INFO:root:This is log message number 797\n",
            "INFO:root:This is log message number 798\n",
            "INFO:root:This is log message number 799\n",
            "INFO:root:This is log message number 800\n",
            "INFO:root:This is log message number 801\n",
            "INFO:root:This is log message number 802\n",
            "INFO:root:This is log message number 803\n",
            "INFO:root:This is log message number 804\n",
            "INFO:root:This is log message number 805\n",
            "INFO:root:This is log message number 806\n",
            "INFO:root:This is log message number 807\n",
            "INFO:root:This is log message number 808\n",
            "INFO:root:This is log message number 809\n",
            "INFO:root:This is log message number 810\n",
            "INFO:root:This is log message number 811\n",
            "INFO:root:This is log message number 812\n",
            "INFO:root:This is log message number 813\n",
            "INFO:root:This is log message number 814\n",
            "INFO:root:This is log message number 815\n",
            "INFO:root:This is log message number 816\n",
            "INFO:root:This is log message number 817\n",
            "INFO:root:This is log message number 818\n",
            "INFO:root:This is log message number 819\n",
            "INFO:root:This is log message number 820\n",
            "INFO:root:This is log message number 821\n",
            "INFO:root:This is log message number 822\n",
            "INFO:root:This is log message number 823\n",
            "INFO:root:This is log message number 824\n",
            "INFO:root:This is log message number 825\n",
            "INFO:root:This is log message number 826\n",
            "INFO:root:This is log message number 827\n",
            "INFO:root:This is log message number 828\n",
            "INFO:root:This is log message number 829\n",
            "INFO:root:This is log message number 830\n",
            "INFO:root:This is log message number 831\n",
            "INFO:root:This is log message number 832\n",
            "INFO:root:This is log message number 833\n",
            "INFO:root:This is log message number 834\n",
            "INFO:root:This is log message number 835\n",
            "INFO:root:This is log message number 836\n",
            "INFO:root:This is log message number 837\n",
            "INFO:root:This is log message number 838\n",
            "INFO:root:This is log message number 839\n",
            "INFO:root:This is log message number 840\n",
            "INFO:root:This is log message number 841\n",
            "INFO:root:This is log message number 842\n",
            "INFO:root:This is log message number 843\n",
            "INFO:root:This is log message number 844\n",
            "INFO:root:This is log message number 845\n",
            "INFO:root:This is log message number 846\n",
            "INFO:root:This is log message number 847\n",
            "INFO:root:This is log message number 848\n",
            "INFO:root:This is log message number 849\n",
            "INFO:root:This is log message number 850\n",
            "INFO:root:This is log message number 851\n",
            "INFO:root:This is log message number 852\n",
            "INFO:root:This is log message number 853\n",
            "INFO:root:This is log message number 854\n",
            "INFO:root:This is log message number 855\n",
            "INFO:root:This is log message number 856\n",
            "INFO:root:This is log message number 857\n",
            "INFO:root:This is log message number 858\n",
            "INFO:root:This is log message number 859\n",
            "INFO:root:This is log message number 860\n",
            "INFO:root:This is log message number 861\n",
            "INFO:root:This is log message number 862\n",
            "INFO:root:This is log message number 863\n",
            "INFO:root:This is log message number 864\n",
            "INFO:root:This is log message number 865\n",
            "INFO:root:This is log message number 866\n",
            "INFO:root:This is log message number 867\n",
            "INFO:root:This is log message number 868\n",
            "INFO:root:This is log message number 869\n",
            "INFO:root:This is log message number 870\n",
            "INFO:root:This is log message number 871\n",
            "INFO:root:This is log message number 872\n",
            "INFO:root:This is log message number 873\n",
            "INFO:root:This is log message number 874\n",
            "INFO:root:This is log message number 875\n",
            "INFO:root:This is log message number 876\n",
            "INFO:root:This is log message number 877\n",
            "INFO:root:This is log message number 878\n",
            "INFO:root:This is log message number 879\n",
            "INFO:root:This is log message number 880\n",
            "INFO:root:This is log message number 881\n",
            "INFO:root:This is log message number 882\n",
            "INFO:root:This is log message number 883\n",
            "INFO:root:This is log message number 884\n",
            "INFO:root:This is log message number 885\n",
            "INFO:root:This is log message number 886\n",
            "INFO:root:This is log message number 887\n",
            "INFO:root:This is log message number 888\n",
            "INFO:root:This is log message number 889\n",
            "INFO:root:This is log message number 890\n",
            "INFO:root:This is log message number 891\n",
            "INFO:root:This is log message number 892\n",
            "INFO:root:This is log message number 893\n",
            "INFO:root:This is log message number 894\n",
            "INFO:root:This is log message number 895\n",
            "INFO:root:This is log message number 896\n",
            "INFO:root:This is log message number 897\n",
            "INFO:root:This is log message number 898\n",
            "INFO:root:This is log message number 899\n",
            "INFO:root:This is log message number 900\n",
            "INFO:root:This is log message number 901\n",
            "INFO:root:This is log message number 902\n",
            "INFO:root:This is log message number 903\n",
            "INFO:root:This is log message number 904\n",
            "INFO:root:This is log message number 905\n",
            "INFO:root:This is log message number 906\n",
            "INFO:root:This is log message number 907\n",
            "INFO:root:This is log message number 908\n",
            "INFO:root:This is log message number 909\n",
            "INFO:root:This is log message number 910\n",
            "INFO:root:This is log message number 911\n",
            "INFO:root:This is log message number 912\n",
            "INFO:root:This is log message number 913\n",
            "INFO:root:This is log message number 914\n",
            "INFO:root:This is log message number 915\n",
            "INFO:root:This is log message number 916\n",
            "INFO:root:This is log message number 917\n",
            "INFO:root:This is log message number 918\n",
            "INFO:root:This is log message number 919\n",
            "INFO:root:This is log message number 920\n",
            "INFO:root:This is log message number 921\n",
            "INFO:root:This is log message number 922\n",
            "INFO:root:This is log message number 923\n",
            "INFO:root:This is log message number 924\n",
            "INFO:root:This is log message number 925\n",
            "INFO:root:This is log message number 926\n",
            "INFO:root:This is log message number 927\n",
            "INFO:root:This is log message number 928\n",
            "INFO:root:This is log message number 929\n",
            "INFO:root:This is log message number 930\n",
            "INFO:root:This is log message number 931\n",
            "INFO:root:This is log message number 932\n",
            "INFO:root:This is log message number 933\n",
            "INFO:root:This is log message number 934\n",
            "INFO:root:This is log message number 935\n",
            "INFO:root:This is log message number 936\n",
            "INFO:root:This is log message number 937\n",
            "INFO:root:This is log message number 938\n",
            "INFO:root:This is log message number 939\n",
            "INFO:root:This is log message number 940\n",
            "INFO:root:This is log message number 941\n",
            "INFO:root:This is log message number 942\n",
            "INFO:root:This is log message number 943\n",
            "INFO:root:This is log message number 944\n",
            "INFO:root:This is log message number 945\n",
            "INFO:root:This is log message number 946\n",
            "INFO:root:This is log message number 947\n",
            "INFO:root:This is log message number 948\n",
            "INFO:root:This is log message number 949\n",
            "INFO:root:This is log message number 950\n",
            "INFO:root:This is log message number 951\n",
            "INFO:root:This is log message number 952\n",
            "INFO:root:This is log message number 953\n",
            "INFO:root:This is log message number 954\n",
            "INFO:root:This is log message number 955\n",
            "INFO:root:This is log message number 956\n",
            "INFO:root:This is log message number 957\n",
            "INFO:root:This is log message number 958\n",
            "INFO:root:This is log message number 959\n",
            "INFO:root:This is log message number 960\n",
            "INFO:root:This is log message number 961\n",
            "INFO:root:This is log message number 962\n",
            "INFO:root:This is log message number 963\n",
            "INFO:root:This is log message number 964\n",
            "INFO:root:This is log message number 965\n",
            "INFO:root:This is log message number 966\n",
            "INFO:root:This is log message number 967\n",
            "INFO:root:This is log message number 968\n",
            "INFO:root:This is log message number 969\n",
            "INFO:root:This is log message number 970\n",
            "INFO:root:This is log message number 971\n",
            "INFO:root:This is log message number 972\n",
            "INFO:root:This is log message number 973\n",
            "INFO:root:This is log message number 974\n",
            "INFO:root:This is log message number 975\n",
            "INFO:root:This is log message number 976\n",
            "INFO:root:This is log message number 977\n",
            "INFO:root:This is log message number 978\n",
            "INFO:root:This is log message number 979\n",
            "INFO:root:This is log message number 980\n",
            "INFO:root:This is log message number 981\n",
            "INFO:root:This is log message number 982\n",
            "INFO:root:This is log message number 983\n",
            "INFO:root:This is log message number 984\n",
            "INFO:root:This is log message number 985\n",
            "INFO:root:This is log message number 986\n",
            "INFO:root:This is log message number 987\n",
            "INFO:root:This is log message number 988\n",
            "INFO:root:This is log message number 989\n",
            "INFO:root:This is log message number 990\n",
            "INFO:root:This is log message number 991\n",
            "INFO:root:This is log message number 992\n",
            "INFO:root:This is log message number 993\n",
            "INFO:root:This is log message number 994\n",
            "INFO:root:This is log message number 995\n",
            "INFO:root:This is log message number 996\n",
            "INFO:root:This is log message number 997\n",
            "INFO:root:This is log message number 998\n",
            "INFO:root:This is log message number 999\n",
            "INFO:root:This is log message number 1000\n"
          ]
        },
        {
          "output_type": "stream",
          "name": "stdout",
          "text": [
            "Logging complete. Check the 'rotated_log.log' file and its rotations.\n"
          ]
        }
      ]
    },
    {
      "cell_type": "markdown",
      "source": [
        "**19. Write a program that handles both IndexError and KeyError using a try-except block**"
      ],
      "metadata": {
        "id": "MWpya8UMHCFV"
      }
    },
    {
      "cell_type": "code",
      "source": [
        "def handle_error():\n",
        "    l = [10, 20, 30, 40]\n",
        "    d = {'name':'Satya', 'height':5.8}\n",
        "\n",
        "    try:\n",
        "        print('One of the list item is', l[5])\n",
        "        print('One of the dictionary item is', d['age'])\n",
        "    except IndexError as e:\n",
        "        print('We found Index error', e)\n",
        "    except KeyError as e:\n",
        "        print('We found key error', e)\n",
        "\n",
        "handle_error()\n",
        "\n",
        "# For showing both the errors we can use separate try-except for each operation"
      ],
      "metadata": {
        "colab": {
          "base_uri": "https://localhost:8080/"
        },
        "id": "EZJFOQa3IpP9",
        "outputId": "a48fe3c7-ade6-4f7f-9c43-6649af0e19c2"
      },
      "execution_count": null,
      "outputs": [
        {
          "output_type": "stream",
          "name": "stdout",
          "text": [
            "We found Index error list index out of range\n"
          ]
        }
      ]
    },
    {
      "cell_type": "markdown",
      "source": [
        "**20. How would you open a file and read its contents using a context manager in Python**"
      ],
      "metadata": {
        "id": "KBDBMkKEHH4I"
      }
    },
    {
      "cell_type": "code",
      "source": [
        "try:\n",
        "    with open('emp.txt', 'r') as f:\n",
        "        content = f.read()\n",
        "        print(content)\n",
        "except FileNotFoundError:\n",
        "    print(\"The file 'emp.txt' was not found.\")"
      ],
      "metadata": {
        "id": "QhFyfBpOIvoZ",
        "colab": {
          "base_uri": "https://localhost:8080/"
        },
        "outputId": "d06cb016-a9ea-49ca-93f4-d54edcd02962"
      },
      "execution_count": 7,
      "outputs": [
        {
          "output_type": "stream",
          "name": "stdout",
          "text": [
            "I am an employee \n",
            "I am working in a bank \n",
            "\n"
          ]
        }
      ]
    },
    {
      "cell_type": "markdown",
      "source": [
        "**21. Write a Python program that reads a file and prints the number of occurrences of a specific word**"
      ],
      "metadata": {
        "id": "3RujLq4KHKTu"
      }
    },
    {
      "cell_type": "code",
      "source": [
        "def count_words(filename, word):\n",
        "    try:\n",
        "        with open(filename, 'r') as f:\n",
        "            content = f.read()\n",
        "            res = content.split().count(word)\n",
        "            print(f'The word {word} occurs {res} time in the file')\n",
        "    except FileNotFoundError as e:\n",
        "        print('The file does not exist', e)\n",
        "\n",
        "count_words('clg.txt', 'I')"
      ],
      "metadata": {
        "colab": {
          "base_uri": "https://localhost:8080/"
        },
        "id": "P53O6h2MIt7A",
        "outputId": "692304f6-b971-4a74-ade9-401b2e184ee8"
      },
      "execution_count": null,
      "outputs": [
        {
          "output_type": "stream",
          "name": "stdout",
          "text": [
            "The word I occurs 2 time in the file\n"
          ]
        }
      ]
    },
    {
      "cell_type": "markdown",
      "source": [
        "**22.  How can you check if a file is empty before attempting to read its contents**"
      ],
      "metadata": {
        "id": "V8UmE3A-HN0N"
      }
    },
    {
      "cell_type": "code",
      "source": [
        "import os\n",
        "\n",
        "if os.path.getsize('clg.txt') == 0:\n",
        "    print('The file is empty')\n",
        "else:\n",
        "    with open('clg.txt', 'r') as f:\n",
        "        content = f.read()\n",
        "        print(content)"
      ],
      "metadata": {
        "id": "2ItJQRsvI2Un",
        "outputId": "4230ac33-0082-43c1-a360-c805ee2ad93d",
        "colab": {
          "base_uri": "https://localhost:8080/"
        }
      },
      "execution_count": null,
      "outputs": [
        {
          "output_type": "stream",
          "name": "stdout",
          "text": [
            "I am an employee \n",
            "I am working in a bank \n",
            "\n"
          ]
        }
      ]
    },
    {
      "cell_type": "markdown",
      "source": [
        "**23. Write a Python program that writes to a log file when an error occurs during file handling.**"
      ],
      "metadata": {
        "id": "V0B5fRJTHQoM"
      }
    },
    {
      "cell_type": "code",
      "source": [
        "import logging\n",
        "logging.basicConfig(filename='myfile.log', level=logging.ERROR, format='%(asctime)s %(message)s')\n",
        "\n",
        "try:\n",
        "    with open('abc.txt', 'r') as f:\n",
        "        content = f.read()\n",
        "        print(content)\n",
        "except FileNotFoundError as e:\n",
        "    logging.error('FileNotFoundError: %s', e)\n",
        "    print('The file was not found')"
      ],
      "metadata": {
        "id": "XR2I6c42I5xD",
        "outputId": "e1290126-2e45-4d04-8a52-f763185947f6",
        "colab": {
          "base_uri": "https://localhost:8080/"
        }
      },
      "execution_count": null,
      "outputs": [
        {
          "output_type": "stream",
          "name": "stderr",
          "text": [
            "ERROR:root:FileNotFoundError: [Errno 2] No such file or directory: 'abc.txt'\n"
          ]
        },
        {
          "output_type": "stream",
          "name": "stdout",
          "text": [
            "The file was not found\n"
          ]
        }
      ]
    }
  ]
}